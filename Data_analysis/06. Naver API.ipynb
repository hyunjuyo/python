{
 "cells": [
  {
   "cell_type": "markdown",
   "id": "769a641a",
   "metadata": {},
   "source": [
    "# 06. Naver API"
   ]
  },
  {
   "cell_type": "markdown",
   "id": "58d5e754",
   "metadata": {},
   "source": [
    "## 1. 네이버 API 사용 등록 "
   ]
  },
  {
   "cell_type": "markdown",
   "id": "bedef136",
   "metadata": {},
   "source": [
    "- 네이버 개발자 센터 \n",
    "- https://developers.naver.com/main/\n",
    "- Application \n",
    "    - 어플리케이션 등록\n",
    "    - 어플리케이션 이름 ds_study \n",
    "    - 사용 API \n",
    "        - 검색\n",
    "        - 데이터랩(검색어트렌드)\n",
    "        - 데이터랩(쇼핑인사이트)\n",
    "    - 환경추가 \n",
    "        - WEB 설정 \n",
    "        - http://localhost\n",
    "    - Clienct ID: H2_6lcavpVyHW8211rUq\n",
    "    - Clienct Secret: D1XBjnKTe9\n",
    "    - https://developers.naver.com/apps/#/myapps/H2_6lcavpVyHW8211rUq/overview "
   ]
  },
  {
   "cell_type": "markdown",
   "id": "26cd8950",
   "metadata": {},
   "source": [
    "- Su_iqO3kYamcpQ5Ctn_5\n",
    "- _iYVdmG6E7\n",
    "- https://developers.naver.com/apps/#/myapps/Su_iqO3kYamcpQ5Ctn_5/overview"
   ]
  },
  {
   "cell_type": "markdown",
   "id": "0e87e70b",
   "metadata": {},
   "source": [
    "## 2. 네이버 검색 API 사용하기"
   ]
  },
  {
   "cell_type": "markdown",
   "id": "12ed11bf",
   "metadata": {},
   "source": [
    "- https://developers.naver.com/docs/serviceapi/search/blog/blog.md#%EB%B8%94%EB%A1%9C%EA%B7%B8 # 개발 가이드 "
   ]
  },
  {
   "cell_type": "markdown",
   "id": "d83c95ae",
   "metadata": {},
   "source": [
    "- urllib: http 프로토콜에 따라서 서버의 요청/응답을 처리하기 위한 모듈 \n",
    "- urllib.request: 클라이언트의 요청을 처리하는 모듈 \n",
    "- urllib.parse: url 주소에 대한 분석 "
   ]
  },
  {
   "cell_type": "markdown",
   "id": "5af72f49",
   "metadata": {},
   "source": [
    "## 검색: 블로그(blog)"
   ]
  },
  {
   "cell_type": "code",
   "execution_count": 1,
   "id": "8999354d",
   "metadata": {
    "scrolled": true
   },
   "outputs": [
    {
     "name": "stdout",
     "output_type": "stream",
     "text": [
      "{\n",
      "\"lastBuildDate\": \"Tue, 12 Oct 2021 17:02:57 +0900\",\n",
      "\"total\": 248658,\n",
      "\"start\": 1,\n",
      "\"display\": 10,\n",
      "\"items\": [\n",
      "{\n",
      "\"title\": \"<b>파이썬</b> 학원 실용적 커리큘럼!\",\n",
      "\"link\": \"https:\\/\\/blog.naver.com\\/ghsm486?Redirect=Log&logNo=222462898734\",\n",
      "\"description\": \"저는 원래 국제회의 분야 취직을 희망했는데, 이 시국에 신규 채용 0건이었기 때문에 <b>파이썬</b> 학원으로... 저는 이 중에서 네덜란드 개발자 귀도 반 로섬이 만든 <b>파이썬</b>을 골랐는데요. 21세기 이 시점, 모든... \",\n",
      "\"bloggername\": \"매일매일 더 행복해\",\n",
      "\"bloggerlink\": \"https://blog.naver.com/ghsm486\",\n",
      "\"postdate\": \"20210809\"\n",
      "\n",
      "},\n",
      "{\n",
      "\"title\": \"빅데이터학원 <b>파이썬</b>부터 R까지 배워보기\",\n",
      "\"link\": \"https:\\/\\/blog.naver.com\\/iamwandering?Redirect=Log&logNo=222447282929\",\n",
      "\"description\": \"수업은 <b>파이썬</b>을 기반으로 기초적인 데이터 분석과 머신러닝, 빅데이터 분석 등을 배울 수 있는... 주로 기본적으로 사용되기도하고 실무에서도 많이 활용되고 있는 <b>파이썬</b>의 기초적인 문법과 문자열, 자료구조... \",\n",
      "\"bloggername\": \"매일이 행복\",\n",
      "\"bloggerlink\": \"https://blog.naver.com/iamwandering\",\n",
      "\"postdate\": \"20210727\"\n",
      "\n",
      "},\n",
      "{\n",
      "\"title\": \"<b>파이썬</b> 학원 다니면서 기본기를 제대로 잡다!\",\n",
      "\"link\": \"https:\\/\\/blog.naver.com\\/adorable722?Redirect=Log&logNo=222390951475\",\n",
      "\"description\": \"<b>파이썬</b> 학원 다니면서 기본기를 제대로 잡다! 요즘에는 회사에서도 프로그래밍 능력을 요구하는 경우가... <b>파이썬</b> 학원에 다니면서, 더 큰 꿈을 키우고 있어요. 코딩을 해보신 분들은 모두 알고 계실 텐데요.... \",\n",
      "\"bloggername\": \"마음이 가는 그대로♡\",\n",
      "\"bloggerlink\": \"https://blog.naver.com/adorable722\",\n",
      "\"postdate\": \"20210609\"\n",
      "\n",
      "},\n",
      "{\n",
      "\"title\": \"<b>파이썬</b>학원 수월한 과정!\",\n",
      "\"link\": \"https:\\/\\/blog.naver.com\\/bredpark1004?Redirect=Log&logNo=222423051052\",\n",
      "\"description\": \"<b>파이썬</b>학원 수월한 과정! 인생을 이렇게 살아도 되나 싶을 정도로, 목표가 없었습니다. 이러한 사람들을... 어떤 걸 배울 지 여러 차례 고민을 해보다가, <b>파이썬</b>이라는 프로그래밍 언어를 알게 되었습니다.... \",\n",
      "\"bloggername\": \"핫키워드뉴스:: 공식블로그\",\n",
      "\"bloggerlink\": \"https://blog.naver.com/bredpark1004\",\n",
      "\"postdate\": \"20210707\"\n",
      "\n",
      "},\n",
      "{\n",
      "\"title\": \"<b>파이썬</b>학원 일단 시작부터 해보자!\",\n",
      "\"link\": \"https:\\/\\/blog.naver.com\\/yosuleye?Redirect=Log&logNo=222531078904\",\n",
      "\"description\": \"#<b>파이썬</b>학원 저는 어렸을 때부터 안 좋은 버릇이 있었어요. 뭘 하기 전에 생각이 너무 많고 망설임이... 그런 제가 <b>파이썬</b>학원에 등록하겠다는 용기를 내는 것도 어떻게 보면 참 쉽지 않은 결정이에요.... \",\n",
      "\"bloggername\": \"yosuleye님의 블로그\",\n",
      "\"bloggerlink\": \"https://blog.naver.com/yosuleye\",\n",
      "\"postdate\": \"20211008\"\n",
      "\n",
      "},\n",
      "{\n",
      "\"title\": \"<b>파이썬</b> 자격증 신뢰할 수 있는 체계\",\n",
      "\"link\": \"https:\\/\\/blog.naver.com\\/h_4149?Redirect=Log&logNo=222530744283\",\n",
      "\"description\": \"프로그래밍에 관심이 있는 사람으로서 그에 맞는 대학교 전공을 선택했다면 어떻게든 졸업 전에 <b>파이썬</b>... 요즘에는 난이도, 범용성, 생산성적인 면에서도 더 넓고 좋아진 프로그래밍 언어인 <b>파이썬</b>이 나오게... \",\n",
      "\"bloggername\": \"Galaxy in my mind\",\n",
      "\"bloggerlink\": \"https://blog.naver.com/h_4149\",\n",
      "\"postdate\": \"20211008\"\n",
      "\n",
      "},\n",
      "{\n",
      "\"title\": \"<b>파이썬</b> 프로그래밍 독학, 클룸 유데미 강의에서!\",\n",
      "\"link\": \"https:\\/\\/blog.naver.com\\/supapa13?Redirect=Log&logNo=222519682757\",\n",
      "\"description\": \"대표적으로 <b>파이썬</b> 프로그래밍이 있습니다. <b>파이썬</b>은 사회 각계각층 다양한 분야에서 통용되는 프로그래밍 언어입니다. 개별적으로 공부하려는 분들도 꽤 많습니다. 하지만 <b>파이썬</b>은 독학이 의외로 쉽지... \",\n",
      "\"bloggername\": \"세수하면이병헌 IT, 육아\",\n",
      "\"bloggerlink\": \"https://blog.naver.com/supapa13\",\n",
      "\"postdate\": \"20210928\"\n",
      "\n",
      "},\n",
      "{\n",
      "\"title\": \"<b>파이썬</b> 자격증 배움으로 성장하기\",\n",
      "\"link\": \"https:\\/\\/blog.naver.com\\/kyrian75?Redirect=Log&logNo=222523178783\",\n",
      "\"description\": \"제가 원하는 자리와 가장 잘 맞는 걸 고르려고 하다 보니까 <b>파이썬</b> 자격증이 필요할 거 같더라고요.... 단순히 <b>파이썬</b> 내용만 가르쳐 주는 게 아니라 기업에 지원서를 낼 때 어떤 부분을 고려해야 할지 자세하게... \",\n",
      "\"bloggername\": \"I'm still alive\",\n",
      "\"bloggerlink\": \"https://blog.naver.com/kyrian75\",\n",
      "\"postdate\": \"20211001\"\n",
      "\n",
      "},\n",
      "{\n",
      "\"title\": \"<b>파이썬</b> 자격증 전망이 좋은 이유\",\n",
      "\"link\": \"https:\\/\\/blog.naver.com\\/sky00141?Redirect=Log&logNo=222520797557\",\n",
      "\"description\": \"그래서 전공을 살려야 할지 포기해야 할지 고민이 아주 많았는데, 친구의 권유로 함께 <b>파이썬</b> 자격증... 등록부터 시작해서 <b>파이썬</b> 자격증과 관련해 어떤 교육을 할지에 대해서, 그리고 나중에 구직까지 교육... \",\n",
      "\"bloggername\": \"제이의 IT Security 블로그\",\n",
      "\"bloggerlink\": \"https://blog.naver.com/sky00141\",\n",
      "\"postdate\": \"20210929\"\n",
      "\n",
      "},\n",
      "{\n",
      "\"title\": \"<b>파이썬</b> 설치는 초보자에게 아나콘다가 편합니다.\",\n",
      "\"link\": \"https:\\/\\/blog.naver.com\\/ocmarketing?Redirect=Log&logNo=222197056590\",\n",
      "\"description\": \"안녕하세요, 오늘 부터는 <b>파이썬</b> 강의를 하나씩 해보려고 합니다. 일단 저도 배우는 입장이라... 그래서 첫번째 시간에 <b>파이썬</b> 설치를 하려고 하는데요, 어라? <b>파이썬</b>에 가서 바로 설치를 하는 것이... \",\n",
      "\"bloggername\": \"초튜터 X 오씨네학교\",\n",
      "\"bloggerlink\": \"https://blog.naver.com/ocmarketing\",\n",
      "\"postdate\": \"20210105\"\n",
      "\n",
      "}\n",
      "]\n",
      "}\n",
      "\n"
     ]
    }
   ],
   "source": [
    "# 네이버 검색 API예제는 블로그를 비롯 전문자료까지 호출방법이 동일하므로 blog검색만 대표로 예제를 올렸습니다.\n",
    "# 네이버 검색 Open API 예제 - 블로그 검색\n",
    "import os\n",
    "import sys\n",
    "import urllib.request\n",
    "\n",
    "client_id = \"Su_iqO3kYamcpQ5Ctn_5\"  # 직접 입력\n",
    "client_secret = \"_iYVdmG6E7\"  # 직접 입력\n",
    "\n",
    "encText = urllib.parse.quote(\"파이썬\")  # 검색어로 \"파이썬\" 입력함\n",
    "url = \"https://openapi.naver.com/v1/search/blog?query=\" + encText # json 결과\n",
    "# url = \"https://openapi.naver.com/v1/search/blog.xml?query=\" + encText # xml 결과\n",
    "request = urllib.request.Request(url)\n",
    "request.add_header(\"X-Naver-Client-Id\",client_id)\n",
    "request.add_header(\"X-Naver-Client-Secret\",client_secret)\n",
    "response = urllib.request.urlopen(request)\n",
    "rescode = response.getcode()\n",
    "\n",
    "if(rescode==200):\n",
    "    response_body = response.read()\n",
    "    print(response_body.decode('utf-8'))\n",
    "else:\n",
    "    print(\"Error Code:\" + rescode)"
   ]
  },
  {
   "cell_type": "code",
   "execution_count": 6,
   "id": "51658011",
   "metadata": {},
   "outputs": [
    {
     "data": {
      "text/plain": [
       "<http.client.HTTPResponse at 0x2f430989fd0>"
      ]
     },
     "execution_count": 6,
     "metadata": {},
     "output_type": "execute_result"
    }
   ],
   "source": [
    "response"
   ]
  },
  {
   "cell_type": "code",
   "execution_count": 4,
   "id": "414d4599",
   "metadata": {},
   "outputs": [
    {
     "data": {
      "text/plain": [
       "(200, 200, 200)"
      ]
     },
     "execution_count": 4,
     "metadata": {},
     "output_type": "execute_result"
    }
   ],
   "source": [
    "response.getcode(), response.code, response.status"
   ]
  },
  {
   "cell_type": "code",
   "execution_count": 7,
   "id": "ce8738e1",
   "metadata": {},
   "outputs": [
    {
     "data": {
      "text/plain": [
       "b''"
      ]
     },
     "execution_count": 7,
     "metadata": {},
     "output_type": "execute_result"
    }
   ],
   "source": [
    "response.read()  # 위에서 이미 읽어서 \"response_body\"변수에 담아줬으므로 새로 읽어지는 내용은 없는 듯!"
   ]
  },
  {
   "cell_type": "code",
   "execution_count": 8,
   "id": "7dc8db1a",
   "metadata": {},
   "outputs": [
    {
     "data": {
      "text/plain": [
       "b'{\\n\"lastBuildDate\": \"Tue, 12 Oct 2021 17:02:57 +0900\",\\n\"total\": 248658,\\n\"start\": 1,\\n\"display\": 10,\\n\"items\": [\\n{\\n\"title\": \"<b>\\xed\\x8c\\x8c\\xec\\x9d\\xb4\\xec\\x8d\\xac</b> \\xed\\x95\\x99\\xec\\x9b\\x90 \\xec\\x8b\\xa4\\xec\\x9a\\xa9\\xec\\xa0\\x81 \\xec\\xbb\\xa4\\xeb\\xa6\\xac\\xed\\x81\\x98\\xeb\\x9f\\xbc!\",\\n\"link\": \"https:\\\\/\\\\/blog.naver.com\\\\/ghsm486?Redirect=Log&logNo=222462898734\",\\n\"description\": \"\\xec\\xa0\\x80\\xeb\\x8a\\x94 \\xec\\x9b\\x90\\xeb\\x9e\\x98 \\xea\\xb5\\xad\\xec\\xa0\\x9c\\xed\\x9a\\x8c\\xec\\x9d\\x98 \\xeb\\xb6\\x84\\xec\\x95\\xbc \\xec\\xb7\\xa8\\xec\\xa7\\x81\\xec\\x9d\\x84 \\xed\\x9d\\xac\\xeb\\xa7\\x9d\\xed\\x96\\x88\\xeb\\x8a\\x94\\xeb\\x8d\\xb0, \\xec\\x9d\\xb4 \\xec\\x8b\\x9c\\xea\\xb5\\xad\\xec\\x97\\x90 \\xec\\x8b\\xa0\\xea\\xb7\\x9c \\xec\\xb1\\x84\\xec\\x9a\\xa9 0\\xea\\xb1\\xb4\\xec\\x9d\\xb4\\xec\\x97\\x88\\xea\\xb8\\xb0 \\xeb\\x95\\x8c\\xeb\\xac\\xb8\\xec\\x97\\x90 <b>\\xed\\x8c\\x8c\\xec\\x9d\\xb4\\xec\\x8d\\xac</b> \\xed\\x95\\x99\\xec\\x9b\\x90\\xec\\x9c\\xbc\\xeb\\xa1\\x9c... \\xec\\xa0\\x80\\xeb\\x8a\\x94 \\xec\\x9d\\xb4 \\xec\\xa4\\x91\\xec\\x97\\x90\\xec\\x84\\x9c \\xeb\\x84\\xa4\\xeb\\x8d\\x9c\\xeb\\x9e\\x80\\xeb\\x93\\x9c \\xea\\xb0\\x9c\\xeb\\xb0\\x9c\\xec\\x9e\\x90 \\xea\\xb7\\x80\\xeb\\x8f\\x84 \\xeb\\xb0\\x98 \\xeb\\xa1\\x9c\\xec\\x84\\xac\\xec\\x9d\\xb4 \\xeb\\xa7\\x8c\\xeb\\x93\\xa0 <b>\\xed\\x8c\\x8c\\xec\\x9d\\xb4\\xec\\x8d\\xac</b>\\xec\\x9d\\x84 \\xea\\xb3\\xa8\\xeb\\x9e\\x90\\xeb\\x8a\\x94\\xeb\\x8d\\xb0\\xec\\x9a\\x94. 21\\xec\\x84\\xb8\\xea\\xb8\\xb0 \\xec\\x9d\\xb4 \\xec\\x8b\\x9c\\xec\\xa0\\x90, \\xeb\\xaa\\xa8\\xeb\\x93\\xa0... \",\\n\"bloggername\": \"\\xeb\\xa7\\xa4\\xec\\x9d\\xbc\\xeb\\xa7\\xa4\\xec\\x9d\\xbc \\xeb\\x8d\\x94 \\xed\\x96\\x89\\xeb\\xb3\\xb5\\xed\\x95\\xb4\",\\n\"bloggerlink\": \"https://blog.naver.com/ghsm486\",\\n\"postdate\": \"20210809\"\\n\\n},\\n{\\n\"title\": \"\\xeb\\xb9\\x85\\xeb\\x8d\\xb0\\xec\\x9d\\xb4\\xed\\x84\\xb0\\xed\\x95\\x99\\xec\\x9b\\x90 <b>\\xed\\x8c\\x8c\\xec\\x9d\\xb4\\xec\\x8d\\xac</b>\\xeb\\xb6\\x80\\xed\\x84\\xb0 R\\xea\\xb9\\x8c\\xec\\xa7\\x80 \\xeb\\xb0\\xb0\\xec\\x9b\\x8c\\xeb\\xb3\\xb4\\xea\\xb8\\xb0\",\\n\"link\": \"https:\\\\/\\\\/blog.naver.com\\\\/iamwandering?Redirect=Log&logNo=222447282929\",\\n\"description\": \"\\xec\\x88\\x98\\xec\\x97\\x85\\xec\\x9d\\x80 <b>\\xed\\x8c\\x8c\\xec\\x9d\\xb4\\xec\\x8d\\xac</b>\\xec\\x9d\\x84 \\xea\\xb8\\xb0\\xeb\\xb0\\x98\\xec\\x9c\\xbc\\xeb\\xa1\\x9c \\xea\\xb8\\xb0\\xec\\xb4\\x88\\xec\\xa0\\x81\\xec\\x9d\\xb8 \\xeb\\x8d\\xb0\\xec\\x9d\\xb4\\xed\\x84\\xb0 \\xeb\\xb6\\x84\\xec\\x84\\x9d\\xea\\xb3\\xbc \\xeb\\xa8\\xb8\\xec\\x8b\\xa0\\xeb\\x9f\\xac\\xeb\\x8b\\x9d, \\xeb\\xb9\\x85\\xeb\\x8d\\xb0\\xec\\x9d\\xb4\\xed\\x84\\xb0 \\xeb\\xb6\\x84\\xec\\x84\\x9d \\xeb\\x93\\xb1\\xec\\x9d\\x84 \\xeb\\xb0\\xb0\\xec\\x9a\\xb8 \\xec\\x88\\x98 \\xec\\x9e\\x88\\xeb\\x8a\\x94... \\xec\\xa3\\xbc\\xeb\\xa1\\x9c \\xea\\xb8\\xb0\\xeb\\xb3\\xb8\\xec\\xa0\\x81\\xec\\x9c\\xbc\\xeb\\xa1\\x9c \\xec\\x82\\xac\\xec\\x9a\\xa9\\xeb\\x90\\x98\\xea\\xb8\\xb0\\xeb\\x8f\\x84\\xed\\x95\\x98\\xea\\xb3\\xa0 \\xec\\x8b\\xa4\\xeb\\xac\\xb4\\xec\\x97\\x90\\xec\\x84\\x9c\\xeb\\x8f\\x84 \\xeb\\xa7\\x8e\\xec\\x9d\\xb4 \\xed\\x99\\x9c\\xec\\x9a\\xa9\\xeb\\x90\\x98\\xea\\xb3\\xa0 \\xec\\x9e\\x88\\xeb\\x8a\\x94 <b>\\xed\\x8c\\x8c\\xec\\x9d\\xb4\\xec\\x8d\\xac</b>\\xec\\x9d\\x98 \\xea\\xb8\\xb0\\xec\\xb4\\x88\\xec\\xa0\\x81\\xec\\x9d\\xb8 \\xeb\\xac\\xb8\\xeb\\xb2\\x95\\xea\\xb3\\xbc \\xeb\\xac\\xb8\\xec\\x9e\\x90\\xec\\x97\\xb4, \\xec\\x9e\\x90\\xeb\\xa3\\x8c\\xea\\xb5\\xac\\xec\\xa1\\xb0... \",\\n\"bloggername\": \"\\xeb\\xa7\\xa4\\xec\\x9d\\xbc\\xec\\x9d\\xb4 \\xed\\x96\\x89\\xeb\\xb3\\xb5\",\\n\"bloggerlink\": \"https://blog.naver.com/iamwandering\",\\n\"postdate\": \"20210727\"\\n\\n},\\n{\\n\"title\": \"<b>\\xed\\x8c\\x8c\\xec\\x9d\\xb4\\xec\\x8d\\xac</b> \\xed\\x95\\x99\\xec\\x9b\\x90 \\xeb\\x8b\\xa4\\xeb\\x8b\\x88\\xeb\\xa9\\xb4\\xec\\x84\\x9c \\xea\\xb8\\xb0\\xeb\\xb3\\xb8\\xea\\xb8\\xb0\\xeb\\xa5\\xbc \\xec\\xa0\\x9c\\xeb\\x8c\\x80\\xeb\\xa1\\x9c \\xec\\x9e\\xa1\\xeb\\x8b\\xa4!\",\\n\"link\": \"https:\\\\/\\\\/blog.naver.com\\\\/adorable722?Redirect=Log&logNo=222390951475\",\\n\"description\": \"<b>\\xed\\x8c\\x8c\\xec\\x9d\\xb4\\xec\\x8d\\xac</b> \\xed\\x95\\x99\\xec\\x9b\\x90 \\xeb\\x8b\\xa4\\xeb\\x8b\\x88\\xeb\\xa9\\xb4\\xec\\x84\\x9c \\xea\\xb8\\xb0\\xeb\\xb3\\xb8\\xea\\xb8\\xb0\\xeb\\xa5\\xbc \\xec\\xa0\\x9c\\xeb\\x8c\\x80\\xeb\\xa1\\x9c \\xec\\x9e\\xa1\\xeb\\x8b\\xa4! \\xec\\x9a\\x94\\xec\\xa6\\x98\\xec\\x97\\x90\\xeb\\x8a\\x94 \\xed\\x9a\\x8c\\xec\\x82\\xac\\xec\\x97\\x90\\xec\\x84\\x9c\\xeb\\x8f\\x84 \\xed\\x94\\x84\\xeb\\xa1\\x9c\\xea\\xb7\\xb8\\xeb\\x9e\\x98\\xeb\\xb0\\x8d \\xeb\\x8a\\xa5\\xeb\\xa0\\xa5\\xec\\x9d\\x84 \\xec\\x9a\\x94\\xea\\xb5\\xac\\xed\\x95\\x98\\xeb\\x8a\\x94 \\xea\\xb2\\xbd\\xec\\x9a\\xb0\\xea\\xb0\\x80... <b>\\xed\\x8c\\x8c\\xec\\x9d\\xb4\\xec\\x8d\\xac</b> \\xed\\x95\\x99\\xec\\x9b\\x90\\xec\\x97\\x90 \\xeb\\x8b\\xa4\\xeb\\x8b\\x88\\xeb\\xa9\\xb4\\xec\\x84\\x9c, \\xeb\\x8d\\x94 \\xed\\x81\\xb0 \\xea\\xbf\\x88\\xec\\x9d\\x84 \\xed\\x82\\xa4\\xec\\x9a\\xb0\\xea\\xb3\\xa0 \\xec\\x9e\\x88\\xec\\x96\\xb4\\xec\\x9a\\x94. \\xec\\xbd\\x94\\xeb\\x94\\xa9\\xec\\x9d\\x84 \\xed\\x95\\xb4\\xeb\\xb3\\xb4\\xec\\x8b\\xa0 \\xeb\\xb6\\x84\\xeb\\x93\\xa4\\xec\\x9d\\x80 \\xeb\\xaa\\xa8\\xeb\\x91\\x90 \\xec\\x95\\x8c\\xea\\xb3\\xa0 \\xea\\xb3\\x84\\xec\\x8b\\xa4 \\xed\\x85\\x90\\xeb\\x8d\\xb0\\xec\\x9a\\x94.... \",\\n\"bloggername\": \"\\xeb\\xa7\\x88\\xec\\x9d\\x8c\\xec\\x9d\\xb4 \\xea\\xb0\\x80\\xeb\\x8a\\x94 \\xea\\xb7\\xb8\\xeb\\x8c\\x80\\xeb\\xa1\\x9c\\xe2\\x99\\xa1\",\\n\"bloggerlink\": \"https://blog.naver.com/adorable722\",\\n\"postdate\": \"20210609\"\\n\\n},\\n{\\n\"title\": \"<b>\\xed\\x8c\\x8c\\xec\\x9d\\xb4\\xec\\x8d\\xac</b>\\xed\\x95\\x99\\xec\\x9b\\x90 \\xec\\x88\\x98\\xec\\x9b\\x94\\xed\\x95\\x9c \\xea\\xb3\\xbc\\xec\\xa0\\x95!\",\\n\"link\": \"https:\\\\/\\\\/blog.naver.com\\\\/bredpark1004?Redirect=Log&logNo=222423051052\",\\n\"description\": \"<b>\\xed\\x8c\\x8c\\xec\\x9d\\xb4\\xec\\x8d\\xac</b>\\xed\\x95\\x99\\xec\\x9b\\x90 \\xec\\x88\\x98\\xec\\x9b\\x94\\xed\\x95\\x9c \\xea\\xb3\\xbc\\xec\\xa0\\x95! \\xec\\x9d\\xb8\\xec\\x83\\x9d\\xec\\x9d\\x84 \\xec\\x9d\\xb4\\xeb\\xa0\\x87\\xea\\xb2\\x8c \\xec\\x82\\xb4\\xec\\x95\\x84\\xeb\\x8f\\x84 \\xeb\\x90\\x98\\xeb\\x82\\x98 \\xec\\x8b\\xb6\\xec\\x9d\\x84 \\xec\\xa0\\x95\\xeb\\x8f\\x84\\xeb\\xa1\\x9c, \\xeb\\xaa\\xa9\\xed\\x91\\x9c\\xea\\xb0\\x80 \\xec\\x97\\x86\\xec\\x97\\x88\\xec\\x8a\\xb5\\xeb\\x8b\\x88\\xeb\\x8b\\xa4. \\xec\\x9d\\xb4\\xeb\\x9f\\xac\\xed\\x95\\x9c \\xec\\x82\\xac\\xeb\\x9e\\x8c\\xeb\\x93\\xa4\\xec\\x9d\\x84... \\xec\\x96\\xb4\\xeb\\x96\\xa4 \\xea\\xb1\\xb8 \\xeb\\xb0\\xb0\\xec\\x9a\\xb8 \\xec\\xa7\\x80 \\xec\\x97\\xac\\xeb\\x9f\\xac \\xec\\xb0\\xa8\\xeb\\xa1\\x80 \\xea\\xb3\\xa0\\xeb\\xaf\\xbc\\xec\\x9d\\x84 \\xed\\x95\\xb4\\xeb\\xb3\\xb4\\xeb\\x8b\\xa4\\xea\\xb0\\x80, <b>\\xed\\x8c\\x8c\\xec\\x9d\\xb4\\xec\\x8d\\xac</b>\\xec\\x9d\\xb4\\xeb\\x9d\\xbc\\xeb\\x8a\\x94 \\xed\\x94\\x84\\xeb\\xa1\\x9c\\xea\\xb7\\xb8\\xeb\\x9e\\x98\\xeb\\xb0\\x8d \\xec\\x96\\xb8\\xec\\x96\\xb4\\xeb\\xa5\\xbc \\xec\\x95\\x8c\\xea\\xb2\\x8c \\xeb\\x90\\x98\\xec\\x97\\x88\\xec\\x8a\\xb5\\xeb\\x8b\\x88\\xeb\\x8b\\xa4.... \",\\n\"bloggername\": \"\\xed\\x95\\xab\\xed\\x82\\xa4\\xec\\x9b\\x8c\\xeb\\x93\\x9c\\xeb\\x89\\xb4\\xec\\x8a\\xa4:: \\xea\\xb3\\xb5\\xec\\x8b\\x9d\\xeb\\xb8\\x94\\xeb\\xa1\\x9c\\xea\\xb7\\xb8\",\\n\"bloggerlink\": \"https://blog.naver.com/bredpark1004\",\\n\"postdate\": \"20210707\"\\n\\n},\\n{\\n\"title\": \"<b>\\xed\\x8c\\x8c\\xec\\x9d\\xb4\\xec\\x8d\\xac</b>\\xed\\x95\\x99\\xec\\x9b\\x90 \\xec\\x9d\\xbc\\xeb\\x8b\\xa8 \\xec\\x8b\\x9c\\xec\\x9e\\x91\\xeb\\xb6\\x80\\xed\\x84\\xb0 \\xed\\x95\\xb4\\xeb\\xb3\\xb4\\xec\\x9e\\x90!\",\\n\"link\": \"https:\\\\/\\\\/blog.naver.com\\\\/yosuleye?Redirect=Log&logNo=222531078904\",\\n\"description\": \"#<b>\\xed\\x8c\\x8c\\xec\\x9d\\xb4\\xec\\x8d\\xac</b>\\xed\\x95\\x99\\xec\\x9b\\x90 \\xec\\xa0\\x80\\xeb\\x8a\\x94 \\xec\\x96\\xb4\\xeb\\xa0\\xb8\\xec\\x9d\\x84 \\xeb\\x95\\x8c\\xeb\\xb6\\x80\\xed\\x84\\xb0 \\xec\\x95\\x88 \\xec\\xa2\\x8b\\xec\\x9d\\x80 \\xeb\\xb2\\x84\\xeb\\xa6\\x87\\xec\\x9d\\xb4 \\xec\\x9e\\x88\\xec\\x97\\x88\\xec\\x96\\xb4\\xec\\x9a\\x94. \\xeb\\xad\\x98 \\xed\\x95\\x98\\xea\\xb8\\xb0 \\xec\\xa0\\x84\\xec\\x97\\x90 \\xec\\x83\\x9d\\xea\\xb0\\x81\\xec\\x9d\\xb4 \\xeb\\x84\\x88\\xeb\\xac\\xb4 \\xeb\\xa7\\x8e\\xea\\xb3\\xa0 \\xeb\\xa7\\x9d\\xec\\x84\\xa4\\xec\\x9e\\x84\\xec\\x9d\\xb4... \\xea\\xb7\\xb8\\xeb\\x9f\\xb0 \\xec\\xa0\\x9c\\xea\\xb0\\x80 <b>\\xed\\x8c\\x8c\\xec\\x9d\\xb4\\xec\\x8d\\xac</b>\\xed\\x95\\x99\\xec\\x9b\\x90\\xec\\x97\\x90 \\xeb\\x93\\xb1\\xeb\\xa1\\x9d\\xed\\x95\\x98\\xea\\xb2\\xa0\\xeb\\x8b\\xa4\\xeb\\x8a\\x94 \\xec\\x9a\\xa9\\xea\\xb8\\xb0\\xeb\\xa5\\xbc \\xeb\\x82\\xb4\\xeb\\x8a\\x94 \\xea\\xb2\\x83\\xeb\\x8f\\x84 \\xec\\x96\\xb4\\xeb\\x96\\xbb\\xea\\xb2\\x8c \\xeb\\xb3\\xb4\\xeb\\xa9\\xb4 \\xec\\xb0\\xb8 \\xec\\x89\\xbd\\xec\\xa7\\x80 \\xec\\x95\\x8a\\xec\\x9d\\x80 \\xea\\xb2\\xb0\\xec\\xa0\\x95\\xec\\x9d\\xb4\\xec\\x97\\x90\\xec\\x9a\\x94.... \",\\n\"bloggername\": \"yosuleye\\xeb\\x8b\\x98\\xec\\x9d\\x98 \\xeb\\xb8\\x94\\xeb\\xa1\\x9c\\xea\\xb7\\xb8\",\\n\"bloggerlink\": \"https://blog.naver.com/yosuleye\",\\n\"postdate\": \"20211008\"\\n\\n},\\n{\\n\"title\": \"<b>\\xed\\x8c\\x8c\\xec\\x9d\\xb4\\xec\\x8d\\xac</b> \\xec\\x9e\\x90\\xea\\xb2\\xa9\\xec\\xa6\\x9d \\xec\\x8b\\xa0\\xeb\\xa2\\xb0\\xed\\x95\\xa0 \\xec\\x88\\x98 \\xec\\x9e\\x88\\xeb\\x8a\\x94 \\xec\\xb2\\xb4\\xea\\xb3\\x84\",\\n\"link\": \"https:\\\\/\\\\/blog.naver.com\\\\/h_4149?Redirect=Log&logNo=222530744283\",\\n\"description\": \"\\xed\\x94\\x84\\xeb\\xa1\\x9c\\xea\\xb7\\xb8\\xeb\\x9e\\x98\\xeb\\xb0\\x8d\\xec\\x97\\x90 \\xea\\xb4\\x80\\xec\\x8b\\xac\\xec\\x9d\\xb4 \\xec\\x9e\\x88\\xeb\\x8a\\x94 \\xec\\x82\\xac\\xeb\\x9e\\x8c\\xec\\x9c\\xbc\\xeb\\xa1\\x9c\\xec\\x84\\x9c \\xea\\xb7\\xb8\\xec\\x97\\x90 \\xeb\\xa7\\x9e\\xeb\\x8a\\x94 \\xeb\\x8c\\x80\\xed\\x95\\x99\\xea\\xb5\\x90 \\xec\\xa0\\x84\\xea\\xb3\\xb5\\xec\\x9d\\x84 \\xec\\x84\\xa0\\xed\\x83\\x9d\\xed\\x96\\x88\\xeb\\x8b\\xa4\\xeb\\xa9\\xb4 \\xec\\x96\\xb4\\xeb\\x96\\xbb\\xea\\xb2\\x8c\\xeb\\x93\\xa0 \\xec\\xa1\\xb8\\xec\\x97\\x85 \\xec\\xa0\\x84\\xec\\x97\\x90 <b>\\xed\\x8c\\x8c\\xec\\x9d\\xb4\\xec\\x8d\\xac</b>... \\xec\\x9a\\x94\\xec\\xa6\\x98\\xec\\x97\\x90\\xeb\\x8a\\x94 \\xeb\\x82\\x9c\\xec\\x9d\\xb4\\xeb\\x8f\\x84, \\xeb\\xb2\\x94\\xec\\x9a\\xa9\\xec\\x84\\xb1, \\xec\\x83\\x9d\\xec\\x82\\xb0\\xec\\x84\\xb1\\xec\\xa0\\x81\\xec\\x9d\\xb8 \\xeb\\xa9\\xb4\\xec\\x97\\x90\\xec\\x84\\x9c\\xeb\\x8f\\x84 \\xeb\\x8d\\x94 \\xeb\\x84\\x93\\xea\\xb3\\xa0 \\xec\\xa2\\x8b\\xec\\x95\\x84\\xec\\xa7\\x84 \\xed\\x94\\x84\\xeb\\xa1\\x9c\\xea\\xb7\\xb8\\xeb\\x9e\\x98\\xeb\\xb0\\x8d \\xec\\x96\\xb8\\xec\\x96\\xb4\\xec\\x9d\\xb8 <b>\\xed\\x8c\\x8c\\xec\\x9d\\xb4\\xec\\x8d\\xac</b>\\xec\\x9d\\xb4 \\xeb\\x82\\x98\\xec\\x98\\xa4\\xea\\xb2\\x8c... \",\\n\"bloggername\": \"Galaxy in my mind\",\\n\"bloggerlink\": \"https://blog.naver.com/h_4149\",\\n\"postdate\": \"20211008\"\\n\\n},\\n{\\n\"title\": \"<b>\\xed\\x8c\\x8c\\xec\\x9d\\xb4\\xec\\x8d\\xac</b> \\xed\\x94\\x84\\xeb\\xa1\\x9c\\xea\\xb7\\xb8\\xeb\\x9e\\x98\\xeb\\xb0\\x8d \\xeb\\x8f\\x85\\xed\\x95\\x99, \\xed\\x81\\xb4\\xeb\\xa3\\xb8 \\xec\\x9c\\xa0\\xeb\\x8d\\xb0\\xeb\\xaf\\xb8 \\xea\\xb0\\x95\\xec\\x9d\\x98\\xec\\x97\\x90\\xec\\x84\\x9c!\",\\n\"link\": \"https:\\\\/\\\\/blog.naver.com\\\\/supapa13?Redirect=Log&logNo=222519682757\",\\n\"description\": \"\\xeb\\x8c\\x80\\xed\\x91\\x9c\\xec\\xa0\\x81\\xec\\x9c\\xbc\\xeb\\xa1\\x9c <b>\\xed\\x8c\\x8c\\xec\\x9d\\xb4\\xec\\x8d\\xac</b> \\xed\\x94\\x84\\xeb\\xa1\\x9c\\xea\\xb7\\xb8\\xeb\\x9e\\x98\\xeb\\xb0\\x8d\\xec\\x9d\\xb4 \\xec\\x9e\\x88\\xec\\x8a\\xb5\\xeb\\x8b\\x88\\xeb\\x8b\\xa4. <b>\\xed\\x8c\\x8c\\xec\\x9d\\xb4\\xec\\x8d\\xac</b>\\xec\\x9d\\x80 \\xec\\x82\\xac\\xed\\x9a\\x8c \\xea\\xb0\\x81\\xea\\xb3\\x84\\xea\\xb0\\x81\\xec\\xb8\\xb5 \\xeb\\x8b\\xa4\\xec\\x96\\x91\\xed\\x95\\x9c \\xeb\\xb6\\x84\\xec\\x95\\xbc\\xec\\x97\\x90\\xec\\x84\\x9c \\xed\\x86\\xb5\\xec\\x9a\\xa9\\xeb\\x90\\x98\\xeb\\x8a\\x94 \\xed\\x94\\x84\\xeb\\xa1\\x9c\\xea\\xb7\\xb8\\xeb\\x9e\\x98\\xeb\\xb0\\x8d \\xec\\x96\\xb8\\xec\\x96\\xb4\\xec\\x9e\\x85\\xeb\\x8b\\x88\\xeb\\x8b\\xa4. \\xea\\xb0\\x9c\\xeb\\xb3\\x84\\xec\\xa0\\x81\\xec\\x9c\\xbc\\xeb\\xa1\\x9c \\xea\\xb3\\xb5\\xeb\\xb6\\x80\\xed\\x95\\x98\\xeb\\xa0\\xa4\\xeb\\x8a\\x94 \\xeb\\xb6\\x84\\xeb\\x93\\xa4\\xeb\\x8f\\x84 \\xea\\xbd\\xa4 \\xeb\\xa7\\x8e\\xec\\x8a\\xb5\\xeb\\x8b\\x88\\xeb\\x8b\\xa4. \\xed\\x95\\x98\\xec\\xa7\\x80\\xeb\\xa7\\x8c <b>\\xed\\x8c\\x8c\\xec\\x9d\\xb4\\xec\\x8d\\xac</b>\\xec\\x9d\\x80 \\xeb\\x8f\\x85\\xed\\x95\\x99\\xec\\x9d\\xb4 \\xec\\x9d\\x98\\xec\\x99\\xb8\\xeb\\xa1\\x9c \\xec\\x89\\xbd\\xec\\xa7\\x80... \",\\n\"bloggername\": \"\\xec\\x84\\xb8\\xec\\x88\\x98\\xed\\x95\\x98\\xeb\\xa9\\xb4\\xec\\x9d\\xb4\\xeb\\xb3\\x91\\xed\\x97\\x8c IT, \\xec\\x9c\\xa1\\xec\\x95\\x84\",\\n\"bloggerlink\": \"https://blog.naver.com/supapa13\",\\n\"postdate\": \"20210928\"\\n\\n},\\n{\\n\"title\": \"<b>\\xed\\x8c\\x8c\\xec\\x9d\\xb4\\xec\\x8d\\xac</b> \\xec\\x9e\\x90\\xea\\xb2\\xa9\\xec\\xa6\\x9d \\xeb\\xb0\\xb0\\xec\\x9b\\x80\\xec\\x9c\\xbc\\xeb\\xa1\\x9c \\xec\\x84\\xb1\\xec\\x9e\\xa5\\xed\\x95\\x98\\xea\\xb8\\xb0\",\\n\"link\": \"https:\\\\/\\\\/blog.naver.com\\\\/kyrian75?Redirect=Log&logNo=222523178783\",\\n\"description\": \"\\xec\\xa0\\x9c\\xea\\xb0\\x80 \\xec\\x9b\\x90\\xed\\x95\\x98\\xeb\\x8a\\x94 \\xec\\x9e\\x90\\xeb\\xa6\\xac\\xec\\x99\\x80 \\xea\\xb0\\x80\\xec\\x9e\\xa5 \\xec\\x9e\\x98 \\xeb\\xa7\\x9e\\xeb\\x8a\\x94 \\xea\\xb1\\xb8 \\xea\\xb3\\xa0\\xeb\\xa5\\xb4\\xeb\\xa0\\xa4\\xea\\xb3\\xa0 \\xed\\x95\\x98\\xeb\\x8b\\xa4 \\xeb\\xb3\\xb4\\xeb\\x8b\\x88\\xea\\xb9\\x8c <b>\\xed\\x8c\\x8c\\xec\\x9d\\xb4\\xec\\x8d\\xac</b> \\xec\\x9e\\x90\\xea\\xb2\\xa9\\xec\\xa6\\x9d\\xec\\x9d\\xb4 \\xed\\x95\\x84\\xec\\x9a\\x94\\xed\\x95\\xa0 \\xea\\xb1\\xb0 \\xea\\xb0\\x99\\xeb\\x8d\\x94\\xeb\\x9d\\xbc\\xea\\xb3\\xa0\\xec\\x9a\\x94.... \\xeb\\x8b\\xa8\\xec\\x88\\x9c\\xed\\x9e\\x88 <b>\\xed\\x8c\\x8c\\xec\\x9d\\xb4\\xec\\x8d\\xac</b> \\xeb\\x82\\xb4\\xec\\x9a\\xa9\\xeb\\xa7\\x8c \\xea\\xb0\\x80\\xeb\\xa5\\xb4\\xec\\xb3\\x90 \\xec\\xa3\\xbc\\xeb\\x8a\\x94 \\xea\\xb2\\x8c \\xec\\x95\\x84\\xeb\\x8b\\x88\\xeb\\x9d\\xbc \\xea\\xb8\\xb0\\xec\\x97\\x85\\xec\\x97\\x90 \\xec\\xa7\\x80\\xec\\x9b\\x90\\xec\\x84\\x9c\\xeb\\xa5\\xbc \\xeb\\x82\\xbc \\xeb\\x95\\x8c \\xec\\x96\\xb4\\xeb\\x96\\xa4 \\xeb\\xb6\\x80\\xeb\\xb6\\x84\\xec\\x9d\\x84 \\xea\\xb3\\xa0\\xeb\\xa0\\xa4\\xed\\x95\\xb4\\xec\\x95\\xbc \\xed\\x95\\xa0\\xec\\xa7\\x80 \\xec\\x9e\\x90\\xec\\x84\\xb8\\xed\\x95\\x98\\xea\\xb2\\x8c... \",\\n\"bloggername\": \"I\\'m still alive\",\\n\"bloggerlink\": \"https://blog.naver.com/kyrian75\",\\n\"postdate\": \"20211001\"\\n\\n},\\n{\\n\"title\": \"<b>\\xed\\x8c\\x8c\\xec\\x9d\\xb4\\xec\\x8d\\xac</b> \\xec\\x9e\\x90\\xea\\xb2\\xa9\\xec\\xa6\\x9d \\xec\\xa0\\x84\\xeb\\xa7\\x9d\\xec\\x9d\\xb4 \\xec\\xa2\\x8b\\xec\\x9d\\x80 \\xec\\x9d\\xb4\\xec\\x9c\\xa0\",\\n\"link\": \"https:\\\\/\\\\/blog.naver.com\\\\/sky00141?Redirect=Log&logNo=222520797557\",\\n\"description\": \"\\xea\\xb7\\xb8\\xeb\\x9e\\x98\\xec\\x84\\x9c \\xec\\xa0\\x84\\xea\\xb3\\xb5\\xec\\x9d\\x84 \\xec\\x82\\xb4\\xeb\\xa0\\xa4\\xec\\x95\\xbc \\xed\\x95\\xa0\\xec\\xa7\\x80 \\xed\\x8f\\xac\\xea\\xb8\\xb0\\xed\\x95\\xb4\\xec\\x95\\xbc \\xed\\x95\\xa0\\xec\\xa7\\x80 \\xea\\xb3\\xa0\\xeb\\xaf\\xbc\\xec\\x9d\\xb4 \\xec\\x95\\x84\\xec\\xa3\\xbc \\xeb\\xa7\\x8e\\xec\\x95\\x98\\xeb\\x8a\\x94\\xeb\\x8d\\xb0, \\xec\\xb9\\x9c\\xea\\xb5\\xac\\xec\\x9d\\x98 \\xea\\xb6\\x8c\\xec\\x9c\\xa0\\xeb\\xa1\\x9c \\xed\\x95\\xa8\\xea\\xbb\\x98 <b>\\xed\\x8c\\x8c\\xec\\x9d\\xb4\\xec\\x8d\\xac</b> \\xec\\x9e\\x90\\xea\\xb2\\xa9\\xec\\xa6\\x9d... \\xeb\\x93\\xb1\\xeb\\xa1\\x9d\\xeb\\xb6\\x80\\xed\\x84\\xb0 \\xec\\x8b\\x9c\\xec\\x9e\\x91\\xed\\x95\\xb4\\xec\\x84\\x9c <b>\\xed\\x8c\\x8c\\xec\\x9d\\xb4\\xec\\x8d\\xac</b> \\xec\\x9e\\x90\\xea\\xb2\\xa9\\xec\\xa6\\x9d\\xea\\xb3\\xbc \\xea\\xb4\\x80\\xeb\\xa0\\xa8\\xed\\x95\\xb4 \\xec\\x96\\xb4\\xeb\\x96\\xa4 \\xea\\xb5\\x90\\xec\\x9c\\xa1\\xec\\x9d\\x84 \\xed\\x95\\xa0\\xec\\xa7\\x80\\xec\\x97\\x90 \\xeb\\x8c\\x80\\xed\\x95\\xb4\\xec\\x84\\x9c, \\xea\\xb7\\xb8\\xeb\\xa6\\xac\\xea\\xb3\\xa0 \\xeb\\x82\\x98\\xec\\xa4\\x91\\xec\\x97\\x90 \\xea\\xb5\\xac\\xec\\xa7\\x81\\xea\\xb9\\x8c\\xec\\xa7\\x80 \\xea\\xb5\\x90\\xec\\x9c\\xa1... \",\\n\"bloggername\": \"\\xec\\xa0\\x9c\\xec\\x9d\\xb4\\xec\\x9d\\x98 IT Security \\xeb\\xb8\\x94\\xeb\\xa1\\x9c\\xea\\xb7\\xb8\",\\n\"bloggerlink\": \"https://blog.naver.com/sky00141\",\\n\"postdate\": \"20210929\"\\n\\n},\\n{\\n\"title\": \"<b>\\xed\\x8c\\x8c\\xec\\x9d\\xb4\\xec\\x8d\\xac</b> \\xec\\x84\\xa4\\xec\\xb9\\x98\\xeb\\x8a\\x94 \\xec\\xb4\\x88\\xeb\\xb3\\xb4\\xec\\x9e\\x90\\xec\\x97\\x90\\xea\\xb2\\x8c \\xec\\x95\\x84\\xeb\\x82\\x98\\xec\\xbd\\x98\\xeb\\x8b\\xa4\\xea\\xb0\\x80 \\xed\\x8e\\xb8\\xed\\x95\\xa9\\xeb\\x8b\\x88\\xeb\\x8b\\xa4.\",\\n\"link\": \"https:\\\\/\\\\/blog.naver.com\\\\/ocmarketing?Redirect=Log&logNo=222197056590\",\\n\"description\": \"\\xec\\x95\\x88\\xeb\\x85\\x95\\xed\\x95\\x98\\xec\\x84\\xb8\\xec\\x9a\\x94, \\xec\\x98\\xa4\\xeb\\x8a\\x98 \\xeb\\xb6\\x80\\xed\\x84\\xb0\\xeb\\x8a\\x94 <b>\\xed\\x8c\\x8c\\xec\\x9d\\xb4\\xec\\x8d\\xac</b> \\xea\\xb0\\x95\\xec\\x9d\\x98\\xeb\\xa5\\xbc \\xed\\x95\\x98\\xeb\\x82\\x98\\xec\\x94\\xa9 \\xed\\x95\\xb4\\xeb\\xb3\\xb4\\xeb\\xa0\\xa4\\xea\\xb3\\xa0 \\xed\\x95\\xa9\\xeb\\x8b\\x88\\xeb\\x8b\\xa4. \\xec\\x9d\\xbc\\xeb\\x8b\\xa8 \\xec\\xa0\\x80\\xeb\\x8f\\x84 \\xeb\\xb0\\xb0\\xec\\x9a\\xb0\\xeb\\x8a\\x94 \\xec\\x9e\\x85\\xec\\x9e\\xa5\\xec\\x9d\\xb4\\xeb\\x9d\\xbc... \\xea\\xb7\\xb8\\xeb\\x9e\\x98\\xec\\x84\\x9c \\xec\\xb2\\xab\\xeb\\xb2\\x88\\xec\\xa7\\xb8 \\xec\\x8b\\x9c\\xea\\xb0\\x84\\xec\\x97\\x90 <b>\\xed\\x8c\\x8c\\xec\\x9d\\xb4\\xec\\x8d\\xac</b> \\xec\\x84\\xa4\\xec\\xb9\\x98\\xeb\\xa5\\xbc \\xed\\x95\\x98\\xeb\\xa0\\xa4\\xea\\xb3\\xa0 \\xed\\x95\\x98\\xeb\\x8a\\x94\\xeb\\x8d\\xb0\\xec\\x9a\\x94, \\xec\\x96\\xb4\\xeb\\x9d\\xbc? <b>\\xed\\x8c\\x8c\\xec\\x9d\\xb4\\xec\\x8d\\xac</b>\\xec\\x97\\x90 \\xea\\xb0\\x80\\xec\\x84\\x9c \\xeb\\xb0\\x94\\xeb\\xa1\\x9c \\xec\\x84\\xa4\\xec\\xb9\\x98\\xeb\\xa5\\xbc \\xed\\x95\\x98\\xeb\\x8a\\x94 \\xea\\xb2\\x83\\xec\\x9d\\xb4... \",\\n\"bloggername\": \"\\xec\\xb4\\x88\\xed\\x8a\\x9c\\xed\\x84\\xb0 X \\xec\\x98\\xa4\\xec\\x94\\xa8\\xeb\\x84\\xa4\\xed\\x95\\x99\\xea\\xb5\\x90\",\\n\"bloggerlink\": \"https://blog.naver.com/ocmarketing\",\\n\"postdate\": \"20210105\"\\n\\n}\\n]\\n}\\n'"
      ]
     },
     "execution_count": 8,
     "metadata": {},
     "output_type": "execute_result"
    }
   ],
   "source": [
    "response_body  # 그냥 출력하면 decoding 안 된 상태임"
   ]
  },
  {
   "cell_type": "code",
   "execution_count": 9,
   "id": "ff8f88c0",
   "metadata": {},
   "outputs": [
    {
     "name": "stdout",
     "output_type": "stream",
     "text": [
      "{\n",
      "\"lastBuildDate\": \"Tue, 12 Oct 2021 17:02:57 +0900\",\n",
      "\"total\": 248658,\n",
      "\"start\": 1,\n",
      "\"display\": 10,\n",
      "\"items\": [\n",
      "{\n",
      "\"title\": \"<b>파이썬</b> 학원 실용적 커리큘럼!\",\n",
      "\"link\": \"https:\\/\\/blog.naver.com\\/ghsm486?Redirect=Log&logNo=222462898734\",\n",
      "\"description\": \"저는 원래 국제회의 분야 취직을 희망했는데, 이 시국에 신규 채용 0건이었기 때문에 <b>파이썬</b> 학원으로... 저는 이 중에서 네덜란드 개발자 귀도 반 로섬이 만든 <b>파이썬</b>을 골랐는데요. 21세기 이 시점, 모든... \",\n",
      "\"bloggername\": \"매일매일 더 행복해\",\n",
      "\"bloggerlink\": \"https://blog.naver.com/ghsm486\",\n",
      "\"postdate\": \"20210809\"\n",
      "\n",
      "},\n",
      "{\n",
      "\"title\": \"빅데이터학원 <b>파이썬</b>부터 R까지 배워보기\",\n",
      "\"link\": \"https:\\/\\/blog.naver.com\\/iamwandering?Redirect=Log&logNo=222447282929\",\n",
      "\"description\": \"수업은 <b>파이썬</b>을 기반으로 기초적인 데이터 분석과 머신러닝, 빅데이터 분석 등을 배울 수 있는... 주로 기본적으로 사용되기도하고 실무에서도 많이 활용되고 있는 <b>파이썬</b>의 기초적인 문법과 문자열, 자료구조... \",\n",
      "\"bloggername\": \"매일이 행복\",\n",
      "\"bloggerlink\": \"https://blog.naver.com/iamwandering\",\n",
      "\"postdate\": \"20210727\"\n",
      "\n",
      "},\n",
      "{\n",
      "\"title\": \"<b>파이썬</b> 학원 다니면서 기본기를 제대로 잡다!\",\n",
      "\"link\": \"https:\\/\\/blog.naver.com\\/adorable722?Redirect=Log&logNo=222390951475\",\n",
      "\"description\": \"<b>파이썬</b> 학원 다니면서 기본기를 제대로 잡다! 요즘에는 회사에서도 프로그래밍 능력을 요구하는 경우가... <b>파이썬</b> 학원에 다니면서, 더 큰 꿈을 키우고 있어요. 코딩을 해보신 분들은 모두 알고 계실 텐데요.... \",\n",
      "\"bloggername\": \"마음이 가는 그대로♡\",\n",
      "\"bloggerlink\": \"https://blog.naver.com/adorable722\",\n",
      "\"postdate\": \"20210609\"\n",
      "\n",
      "},\n",
      "{\n",
      "\"title\": \"<b>파이썬</b>학원 수월한 과정!\",\n",
      "\"link\": \"https:\\/\\/blog.naver.com\\/bredpark1004?Redirect=Log&logNo=222423051052\",\n",
      "\"description\": \"<b>파이썬</b>학원 수월한 과정! 인생을 이렇게 살아도 되나 싶을 정도로, 목표가 없었습니다. 이러한 사람들을... 어떤 걸 배울 지 여러 차례 고민을 해보다가, <b>파이썬</b>이라는 프로그래밍 언어를 알게 되었습니다.... \",\n",
      "\"bloggername\": \"핫키워드뉴스:: 공식블로그\",\n",
      "\"bloggerlink\": \"https://blog.naver.com/bredpark1004\",\n",
      "\"postdate\": \"20210707\"\n",
      "\n",
      "},\n",
      "{\n",
      "\"title\": \"<b>파이썬</b>학원 일단 시작부터 해보자!\",\n",
      "\"link\": \"https:\\/\\/blog.naver.com\\/yosuleye?Redirect=Log&logNo=222531078904\",\n",
      "\"description\": \"#<b>파이썬</b>학원 저는 어렸을 때부터 안 좋은 버릇이 있었어요. 뭘 하기 전에 생각이 너무 많고 망설임이... 그런 제가 <b>파이썬</b>학원에 등록하겠다는 용기를 내는 것도 어떻게 보면 참 쉽지 않은 결정이에요.... \",\n",
      "\"bloggername\": \"yosuleye님의 블로그\",\n",
      "\"bloggerlink\": \"https://blog.naver.com/yosuleye\",\n",
      "\"postdate\": \"20211008\"\n",
      "\n",
      "},\n",
      "{\n",
      "\"title\": \"<b>파이썬</b> 자격증 신뢰할 수 있는 체계\",\n",
      "\"link\": \"https:\\/\\/blog.naver.com\\/h_4149?Redirect=Log&logNo=222530744283\",\n",
      "\"description\": \"프로그래밍에 관심이 있는 사람으로서 그에 맞는 대학교 전공을 선택했다면 어떻게든 졸업 전에 <b>파이썬</b>... 요즘에는 난이도, 범용성, 생산성적인 면에서도 더 넓고 좋아진 프로그래밍 언어인 <b>파이썬</b>이 나오게... \",\n",
      "\"bloggername\": \"Galaxy in my mind\",\n",
      "\"bloggerlink\": \"https://blog.naver.com/h_4149\",\n",
      "\"postdate\": \"20211008\"\n",
      "\n",
      "},\n",
      "{\n",
      "\"title\": \"<b>파이썬</b> 프로그래밍 독학, 클룸 유데미 강의에서!\",\n",
      "\"link\": \"https:\\/\\/blog.naver.com\\/supapa13?Redirect=Log&logNo=222519682757\",\n",
      "\"description\": \"대표적으로 <b>파이썬</b> 프로그래밍이 있습니다. <b>파이썬</b>은 사회 각계각층 다양한 분야에서 통용되는 프로그래밍 언어입니다. 개별적으로 공부하려는 분들도 꽤 많습니다. 하지만 <b>파이썬</b>은 독학이 의외로 쉽지... \",\n",
      "\"bloggername\": \"세수하면이병헌 IT, 육아\",\n",
      "\"bloggerlink\": \"https://blog.naver.com/supapa13\",\n",
      "\"postdate\": \"20210928\"\n",
      "\n",
      "},\n",
      "{\n",
      "\"title\": \"<b>파이썬</b> 자격증 배움으로 성장하기\",\n",
      "\"link\": \"https:\\/\\/blog.naver.com\\/kyrian75?Redirect=Log&logNo=222523178783\",\n",
      "\"description\": \"제가 원하는 자리와 가장 잘 맞는 걸 고르려고 하다 보니까 <b>파이썬</b> 자격증이 필요할 거 같더라고요.... 단순히 <b>파이썬</b> 내용만 가르쳐 주는 게 아니라 기업에 지원서를 낼 때 어떤 부분을 고려해야 할지 자세하게... \",\n",
      "\"bloggername\": \"I'm still alive\",\n",
      "\"bloggerlink\": \"https://blog.naver.com/kyrian75\",\n",
      "\"postdate\": \"20211001\"\n",
      "\n",
      "},\n",
      "{\n",
      "\"title\": \"<b>파이썬</b> 자격증 전망이 좋은 이유\",\n",
      "\"link\": \"https:\\/\\/blog.naver.com\\/sky00141?Redirect=Log&logNo=222520797557\",\n",
      "\"description\": \"그래서 전공을 살려야 할지 포기해야 할지 고민이 아주 많았는데, 친구의 권유로 함께 <b>파이썬</b> 자격증... 등록부터 시작해서 <b>파이썬</b> 자격증과 관련해 어떤 교육을 할지에 대해서, 그리고 나중에 구직까지 교육... \",\n",
      "\"bloggername\": \"제이의 IT Security 블로그\",\n",
      "\"bloggerlink\": \"https://blog.naver.com/sky00141\",\n",
      "\"postdate\": \"20210929\"\n",
      "\n",
      "},\n",
      "{\n",
      "\"title\": \"<b>파이썬</b> 설치는 초보자에게 아나콘다가 편합니다.\",\n",
      "\"link\": \"https:\\/\\/blog.naver.com\\/ocmarketing?Redirect=Log&logNo=222197056590\",\n",
      "\"description\": \"안녕하세요, 오늘 부터는 <b>파이썬</b> 강의를 하나씩 해보려고 합니다. 일단 저도 배우는 입장이라... 그래서 첫번째 시간에 <b>파이썬</b> 설치를 하려고 하는데요, 어라? <b>파이썬</b>에 가서 바로 설치를 하는 것이... \",\n",
      "\"bloggername\": \"초튜터 X 오씨네학교\",\n",
      "\"bloggerlink\": \"https://blog.naver.com/ocmarketing\",\n",
      "\"postdate\": \"20210105\"\n",
      "\n",
      "}\n",
      "]\n",
      "}\n",
      "\n"
     ]
    }
   ],
   "source": [
    "# 글자로 읽을 경우, decode utf-8 설정 \n",
    "print(response_body.decode(\"utf-8\"))"
   ]
  },
  {
   "cell_type": "markdown",
   "id": "e48d0225",
   "metadata": {},
   "source": [
    "## 검색: 책(book)"
   ]
  },
  {
   "cell_type": "code",
   "execution_count": 10,
   "id": "3140d82e",
   "metadata": {},
   "outputs": [
    {
     "name": "stdout",
     "output_type": "stream",
     "text": [
      "{\n",
      "\"lastBuildDate\": \"Tue, 12 Oct 2021 17:10:14 +0900\",\n",
      "\"total\": 1379,\n",
      "\"start\": 1,\n",
      "\"display\": 10,\n",
      "\"items\": [\n",
      "{\n",
      "\"title\": \"이것이 취업을 위한 코딩 테스트다 with <b>파이썬</b> (취업과 이직을 결정하는 알고리즘 인터뷰 완벽 가이드, C/C++, 자바 코드 제공)\",\n",
      "\"link\": \"http://book.naver.com/bookdb/book_detail.php?bid=16439154\",\n",
      "\"image\": \"https://bookthumb-phinf.pstatic.net/cover/164/391/16439154.jpg?type=m1&udate=20200928\",\n",
      "\"author\": \"나동빈\",\n",
      "\"price\": \"34000\",\n",
      "\"discount\": \"30600\",\n",
      "\"publisher\": \"한빛미디어\",\n",
      "\"pubdate\": \"20200805\",\n",
      "\"isbn\": \"1162243074 9791162243077\",\n",
      "\"description\": \"8가지 핵심 알고리즘 이론을 쉽게 설명하고, 관련 실전 문제를 풀이했다. 출제 유형 분석, 이론 설명, 기출문제 풀이까지! 어떤 코딩 테스트도 이 책 한 권으로 대비할 수 있을 것이다. 코딩 테스트에서 주로 선택하는 <b>파이썬</b>을 기반으로 설명되어 있으며, <b>파이썬</b> 코드 외에도 C/C++, 자바 코드를 추가로 제공한다.\"\n",
      "\n",
      "},\n",
      "{\n",
      "\"title\": \"Do it! 점프 투 <b>파이썬</b>\",\n",
      "\"link\": \"http://book.naver.com/bookdb/book_detail.php?bid=15052904\",\n",
      "\"image\": \"https://bookthumb-phinf.pstatic.net/cover/150/529/15052904.jpg?type=m1&udate=20200910\",\n",
      "\"author\": \"박응용\",\n",
      "\"price\": \"18800\",\n",
      "\"discount\": \"16900\",\n",
      "\"publisher\": \"이지스퍼블리싱\",\n",
      "\"pubdate\": \"20190620\",\n",
      "\"isbn\": \"1163030910 9791163030911\",\n",
      "\"description\": \"<b>파이썬</b> 4년 연속 베스트셀러 1위!\\n《DO IT! 점프 투 <b>파이썬</b>》 전면 개정판 출시!문과생도 중고등학생도 직장인도 프로그래밍에 눈뜨게 만든 바로 그 책이... 점프 투 <b>파이썬</b>》으로 출간되었던 이 책은 약 4년 동안의 피드백을 반영하여 초보자가 더 빠르게 입문하고, 더 깊이 있게 공부할 수 있도록 개정되었다.... \"\n",
      "\n",
      "},\n",
      "{\n",
      "\"title\": \"혼자 공부하는 <b>파이썬</b> (<b>파이썬</b> 최신 버전 반영)\",\n",
      "\"link\": \"http://book.naver.com/bookdb/book_detail.php?bid=15028688\",\n",
      "\"image\": \"https://bookthumb-phinf.pstatic.net/cover/150/286/15028688.jpg?type=m1&udate=20210809\",\n",
      "\"author\": \"윤인성\",\n",
      "\"price\": \"18000\",\n",
      "\"discount\": \"16200\",\n",
      "\"publisher\": \"한빛미디어\",\n",
      "\"pubdate\": \"20190610\",\n",
      "\"isbn\": \"1162241888 9791162241882\",\n",
      "\"description\": \"1:1 과외하듯 배우는 <b>파이썬</b> 프로그래밍 자습서(<b>파이썬</b> 최신 버전 반영)\\n27명의 베타리더 검증으로, ‘함께 만든’ 입문자 맞춤형 도서\\n이 책은 독학으로 프로그래밍 언어를 처음 배우려는 입문자가, 혹은 <b>파이썬</b>을 배우려는 입문자가 ‘꼭 필요한 내용을 제대로’ 학습할 수 있도록 구성했다. ‘무엇을’... \"\n",
      "\n",
      "},\n",
      "{\n",
      "\"title\": \"<b>파이썬</b> 알고리즘 인터뷰 (95가지 알고리즘 문제 풀이로 완성하는 코딩 테스트)\",\n",
      "\"link\": \"http://book.naver.com/bookdb/book_detail.php?bid=16406247\",\n",
      "\"image\": \"https://bookthumb-phinf.pstatic.net/cover/164/062/16406247.jpg?type=m1&udate=20201028\",\n",
      "\"author\": \"박상길\",\n",
      "\"price\": \"38000\",\n",
      "\"discount\": \"34200\",\n",
      "\"publisher\": \"책만\",\n",
      "\"pubdate\": \"20200715\",\n",
      "\"isbn\": \"1189909170 9791189909178\",\n",
      "\"description\": \"물론, <b>파이썬</b>으로 구현하는 코드 풀이를 통해 성능 최적화 기법, <b>파이썬</b>의 핵심 문법과 다양한 실용 테크닉까지 배울 수 있는, 초보 개발자와 숙련 개발자... 이 책은 현업과 실무에 유용한 주요 알고리즘 이론을 깊숙이 이해하고, <b>파이썬</b>의 핵심 기능과 문법까지 상세하게 이해할 수 있는 취업용 코딩 테스트를... \"\n",
      "\n",
      "},\n",
      "{\n",
      "\"title\": \"한 권으로 끝내는 <b>파이썬</b> 인공지능 입문 + 실전 종합편 (<b>파이썬</b>+넘파이+텐서플로우로 인공지능 딥러닝 직접 구현하기)\",\n",
      "\"link\": \"http://book.naver.com/bookdb/book_detail.php?bid=20937519\",\n",
      "\"image\": \"https://bookthumb-phinf.pstatic.net/cover/209/375/20937519.jpg?type=m1&udate=20210924\",\n",
      "\"author\": \"서민우\",\n",
      "\"price\": \"23000\",\n",
      "\"discount\": \"20700\",\n",
      "\"publisher\": \"앤써북\",\n",
      "\"pubdate\": \"20210925\",\n",
      "\"isbn\": \"118555386X 9791185553863\",\n",
      "\"description\": \"〈한 권으로 끝내는 <b>파이썬</b> 인공지능 입문+실전(종합편)〉 책을 통해 <b>파이썬</b>, 넘파이, 텐서플로우를 이용하여 인공지능 일고리즘을 구현해 보면서... ㆍ 1단계 : 인공지능 딥러닝 이해 ㆍ 2단계 : <b>파이썬</b>으로 딥러닝 알고리즘 구현ㆍ 3단계 : 넘파이로 행렬기반 딥러닝 알고리즘 구현 ㆍ 4단계 : 직접 구현으로... \"\n",
      "\n",
      "},\n",
      "{\n",
      "\"title\": \"<b>파이썬</b> 증권 데이터 분석 (<b>파이썬</b> 입문, 웹 스크레이핑, 트레이딩 전략, 자동 매매)\",\n",
      "\"link\": \"http://book.naver.com/bookdb/book_detail.php?bid=16381920\",\n",
      "\"image\": \"https://bookthumb-phinf.pstatic.net/cover/163/819/16381920.jpg?type=m1&udate=20201117\",\n",
      "\"author\": \"김황후\",\n",
      "\"price\": \"32000\",\n",
      "\"discount\": \"28800\",\n",
      "\"publisher\": \"한빛미디어\",\n",
      "\"pubdate\": \"20200701\",\n",
      "\"isbn\": \"1162243201 9791162243206\",\n",
      "\"description\": \"투자 기법과 프로그래밍 기술로 &#x0D;자신만의 퀀트 투자 시스템을 완성하라&#x0D;&#x0D;『<b>파이썬</b> 증권 데이터 분석』은 웹 스크레이핑으로 증권 데이터를 주기적으로 자동 수집, 분석, 자동 매매, 예측하는 전 과정을 <b>파이썬</b>으로 직접 구현한다. 그 과정에서 금융 데이터 처리 기본 라이브러리(팬더스)부터 주가... \"\n",
      "\n",
      "},\n",
      "{\n",
      "\"title\": \"<b>파이썬</b> 머신러닝 완벽 가이드 (다양한 캐글 예제와 함께 기초 알고리즘부터 최신 기법까지 배우는)\",\n",
      "\"link\": \"http://book.naver.com/bookdb/book_detail.php?bid=16238302\",\n",
      "\"image\": \"https://bookthumb-phinf.pstatic.net/cover/162/383/16238302.jpg?type=m1&udate=20200423\",\n",
      "\"author\": \"권철민\",\n",
      "\"price\": \"38000\",\n",
      "\"discount\": \"34200\",\n",
      "\"publisher\": \"위키북스\",\n",
      "\"pubdate\": \"20200207\",\n",
      "\"isbn\": \"1158391927 9791158391928\",\n",
      "\"description\": \"자세한 이론 설명과 <b>파이썬</b> 실습을 통해 머신러닝을 완벽하게 배울 수 있습니다!《<b>파이썬</b> 머신러닝 완벽 가이드》는 이론 위주의 머신러닝 책에서 탈피해 다양한 실전 예제를 직접 구현해 보면서 머신러닝을 체득할 수 있도록 만들었습니다.  캐글과 UCI 머신러닝 리포지토리에서 난이도가 있는 실습... \"\n",
      "\n",
      "},\n",
      "{\n",
      "\"title\": \"<b>파이썬</b> for Beginner (쉽고 빠르게 익히는 프로그래밍의 기본 원리)\",\n",
      "\"link\": \"http://book.naver.com/bookdb/book_detail.php?bid=15871779\",\n",
      "\"image\": \"https://bookthumb-phinf.pstatic.net/cover/158/717/15871779.jpg?type=m1&udate=20210902\",\n",
      "\"author\": \"우재남\",\n",
      "\"price\": \"23000\",\n",
      "\"discount\": \"22540\",\n",
      "\"publisher\": \"한빛아카데미\",\n",
      "\"pubdate\": \"20200106\",\n",
      "\"isbn\": \"1156644666 9791156644668\",\n",
      "\"description\": \"다양한 예제와 프로젝트를 활용해 초보자도 쉽게 프로그래밍의 기본을 익힐 수 있는 <b>파이썬</b> 입문서. 문법을 사전식으로 나열하지 않고 작지만 기능적인 프로그램을 하나씩 완성하면서 익힐 수 있게 구성했다. 단계별로 완성하는 프로젝트를 바탕으로 자신만의 그럴듯한 프로그램도 완성할 수 있다.\\n\\nIT... \"\n",
      "\n",
      "},\n",
      "{\n",
      "\"title\": \"Do it! 첫 <b>파이썬</b> (게임하듯 배우는 나의 첫 프로그래밍 책)\",\n",
      "\"link\": \"http://book.naver.com/bookdb/book_detail.php?bid=16324192\",\n",
      "\"image\": \"https://bookthumb-phinf.pstatic.net/cover/163/241/16324192.jpg?type=m1&udate=20210106\",\n",
      "\"author\": \"엘리스 코딩\",\n",
      "\"price\": \"14000\",\n",
      "\"discount\": \"12600\",\n",
      "\"publisher\": \"이지스퍼블리싱\",\n",
      "\"pubdate\": \"20200410\",\n",
      "\"isbn\": \"1163031569 9791163031567\",\n",
      "\"description\": \"왕초보 맞춤 <b>파이썬</b> 입문서초등 고학년부터 필수인 코딩, 주인공 ‘엘리스 토끼’와 함께 게임하듯 배우세요. 176가지 그림과 45가지 코딩 문제를 풀다... 마지막 과제인 ‘점심 메뉴 추첨기’ 프로그램까지 만들면 ‘<b>파이썬</b> 이수증’도 드립니다. 제대로 설계된 코딩 교육 콘텐츠를 찾는 학생·학부모·선생님은... \"\n",
      "\n",
      "},\n",
      "{\n",
      "\"title\": \"머신 러닝 교과서 with <b>파이썬</b>, 사이킷런, 텐서플로 (최신 넘파이, 사이킷런, 텐서플로 2로 배우는 머신 러닝, 딥러닝 핵심 알고)\",\n",
      "\"link\": \"http://book.naver.com/bookdb/book_detail.php?bid=18829375\",\n",
      "\"image\": \"https://bookthumb-phinf.pstatic.net/cover/188/293/18829375.jpg?type=m1&udate=20210429\",\n",
      "\"author\": \"세바스찬 라시카|바히드 미자리리\",\n",
      "\"price\": \"44000\",\n",
      "\"discount\": \"39600\",\n",
      "\"publisher\": \"길벗\",\n",
      "\"pubdate\": \"20210331\",\n",
      "\"isbn\": \"1165215187 9791165215187\",\n",
      "\"description\": \"<b>파이썬</b> 언어와 <b>파이썬</b> 기반의 머신 러닝 핵심 라이브러리(SciPy, NumPy, scikit-learn, Matplotlib, Pandas)를 사용해 머신 러닝을, 텐서플로(TensorFlow 2)를 사용해 딥러닝을 실습해본다. 특히 딥러닝은 최신 텐서플로 2에 맞춰 대폭 수정 및 보강되었다. 그러고 나서 GAN과 강화 학습도 자세하게 다룬다. 머신 러닝과... \"\n",
      "\n",
      "}\n",
      "]\n",
      "}\n",
      "\n"
     ]
    }
   ],
   "source": [
    "# 네이버 검색 API예제는 블로그를 비롯 전문자료까지 호출방법이 동일하므로 blog검색만 대표로 예제를 올렸습니다.\n",
    "# 네이버 검색 Open API 예제 - 블로그 검색\n",
    "import os\n",
    "import sys\n",
    "import urllib.request\n",
    "\n",
    "client_id = \"Su_iqO3kYamcpQ5Ctn_5\"  # 직접 입력\n",
    "client_secret = \"_iYVdmG6E7\"  # 직접 입력\n",
    "\n",
    "encText = urllib.parse.quote(\"파이썬\")  # 검색어로 \"파이썬\" 입력함\n",
    "url = \"https://openapi.naver.com/v1/search/book?query=\" + encText # json 결과  # 기존 \"blog\"문구를 \"book\"으로 변경해줌\n",
    "# url = \"https://openapi.naver.com/v1/search/blog.xml?query=\" + encText # xml 결과\n",
    "request = urllib.request.Request(url)\n",
    "request.add_header(\"X-Naver-Client-Id\",client_id)\n",
    "request.add_header(\"X-Naver-Client-Secret\",client_secret)\n",
    "response = urllib.request.urlopen(request)\n",
    "rescode = response.getcode()\n",
    "\n",
    "if(rescode==200):\n",
    "    response_body = response.read()\n",
    "    print(response_body.decode('utf-8'))\n",
    "else:\n",
    "    print(\"Error Code:\" + rescode)"
   ]
  },
  {
   "cell_type": "markdown",
   "id": "6d1d7fc4",
   "metadata": {},
   "source": [
    "## 검색: 영화(movie)"
   ]
  },
  {
   "cell_type": "code",
   "execution_count": 11,
   "id": "3a37c6bc",
   "metadata": {},
   "outputs": [
    {
     "name": "stdout",
     "output_type": "stream",
     "text": [
      "{\n",
      "\"lastBuildDate\": \"Tue, 12 Oct 2021 17:11:23 +0900\",\n",
      "\"total\": 1,\n",
      "\"start\": 1,\n",
      "\"display\": 1,\n",
      "\"items\": [\n",
      "{\n",
      "\"title\": \"<b>파이썬</b> 앤 가드\",\n",
      "\"link\": \"https://movie.naver.com/movie/bi/mi/basic.nhn?code=152070\",\n",
      "\"image\": \"https://ssl.pstatic.net/imgmovie/mdi/mit110/1520/152070_P01_145336.jpg\",\n",
      "\"subtitle\": \"PYTHON AND GUARD\",\n",
      "\"pubDate\": \"2015\",\n",
      "\"director\": \"안톤 디아코프|\",\n",
      "\"actor\": \"\",\n",
      "\"userRating\": \"0.00\"\n",
      "\n",
      "}\n",
      "]\n",
      "}\n",
      "\n"
     ]
    }
   ],
   "source": [
    "# 네이버 검색 API예제는 블로그를 비롯 전문자료까지 호출방법이 동일하므로 blog검색만 대표로 예제를 올렸습니다.\n",
    "# 네이버 검색 Open API 예제 - 블로그 검색\n",
    "import os\n",
    "import sys\n",
    "import urllib.request\n",
    "\n",
    "client_id = \"Su_iqO3kYamcpQ5Ctn_5\"  # 직접 입력\n",
    "client_secret = \"_iYVdmG6E7\"  # 직접 입력\n",
    "\n",
    "encText = urllib.parse.quote(\"파이썬\")  # 검색어로 \"파이썬\" 입력함\n",
    "url = \"https://openapi.naver.com/v1/search/movie?query=\" + encText # json 결과  # movie\"로 문구 변경\n",
    "# url = \"https://openapi.naver.com/v1/search/blog.xml?query=\" + encText # xml 결과\n",
    "request = urllib.request.Request(url)\n",
    "request.add_header(\"X-Naver-Client-Id\",client_id)\n",
    "request.add_header(\"X-Naver-Client-Secret\",client_secret)\n",
    "response = urllib.request.urlopen(request)\n",
    "rescode = response.getcode()\n",
    "\n",
    "if(rescode==200):\n",
    "    response_body = response.read()\n",
    "    print(response_body.decode('utf-8'))\n",
    "else:\n",
    "    print(\"Error Code:\" + rescode)"
   ]
  },
  {
   "cell_type": "markdown",
   "id": "6297d363",
   "metadata": {},
   "source": [
    "## 검색: 카페(cafearticle)"
   ]
  },
  {
   "cell_type": "code",
   "execution_count": 12,
   "id": "1d6f1643",
   "metadata": {
    "scrolled": true
   },
   "outputs": [
    {
     "name": "stdout",
     "output_type": "stream",
     "text": [
      "{\n",
      "\"lastBuildDate\": \"Tue, 12 Oct 2021 17:12:45 +0900\",\n",
      "\"total\": 121544,\n",
      "\"start\": 1,\n",
      "\"display\": 10,\n",
      "\"items\": [\n",
      "{\n",
      "\"title\": \"<b>파이썬</b> 강의 프로그래밍 수업 무료로 듣자!\",\n",
      "\"link\": \"http://cafe.naver.com/anjun/885594\",\n",
      "\"description\": \"※이 글은 산준모카페 관리자 승인 하에 작성된 글입니다 <b>파이썬</b> 강의 프로그래밍 수업 무료로 듣자! <b>파이썬</b> 강의 프로그래밍 수업 무료로 듣자! 안녕하세요 IT전문 학습멘토 동자쌤입니다 프로그래밍을 배우기로... \",\n",
      "\"cafename\": \"산준모★산업안전기사｜위험물산업기사...\",\n",
      "\"cafeurl\": \"https://cafe.naver.com/anjun\"\n",
      "\n",
      "},\n",
      "{\n",
      "\"title\": \"<b>파이썬</b> 교재 추천해주세요\",\n",
      "\"link\": \"http://cafe.naver.com/forasteacher/158057\",\n",
      "\"description\": \"초6아이에요 다른 코딩 자격증 준비중이고 곧 마무리될 단계라서 다음 과정으로 <b>파이썬</b>해주고 싶은데 초등 애들이 사용할 만한 교재 추천 부탁드려요 그리고 혹시 아이들 중에 diat <b>파이썬</b> 자격증 시험 진행해보신분들... \",\n",
      "\"cafename\": \"방세아.방과후.돌봄.공부방.유치원\",\n",
      "\"cafeurl\": \"https://cafe.naver.com/forasteacher\"\n",
      "\n",
      "},\n",
      "{\n",
      "\"title\": \"<b>파이썬</b>기초학원 쉽게 교육받는 방법 공유합니다.\",\n",
      "\"link\": \"http://cafe.naver.com/nomacomnovels2/1985\",\n",
      "\"description\": \"오늘은 <b>파이썬</b>기초학원에서 <b>파이썬</b>과 관련된 여러가지 이야기를 나눠보도록 할건데요! 바로 시작해보도록 할게요~ Let's go! <b>파이썬</b>에 대한 간략한 소개! <b>파이썬</b>은 네덜란드 Guido van Rossum이 만든 언어로 알려져... \",\n",
      "\"cafename\": \"IT로 성공하는 사람들 - 아성사 ( IT공...\",\n",
      "\"cafeurl\": \"https://cafe.naver.com/nomacomnovels2\"\n",
      "\n",
      "},\n",
      "{\n",
      "\"title\": \"<b>파이썬</b> 도서\",\n",
      "\"link\": \"http://cafe.naver.com/mathall/2268240\",\n",
      "\"description\": \"안녕하세요~ 아이가 <b>파이썬</b>책을 사달라네요 혼자라도 해보고 싶다는데 어떤책을 사줘야할지를 모르겠네요 <b>파이썬</b> 책 활용하기 좋은것으로 아시는분 계시면 도움부탁드립니다~~♡♡\",\n",
      "\"cafename\": \"[상위1%카페] 대한민국 상위1% 교육정...\",\n",
      "\"cafeurl\": \"https://cafe.naver.com/mathall\"\n",
      "\n",
      "},\n",
      "{\n",
      "\"title\": \"<b>파이썬</b> 배우는 법\",\n",
      "\"link\": \"http://cafe.naver.com/inmacbook/2470930\",\n",
      "\"description\": \"맥북으로 <b>파이썬</b>을 배우려고 합니다. 혹시 유튜브에 맥기반으로 파이선 강의하는 사이트가 있을가요? 맥기반이 아니더라도 <b>파이썬</b> 초보가 쉽게 배울수 있는 유투버 추천 부탁드립니다.\",\n",
      "\"cafename\": \"맥 쓰는 사람들 [구 맥북을 쓰는 사람...\",\n",
      "\"cafeurl\": \"https://cafe.naver.com/inmacbook\"\n",
      "\n",
      "},\n",
      "{\n",
      "\"title\": \"반도체쪽 <b>파이썬</b> 자격증\",\n",
      "\"link\": \"http://cafe.naver.com/dokchi/11273200\",\n",
      "\"description\": \"이쪽에서도 <b>파이썬</b>이 많이 쓰인다고 하여 <b>파이썬</b>관련 자격증을 하나 취득해볼까 하는데 <b>파이썬</b> 마스터, Cos Pro Python 이 둘 중에서 고민중입니다. 혹시 어느쪽이 좀 더 도움이 될까요..? 답변... \",\n",
      "\"cafename\": \"독취사-취업,대학생,대기업,공기업,GS...\",\n",
      "\"cafeurl\": \"https://cafe.naver.com/dokchi\"\n",
      "\n",
      "},\n",
      "{\n",
      "\"title\": \"<b>파이썬</b> 독학사이트(coding-insight.com) 업데이트 소개드려요.\",\n",
      "\"link\": \"http://cafe.naver.com/pangyomommy/519978\",\n",
      "\"description\": \"낙원중학교 1학년 친구들의 '<b>파이썬</b> 팩토리' 동아리가 지난주 한국과학창의재단의 2차 온라인 자문을... 등을 <b>파이썬</b>을 통해 구현해볼 수 있는 동영상을 올리고 각 강좌 소개동영상을 올리기 시작했어요. https://youtu.... \",\n",
      "\"cafename\": \"[판교맘] 판교 엄마들의 모임\",\n",
      "\"cafeurl\": \"https://cafe.naver.com/pangyomommy\"\n",
      "\n",
      "},\n",
      "{\n",
      "\"title\": \"ADP 실기와 빅분기 실기// <b>파이썬</b> or R\",\n",
      "\"link\": \"http://cafe.naver.com/sqlpd/25148\",\n",
      "\"description\": \"예전 학부 때 복수전공하면서 계량경제학 과목을 R로 한 학기동안 만져본적 있는데(교수님이 R로만 하심), ADP나 빅분기 실기는 훨씬 더 어려울거 같아 <b>파이썬</b>으로 준비할지 R로 준비할지 고민됩니다. 사실 한 학기동안... \",\n",
      "\"cafename\": \"데이터 전문가 포럼 (빅데이터분석기사...\",\n",
      "\"cafeurl\": \"https://cafe.naver.com/sqlpd\"\n",
      "\n",
      "},\n",
      "{\n",
      "\"title\": \"<b>파이썬</b> 책을 사야할까요??\",\n",
      "\"link\": \"http://cafe.naver.com/kongdae/140672\",\n",
      "\"description\": \"2학기부터 정보시간에 <b>파이썬</b> 배우기 시작했는데 교과서에는 내용이 충분하지 않은것 같아요ㅠㅠ 컴공과를... 하나 사두고 참고하면서 이것저것 해보고 싶긴 한데 <b>파이썬</b>에 쏟을 수 있는 시간이 많이 나지는 않을것... \",\n",
      "\"cafename\": \"[이공계의 별★서울대,KAIST,POSTECH,...\",\n",
      "\"cafeurl\": \"https://cafe.naver.com/kongdae\"\n",
      "\n",
      "},\n",
      "{\n",
      "\"title\": \"<b>파이썬</b>으로 plc 데이터 받아서 db에 저장하는게 가능한가요?\",\n",
      "\"link\": \"http://cafe.naver.com/cplc/297952\",\n",
      "\"description\": \"일반적으로 c#을 많이쓰는걸로 알고 있는데 <b>파이썬</b>으로 가능한지해서... 잘 안쓰면 왜안쓰는지...질문을 남겨봅니다.!\",\n",
      "\"cafename\": \"컴퓨터일반과PLC\",\n",
      "\"cafeurl\": \"https://cafe.naver.com/cplc\"\n",
      "\n",
      "}\n",
      "]\n",
      "}\n",
      "\n"
     ]
    }
   ],
   "source": [
    "# 네이버 검색 API예제는 블로그를 비롯 전문자료까지 호출방법이 동일하므로 blog검색만 대표로 예제를 올렸습니다.\n",
    "# 네이버 검색 Open API 예제 - 블로그 검색\n",
    "import os\n",
    "import sys\n",
    "import urllib.request\n",
    "\n",
    "client_id = \"Su_iqO3kYamcpQ5Ctn_5\"  # 직접 입력\n",
    "client_secret = \"_iYVdmG6E7\"  # 직접 입력\n",
    "\n",
    "encText = urllib.parse.quote(\"파이썬\")  # 검색어로 \"파이썬\" 입력함\n",
    "url = \"https://openapi.naver.com/v1/search/cafearticle?query=\" + encText # json 결과  # cafearticle\"로 문구 변경\n",
    "# url = \"https://openapi.naver.com/v1/search/blog.xml?query=\" + encText # xml 결과\n",
    "request = urllib.request.Request(url)\n",
    "request.add_header(\"X-Naver-Client-Id\",client_id)\n",
    "request.add_header(\"X-Naver-Client-Secret\",client_secret)\n",
    "response = urllib.request.urlopen(request)\n",
    "rescode = response.getcode()\n",
    "\n",
    "if(rescode==200):\n",
    "    response_body = response.read()\n",
    "    print(response_body.decode('utf-8'))\n",
    "else:\n",
    "    print(\"Error Code:\" + rescode)"
   ]
  },
  {
   "cell_type": "markdown",
   "id": "f81b53e7",
   "metadata": {},
   "source": [
    "## 검색: 쇼핑(shop)"
   ]
  },
  {
   "cell_type": "code",
   "execution_count": 13,
   "id": "feedb912",
   "metadata": {},
   "outputs": [
    {
     "name": "stdout",
     "output_type": "stream",
     "text": [
      "{\n",
      "\"lastBuildDate\": \"Tue, 12 Oct 2021 17:13:06 +0900\",\n",
      "\"total\": 344080,\n",
      "\"start\": 1,\n",
      "\"display\": 10,\n",
      "\"items\": [\n",
      "{\n",
      "\"title\": \"골든구스 슈퍼스타 <b>파이톤</b> 여자 스니커즈 GWF00102 F000761 10402\",\n",
      "\"link\": \"https://search.shopping.naver.com/gate.nhn?id=27539981407\",\n",
      "\"image\": \"https://shopping-phinf.pstatic.net/main_2753998/27539981407.20210612003415.jpg\",\n",
      "\"lprice\": \"366840\",\n",
      "\"hprice\": \"\",\n",
      "\"mallName\": \"네이버\",\n",
      "\"productId\": \"27539981407\",\n",
      "\"productType\": \"1\",\n",
      "\"brand\": \"골든구스\",\n",
      "\"maker\": \"골든구스\",\n",
      "\"category1\": \"패션잡화\",\n",
      "\"category2\": \"여성신발\",\n",
      "\"category3\": \"단화\",\n",
      "\"category4\": \"스니커즈\"\n",
      "\n",
      "},\n",
      "{\n",
      "\"title\": \"칼린 모드 H79163010\",\n",
      "\"link\": \"https://search.shopping.naver.com/gate.nhn?id=18402726379\",\n",
      "\"image\": \"https://shopping-phinf.pstatic.net/main_1840272/18402726379.20210604103232.jpg\",\n",
      "\"lprice\": \"68710\",\n",
      "\"hprice\": \"\",\n",
      "\"mallName\": \"네이버\",\n",
      "\"productId\": \"18402726379\",\n",
      "\"productType\": \"1\",\n",
      "\"brand\": \"칼린\",\n",
      "\"maker\": \"\",\n",
      "\"category1\": \"패션잡화\",\n",
      "\"category2\": \"여성가방\",\n",
      "\"category3\": \"크로스백\",\n",
      "\"category4\": \"\"\n",
      "\n",
      "},\n",
      "{\n",
      "\"title\": \"사만사타바사 럭키 Lucky 미니백 15371MI68\",\n",
      "\"link\": \"https://search.shopping.naver.com/gate.nhn?id=24143307710\",\n",
      "\"image\": \"https://shopping-phinf.pstatic.net/main_2414330/24143307710.20211004002608.jpg\",\n",
      "\"lprice\": \"75210\",\n",
      "\"hprice\": \"\",\n",
      "\"mallName\": \"네이버\",\n",
      "\"productId\": \"24143307710\",\n",
      "\"productType\": \"1\",\n",
      "\"brand\": \"사만사타바사\",\n",
      "\"maker\": \"\",\n",
      "\"category1\": \"패션잡화\",\n",
      "\"category2\": \"여성가방\",\n",
      "\"category3\": \"크로스백\",\n",
      "\"category4\": \"\"\n",
      "\n",
      "},\n",
      "{\n",
      "\"title\": \"샤를리즈 <b>파이톤</b>백 POWT-1027\",\n",
      "\"link\": \"https://search.shopping.naver.com/gate.nhn?id=23134625806\",\n",
      "\"image\": \"https://shopping-phinf.pstatic.net/main_2313462/23134625806.20200613171707.jpg\",\n",
      "\"lprice\": \"88290\",\n",
      "\"hprice\": \"\",\n",
      "\"mallName\": \"네이버\",\n",
      "\"productId\": \"23134625806\",\n",
      "\"productType\": \"1\",\n",
      "\"brand\": \"\",\n",
      "\"maker\": \"\",\n",
      "\"category1\": \"패션잡화\",\n",
      "\"category2\": \"여성가방\",\n",
      "\"category3\": \"토트백\",\n",
      "\"category4\": \"\"\n",
      "\n",
      "},\n",
      "{\n",
      "\"title\": \"잘모이 셀리나 리얼 <b>파이톤</b> 스마트백 LTZ-5217\",\n",
      "\"link\": \"https://search.shopping.naver.com/gate.nhn?id=29034170281\",\n",
      "\"image\": \"https://shopping-phinf.pstatic.net/main_2903417/29034170281.20210929210506.jpg\",\n",
      "\"lprice\": \"88200\",\n",
      "\"hprice\": \"\",\n",
      "\"mallName\": \"네이버\",\n",
      "\"productId\": \"29034170281\",\n",
      "\"productType\": \"1\",\n",
      "\"brand\": \"잘모이\",\n",
      "\"maker\": \"\",\n",
      "\"category1\": \"패션잡화\",\n",
      "\"category2\": \"여성가방\",\n",
      "\"category3\": \"토트백\",\n",
      "\"category4\": \"\"\n",
      "\n",
      "},\n",
      "{\n",
      "\"title\": \"잘모이 피플오브더월드 또리에 메간 <b>파이톤</b>백 POWT-1028\",\n",
      "\"link\": \"https://search.shopping.naver.com/gate.nhn?id=23134182510\",\n",
      "\"image\": \"https://shopping-phinf.pstatic.net/main_2313418/23134182510.20200613154000.jpg\",\n",
      "\"lprice\": \"85020\",\n",
      "\"hprice\": \"\",\n",
      "\"mallName\": \"네이버\",\n",
      "\"productId\": \"23134182510\",\n",
      "\"productType\": \"1\",\n",
      "\"brand\": \"잘모이\",\n",
      "\"maker\": \"\",\n",
      "\"category1\": \"패션잡화\",\n",
      "\"category2\": \"여성가방\",\n",
      "\"category3\": \"토트백\",\n",
      "\"category4\": \"\"\n",
      "\n",
      "},\n",
      "{\n",
      "\"title\": \"르까프 여성 <b>파이썬</b>18 PP 1118ST151\",\n",
      "\"link\": \"https://search.shopping.naver.com/gate.nhn?id=27397012345\",\n",
      "\"image\": \"https://shopping-phinf.pstatic.net/main_2739701/27397012345.20210602025256.jpg\",\n",
      "\"lprice\": \"20230\",\n",
      "\"hprice\": \"\",\n",
      "\"mallName\": \"네이버\",\n",
      "\"productId\": \"27397012345\",\n",
      "\"productType\": \"1\",\n",
      "\"brand\": \"르까프\",\n",
      "\"maker\": \"\",\n",
      "\"category1\": \"패션잡화\",\n",
      "\"category2\": \"여성신발\",\n",
      "\"category3\": \"운동화\",\n",
      "\"category4\": \"러닝화\"\n",
      "\n",
      "},\n",
      "{\n",
      "\"title\": \"샌디 <b>파이톤</b> 핸드백 LTZ-5194\",\n",
      "\"link\": \"https://search.shopping.naver.com/gate.nhn?id=23455192579\",\n",
      "\"image\": \"https://shopping-phinf.pstatic.net/main_2345519/23455192579.20200714190521.jpg\",\n",
      "\"lprice\": \"98280\",\n",
      "\"hprice\": \"\",\n",
      "\"mallName\": \"네이버\",\n",
      "\"productId\": \"23455192579\",\n",
      "\"productType\": \"1\",\n",
      "\"brand\": \"\",\n",
      "\"maker\": \"\",\n",
      "\"category1\": \"패션잡화\",\n",
      "\"category2\": \"여성가방\",\n",
      "\"category3\": \"토트백\",\n",
      "\"category4\": \"\"\n",
      "\n",
      "},\n",
      "{\n",
      "\"title\": \"젬므 <b>파이톤</b>백 스카프 LTZ-5181\",\n",
      "\"link\": \"https://search.shopping.naver.com/gate.nhn?id=22164931999\",\n",
      "\"image\": \"https://shopping-phinf.pstatic.net/main_2216493/22164931999.20200310151009.jpg\",\n",
      "\"lprice\": \"98990\",\n",
      "\"hprice\": \"\",\n",
      "\"mallName\": \"네이버\",\n",
      "\"productId\": \"22164931999\",\n",
      "\"productType\": \"1\",\n",
      "\"brand\": \"\",\n",
      "\"maker\": \"\",\n",
      "\"category1\": \"패션잡화\",\n",
      "\"category2\": \"여성가방\",\n",
      "\"category3\": \"토트백\",\n",
      "\"category4\": \"\"\n",
      "\n",
      "},\n",
      "{\n",
      "\"title\": \"잘모이 최신상 리얼 <b>파이톤</b> 셀리나 빅 토트\",\n",
      "\"link\": \"https://search.shopping.naver.com/gate.nhn?id=26501844713\",\n",
      "\"image\": \"https://shopping-phinf.pstatic.net/main_2650184/26501844713.20210324211416.jpg\",\n",
      "\"lprice\": \"276200\",\n",
      "\"hprice\": \"\",\n",
      "\"mallName\": \"네이버\",\n",
      "\"productId\": \"26501844713\",\n",
      "\"productType\": \"1\",\n",
      "\"brand\": \"잘모이\",\n",
      "\"maker\": \"\",\n",
      "\"category1\": \"패션잡화\",\n",
      "\"category2\": \"여성가방\",\n",
      "\"category3\": \"토트백\",\n",
      "\"category4\": \"\"\n",
      "\n",
      "}\n",
      "]\n",
      "}\n",
      "\n"
     ]
    }
   ],
   "source": [
    "# 네이버 검색 API예제는 블로그를 비롯 전문자료까지 호출방법이 동일하므로 blog검색만 대표로 예제를 올렸습니다.\n",
    "# 네이버 검색 Open API 예제 - 블로그 검색\n",
    "import os\n",
    "import sys\n",
    "import urllib.request\n",
    "\n",
    "client_id = \"Su_iqO3kYamcpQ5Ctn_5\"  # 직접 입력\n",
    "client_secret = \"_iYVdmG6E7\"  # 직접 입력\n",
    "\n",
    "encText = urllib.parse.quote(\"파이썬\")  # 검색어로 \"파이썬\" 입력함\n",
    "url = \"https://openapi.naver.com/v1/search/shop?query=\" + encText # json 결과  # shop\"으로 문구 변경\n",
    "# url = \"https://openapi.naver.com/v1/search/blog.xml?query=\" + encText # xml 결과\n",
    "request = urllib.request.Request(url)\n",
    "request.add_header(\"X-Naver-Client-Id\",client_id)\n",
    "request.add_header(\"X-Naver-Client-Secret\",client_secret)\n",
    "response = urllib.request.urlopen(request)\n",
    "rescode = response.getcode()\n",
    "\n",
    "if(rescode==200):\n",
    "    response_body = response.read()\n",
    "    print(response_body.decode('utf-8'))\n",
    "else:\n",
    "    print(\"Error Code:\" + rescode)"
   ]
  },
  {
   "cell_type": "markdown",
   "id": "3e2b701d",
   "metadata": {},
   "source": [
    "## 검색: 백과사전(encyc)"
   ]
  },
  {
   "cell_type": "code",
   "execution_count": 14,
   "id": "7bdc89fa",
   "metadata": {
    "scrolled": true
   },
   "outputs": [
    {
     "name": "stdout",
     "output_type": "stream",
     "text": [
      "{\n",
      "\"lastBuildDate\": \"Tue, 12 Oct 2021 17:13:21 +0900\",\n",
      "\"total\": 444,\n",
      "\"start\": 1,\n",
      "\"display\": 10,\n",
      "\"items\": [\n",
      "{\n",
      "\"title\": \"<b>파이썬</b>\",\n",
      "\"link\": \"https://terms.naver.com/entry.naver?docId=3580815&cid=59088&categoryId=59096\",\n",
      "\"description\": \"‘<b>파이썬</b>’이다. 간결한 문법으로 입문자가 이해하기 쉽고, 다양한 분야에 활용할 수 있기 때문이다. 이 외에도 <b>파이썬</b>은 머신러닝, 그래픽, 웹 개발 등 여러 업계에서 선호하는 언어로 꾸준히... \",\n",
      "\"thumbnail\": \"http://openapi-dbscthumb.phinf.naver.net/4749_000_1/20170118193349632_0CHSSS5Y6.png/01_16.png?type=m160_160\"\n",
      "\n",
      "},\n",
      "{\n",
      "\"title\": \"<b>파이썬</b>\",\n",
      "\"link\": \"https://terms.naver.com/entry.naver?docId=3607513&cid=58598&categoryId=59316\",\n",
      "\"description\": \" 컴퓨터 언어의 일종으로 간결하고 생산성 높은 프로그래밍 언어.  <b>파이썬</b>(python)은 프로그램을 설계하는 프로그래밍 언어 중 하나입니다. 컴퓨터는 0과 1을(이진수) 인식하여 작동하기 때문에 과거에는... \",\n",
      "\"thumbnail\": \"http://openapi-dbscthumb.phinf.naver.net/4751_000_3/20170710213206672_OPHLG2VOW.jpg/992_170575_10034.jpg?type=m160_160\"\n",
      "\n",
      "},\n",
      "{\n",
      "\"title\": \"<b>파이썬</b>\",\n",
      "\"link\": \"https://terms.naver.com/entry.naver?docId=3533295&cid=40942&categoryId=32838\",\n",
      "\"description\": \" 오픈소스 고급 프로그래밍 언어 중 하나이다.  C언어를 기반으로 한 오픈소스 고급 프로그래밍 언어로, 1991년 귀도 반 로섬(Guido van Rossum)에 의해 설계 및 개발되었다. <b>파이썬</b>이라는 이름은 <b>파이썬</b>을... \",\n",
      "\"thumbnail\": \"\"\n",
      "\n",
      "},\n",
      "{\n",
      "\"title\": \"<b>파이썬</b>\",\n",
      "\"link\": \"https://ko.wikipedia.org/wiki/%ED%8C%8C%EC%9D%B4%EC%8D%AC\",\n",
      "\"description\": \"<b>파이썬</b> ( 영어: Python )은 1991년 프로그래머인 귀도 반 로섬이 발표한 고급 프로그래밍 언어로, 플랫폼에 독립적이며 인터프리터식, 객체지향적, 동적 타이핑(dynamically typed) 대화형 언어이다.... \",\n",
      "\"thumbnail\": \"\"\n",
      "\n",
      "},\n",
      "{\n",
      "\"title\": \"C<b>파이썬</b>\",\n",
      "\"link\": \"https://ko.wikipedia.org/wiki/C%ED%8C%8C%EC%9D%B4%EC%8D%AC\",\n",
      "\"description\": \"C<b>파이썬</b> (CPython)은 <b>파이썬</b> 프로그래밍 언어의 참조 구현체이다. C와 <b>파이썬</b>으로 작성된 C<b>파이썬</b>은 이 언어에 가장 널리 사용되는 기본 구현체이다. C<b>파이썬</b>은 인터프리트 과정 이전에 <b>파이썬</b> 코드를... \",\n",
      "\"thumbnail\": \"\"\n",
      "\n",
      "},\n",
      "{\n",
      "\"title\": \"바이오<b>파이썬</b>\",\n",
      "\"link\": \"https://ko.wikipedia.org/wiki/%EB%B0%94%EC%9D%B4%EC%98%A4%ED%8C%8C%EC%9D%B4%EC%8D%AC\",\n",
      "\"description\": \"바이오<b>파이썬</b> (Biopython) 프로젝트는 분자생물학 계산에 자유롭게 사용하기 위한 <b>파이썬</b> 라이브러리 구축 프로젝트이다. 같이 보기 바이오자바 바이오펄 외부 링크 biopython.org\",\n",
      "\"thumbnail\": \"\"\n",
      "\n",
      "},\n",
      "{\n",
      "\"title\": \"<b>파이썬</b>의 역사\",\n",
      "\"link\": \"https://ko.wikipedia.org/wiki/%ED%8C%8C%EC%9D%B4%EC%8D%AC%EC%9D%98_%EC%97%AD%EC%82%AC\",\n",
      "\"description\": \"프로그래밍 언어 <b>파이썬</b>은 1980년대 말에 구상되었으며 그 구현체는 1989년 12월 예외 처리가 가능하고 아메바 운영 체제와 통신이 가능한 ABC의 후속 프로그래밍 언어로서 CWI(Centrum Wiskunde... \",\n",
      "\"thumbnail\": \"\"\n",
      "\n",
      "},\n",
      "{\n",
      "\"title\": \"아나콘다 (<b>파이썬</b> 배포판)\",\n",
      "\"link\": \"https://ko.wikipedia.org/wiki/%EC%95%84%EB%82%98%EC%BD%98%EB%8B%A4_(%ED%8C%8C%EC%9D%B4%EC%8D%AC_%EB%B0%B0%ED%8F%AC%ED%8C%90)\",\n",
      "\"description\": \"아나콘다 (Anaconda)는 패키지 관리와 디플로이를 단순케 할 목적으로 과학 계산(데이터 과학, 기계 학습 애플리케이션, 대규모 데이터 처리, 예측 분석 등)을 위해 <b>파이썬</b>과 R 프로그래밍 언어의 자유... \",\n",
      "\"thumbnail\": \"\"\n",
      "\n",
      "},\n",
      "{\n",
      "\"title\": \"<b>파이썬</b> 소프트웨어 재단\",\n",
      "\"link\": \"https://ko.wikipedia.org/wiki/%ED%8C%8C%EC%9D%B4%EC%8D%AC_%EC%86%8C%ED%94%84%ED%8A%B8%EC%9B%A8%EC%96%B4_%EC%9E%AC%EB%8B%A8\",\n",
      "\"description\": \"<b>파이썬</b> 소프트웨어 재단 (Python Software Foundation, PSF)은 <b>파이썬</b> 프로그래밍 언어에 헌신하는 비영리 단체로서, 2001년 3월 6일 런칭했다. 이 단체의 임무는 <b>파이썬</b> 공동체의 개발을 발전시키고... \",\n",
      "\"thumbnail\": \"\"\n",
      "\n",
      "},\n",
      "{\n",
      "\"title\": \"자이썬\",\n",
      "\"link\": \"https://ko.wikipedia.org/wiki/%EC%9E%90%EC%9D%B4%EC%8D%AC\",\n",
      "\"description\": \"자이썬 ( Jython )은 <b>파이썬</b>의 자바 구현으로, Jim Hugunin에 의해 처음으로 만들어졌다. 처음에는 <b>파이썬</b> 표준 구현의 이름(CPython)을 따라 JPython 라는 이름을 썼다. 자이썬은 자바 언어로만 작성되었기... \",\n",
      "\"thumbnail\": \"\"\n",
      "\n",
      "}\n",
      "]\n",
      "}\n",
      "\n"
     ]
    }
   ],
   "source": [
    "# 네이버 검색 API예제는 블로그를 비롯 전문자료까지 호출방법이 동일하므로 blog검색만 대표로 예제를 올렸습니다.\n",
    "# 네이버 검색 Open API 예제 - 블로그 검색\n",
    "import os\n",
    "import sys\n",
    "import urllib.request\n",
    "\n",
    "client_id = \"Su_iqO3kYamcpQ5Ctn_5\"  # 직접 입력\n",
    "client_secret = \"_iYVdmG6E7\"  # 직접 입력\n",
    "\n",
    "encText = urllib.parse.quote(\"파이썬\")  # 검색어로 \"파이썬\" 입력함\n",
    "url = \"https://openapi.naver.com/v1/search/encyc?query=\" + encText # json 결과  # encyc\"로 문구 변경\n",
    "# url = \"https://openapi.naver.com/v1/search/blog.xml?query=\" + encText # xml 결과\n",
    "request = urllib.request.Request(url)\n",
    "request.add_header(\"X-Naver-Client-Id\",client_id)\n",
    "request.add_header(\"X-Naver-Client-Secret\",client_secret)\n",
    "response = urllib.request.urlopen(request)\n",
    "rescode = response.getcode()\n",
    "\n",
    "if(rescode==200):\n",
    "    response_body = response.read()\n",
    "    print(response_body.decode('utf-8'))\n",
    "else:\n",
    "    print(\"Error Code:\" + rescode)"
   ]
  },
  {
   "cell_type": "markdown",
   "id": "e506f947",
   "metadata": {},
   "source": [
    "## 3. 상품 검색 \n",
    "- \"몰스킨\""
   ]
  },
  {
   "cell_type": "code",
   "execution_count": 3,
   "id": "23c258e6",
   "metadata": {},
   "outputs": [
    {
     "name": "stdout",
     "output_type": "stream",
     "text": [
      "{\n",
      "\"lastBuildDate\": \"Tue, 12 Oct 2021 23:53:02 +0900\",\n",
      "\"total\": 29123,\n",
      "\"start\": 1,\n",
      "\"display\": 10,\n",
      "\"items\": [\n",
      "{\n",
      "\"title\": \"한정판 <b>몰스킨</b> 2022 피너츠 위클리 다이어리 포켓\",\n",
      "\"link\": \"https://search.shopping.naver.com/gate.nhn?id=28763297998\",\n",
      "\"image\": \"https://shopping-phinf.pstatic.net/main_2876329/28763297998.20210908210546.jpg\",\n",
      "\"lprice\": \"29810\",\n",
      "\"hprice\": \"\",\n",
      "\"mallName\": \"네이버\",\n",
      "\"productId\": \"28763297998\",\n",
      "\"productType\": \"1\",\n",
      "\"brand\": \"몰스킨\",\n",
      "\"maker\": \"몰스킨\",\n",
      "\"category1\": \"생활/건강\",\n",
      "\"category2\": \"문구/사무용품\",\n",
      "\"category3\": \"다이어리/플래너\",\n",
      "\"category4\": \"다이어리\"\n",
      "\n",
      "},\n",
      "{\n",
      "\"title\": \"<b>몰스킨</b> 2022 해리포터 데일리 다이어리 포캣\",\n",
      "\"link\": \"https://search.shopping.naver.com/gate.nhn?id=28719894754\",\n",
      "\"image\": \"https://shopping-phinf.pstatic.net/main_2871989/28719894754.20210906035419.jpg\",\n",
      "\"lprice\": \"30060\",\n",
      "\"hprice\": \"\",\n",
      "\"mallName\": \"네이버\",\n",
      "\"productId\": \"28719894754\",\n",
      "\"productType\": \"1\",\n",
      "\"brand\": \"몰스킨\",\n",
      "\"maker\": \"몰스킨\",\n",
      "\"category1\": \"생활/건강\",\n",
      "\"category2\": \"문구/사무용품\",\n",
      "\"category3\": \"다이어리/플래너\",\n",
      "\"category4\": \"다이어리\"\n",
      "\n",
      "},\n",
      "{\n",
      "\"title\": \"<b>몰스킨</b> 클래식 노트 소프트커버 도트 포켓 머틀그린\",\n",
      "\"link\": \"https://search.shopping.naver.com/gate.nhn?id=24014924801\",\n",
      "\"image\": \"https://shopping-phinf.pstatic.net/main_2401492/24014924801.20200903021703.jpg\",\n",
      "\"lprice\": \"18810\",\n",
      "\"hprice\": \"\",\n",
      "\"mallName\": \"네이버\",\n",
      "\"productId\": \"24014924801\",\n",
      "\"productType\": \"1\",\n",
      "\"brand\": \"몰스킨\",\n",
      "\"maker\": \"몰스킨\",\n",
      "\"category1\": \"생활/건강\",\n",
      "\"category2\": \"문구/사무용품\",\n",
      "\"category3\": \"노트/수첩\",\n",
      "\"category4\": \"노트\"\n",
      "\n",
      "},\n",
      "{\n",
      "\"title\": \"<b>몰스킨</b> 2022 다이어리 데일리 위클리 포켓 고급 명품 감성 휴대용 여자 각인 해리포터\",\n",
      "\"link\": \"https://search.shopping.naver.com/gate.nhn?id=83374268420\",\n",
      "\"image\": \"https://shopping-phinf.pstatic.net/main_8337426/83374268420.jpg\",\n",
      "\"lprice\": \"26800\",\n",
      "\"hprice\": \"\",\n",
      "\"mallName\": \"에코펜\",\n",
      "\"productId\": \"83374268420\",\n",
      "\"productType\": \"2\",\n",
      "\"brand\": \"몰스킨\",\n",
      "\"maker\": \"몰스킨\",\n",
      "\"category1\": \"생활/건강\",\n",
      "\"category2\": \"문구/사무용품\",\n",
      "\"category3\": \"다이어리/플래너\",\n",
      "\"category4\": \"다이어리\"\n",
      "\n",
      "},\n",
      "{\n",
      "\"title\": \"<b>몰스킨</b> 클래식노트 플레인 하드 L\",\n",
      "\"link\": \"https://search.shopping.naver.com/gate.nhn?id=24031381534\",\n",
      "\"image\": \"https://shopping-phinf.pstatic.net/main_2403138/24031381534.20200904012957.jpg\",\n",
      "\"lprice\": \"19930\",\n",
      "\"hprice\": \"\",\n",
      "\"mallName\": \"네이버\",\n",
      "\"productId\": \"24031381534\",\n",
      "\"productType\": \"1\",\n",
      "\"brand\": \"몰스킨\",\n",
      "\"maker\": \"몰스킨\",\n",
      "\"category1\": \"생활/건강\",\n",
      "\"category2\": \"문구/사무용품\",\n",
      "\"category3\": \"노트/수첩\",\n",
      "\"category4\": \"노트\"\n",
      "\n",
      "},\n",
      "{\n",
      "\"title\": \"<b>몰스킨</b> 2022 데일리 다이어리 하드커버 포켓 4색상\",\n",
      "\"link\": \"https://search.shopping.naver.com/gate.nhn?id=28719036749\",\n",
      "\"image\": \"https://shopping-phinf.pstatic.net/main_2871903/28719036749.20210906011032.jpg\",\n",
      "\"lprice\": \"26500\",\n",
      "\"hprice\": \"\",\n",
      "\"mallName\": \"네이버\",\n",
      "\"productId\": \"28719036749\",\n",
      "\"productType\": \"1\",\n",
      "\"brand\": \"몰스킨\",\n",
      "\"maker\": \"몰스킨\",\n",
      "\"category1\": \"생활/건강\",\n",
      "\"category2\": \"문구/사무용품\",\n",
      "\"category3\": \"다이어리/플래너\",\n",
      "\"category4\": \"다이어리\"\n",
      "\n",
      "},\n",
      "{\n",
      "\"title\": \"<b>몰스킨</b> 클래식노트 SOFT 하이드레인저\",\n",
      "\"link\": \"https://search.shopping.naver.com/gate.nhn?id=27370038858\",\n",
      "\"image\": \"https://shopping-phinf.pstatic.net/main_2737003/27370038858.20210530181457.jpg\",\n",
      "\"lprice\": \"18100\",\n",
      "\"hprice\": \"\",\n",
      "\"mallName\": \"네이버\",\n",
      "\"productId\": \"27370038858\",\n",
      "\"productType\": \"1\",\n",
      "\"brand\": \"몰스킨\",\n",
      "\"maker\": \"몰스킨\",\n",
      "\"category1\": \"생활/건강\",\n",
      "\"category2\": \"문구/사무용품\",\n",
      "\"category3\": \"노트/수첩\",\n",
      "\"category4\": \"노트\"\n",
      "\n",
      "},\n",
      "{\n",
      "\"title\": \"<b>몰스킨</b> 2021 위클리 소프트 P-\",\n",
      "\"link\": \"https://search.shopping.naver.com/gate.nhn?id=25430082807\",\n",
      "\"image\": \"https://shopping-phinf.pstatic.net/main_2543008/25430082807.20201230215155.jpg\",\n",
      "\"lprice\": \"19780\",\n",
      "\"hprice\": \"\",\n",
      "\"mallName\": \"네이버\",\n",
      "\"productId\": \"25430082807\",\n",
      "\"productType\": \"1\",\n",
      "\"brand\": \"몰스킨\",\n",
      "\"maker\": \"몰스킨\",\n",
      "\"category1\": \"생활/건강\",\n",
      "\"category2\": \"문구/사무용품\",\n",
      "\"category3\": \"다이어리/플래너\",\n",
      "\"category4\": \"다이어리\"\n",
      "\n",
      "},\n",
      "{\n",
      "\"title\": \"한정판 <b>몰스킨</b> 2022 어린왕자 데일리 다이어리 포켓\",\n",
      "\"link\": \"https://search.shopping.naver.com/gate.nhn?id=28745540468\",\n",
      "\"image\": \"https://shopping-phinf.pstatic.net/main_2874554/28745540468.20210907204153.jpg\",\n",
      "\"lprice\": \"31960\",\n",
      "\"hprice\": \"\",\n",
      "\"mallName\": \"네이버\",\n",
      "\"productId\": \"28745540468\",\n",
      "\"productType\": \"1\",\n",
      "\"brand\": \"몰스킨\",\n",
      "\"maker\": \"몰스킨\",\n",
      "\"category1\": \"생활/건강\",\n",
      "\"category2\": \"문구/사무용품\",\n",
      "\"category3\": \"다이어리/플래너\",\n",
      "\"category4\": \"다이어리\"\n",
      "\n",
      "},\n",
      "{\n",
      "\"title\": \"<b>몰스킨</b> <b>몰스킨</b> 2022 위클리 18개월 다이어리 소프트커버 라지 색상선택\",\n",
      "\"link\": \"https://search.shopping.naver.com/gate.nhn?id=27137560168\",\n",
      "\"image\": \"https://shopping-phinf.pstatic.net/main_2713756/27137560168.20210513175845.jpg\",\n",
      "\"lprice\": \"34360\",\n",
      "\"hprice\": \"\",\n",
      "\"mallName\": \"네이버\",\n",
      "\"productId\": \"27137560168\",\n",
      "\"productType\": \"1\",\n",
      "\"brand\": \"몰스킨\",\n",
      "\"maker\": \"몰스킨\",\n",
      "\"category1\": \"생활/건강\",\n",
      "\"category2\": \"문구/사무용품\",\n",
      "\"category3\": \"다이어리/플래너\",\n",
      "\"category4\": \"다이어리\"\n",
      "\n",
      "}\n",
      "]\n",
      "}\n",
      "\n"
     ]
    }
   ],
   "source": [
    "# 네이버 검색 API예제는 블로그를 비롯 전문자료까지 호출방법이 동일하므로 blog검색만 대표로 예제를 올렸습니다.\n",
    "# 네이버 검색 Open API 예제 - 블로그 검색\n",
    "import os\n",
    "import sys\n",
    "import urllib.request\n",
    "\n",
    "client_id = \"Su_iqO3kYamcpQ5Ctn_5\"  # 직접 입력\n",
    "client_secret = \"_iYVdmG6E7\"  # 직접 입력\n",
    "\n",
    "encText = urllib.parse.quote(\"몰스킨\")  # 검색어로 \"몰스킨\" 입력함\n",
    "url = \"https://openapi.naver.com/v1/search/shop?query=\" + encText # json 결과\n",
    "# url = \"https://openapi.naver.com/v1/search/blog.xml?query=\" + encText # xml 결과\n",
    "request = urllib.request.Request(url)\n",
    "request.add_header(\"X-Naver-Client-Id\",client_id)\n",
    "request.add_header(\"X-Naver-Client-Secret\",client_secret)\n",
    "response = urllib.request.urlopen(request)\n",
    "rescode = response.getcode()\n",
    "\n",
    "if(rescode==200):\n",
    "    response_body = response.read()\n",
    "    print(response_body.decode('utf-8'))\n",
    "else:\n",
    "    print(\"Error Code:\" + rescode)"
   ]
  },
  {
   "cell_type": "code",
   "execution_count": 16,
   "id": "2e4fa50a",
   "metadata": {
    "scrolled": true
   },
   "outputs": [
    {
     "data": {
      "image/png": "[encoded data removed]",
      "text/plain": [
       "<PIL.JpegImagePlugin.JpegImageFile image mode=RGB size=946x576 at 0x2F431A7FB50>"
      ]
     },
     "execution_count": 16,
     "metadata": {},
     "output_type": "execute_result"
    }
   ],
   "source": [
    "from PIL import Image\n",
    "Image.open(\"../data/06. molskin plan.png\")"
   ]
  },
  {
   "cell_type": "markdown",
   "id": "4cc892b4",
   "metadata": {},
   "source": [
    "## (1) gen_search_url()"
   ]
  },
  {
   "cell_type": "markdown",
   "id": "7f5ce74c",
   "metadata": {},
   "source": [
    "```\n",
    "encText = urllib.parse.quote(\"몰스킨\")\n",
    "url = \"https://openapi.naver.com/v1/search/shop?query=\" + encText # json 결과\n",
    "```"
   ]
  },
  {
   "cell_type": "code",
   "execution_count": 4,
   "id": "7d9b0c7b",
   "metadata": {},
   "outputs": [],
   "source": [
    "def gen_search_url(api_node, search_text, start_num, disp_num):\n",
    "    base = \"https://openapi.naver.com/v1/search\"\n",
    "    node = \"/\" + api_node + \".json\"\n",
    "    param_query = \"?query=\" + urllib.parse.quote(search_text)\n",
    "    param_start = \"&start=\" + str(start_num)\n",
    "    param_disp = \"&display=\" + str(disp_num)\n",
    "    \n",
    "    return base + node + param_query + param_start + param_disp"
   ]
  },
  {
   "cell_type": "code",
   "execution_count": 5,
   "id": "9fe90f08",
   "metadata": {},
   "outputs": [
    {
     "data": {
      "text/plain": [
       "'https://openapi.naver.com/v1/search/shop.json?query=TEST&start=10&display=3'"
      ]
     },
     "execution_count": 5,
     "metadata": {},
     "output_type": "execute_result"
    }
   ],
   "source": [
    "gen_search_url(\"shop\", \"TEST\", 10, 3)"
   ]
  },
  {
   "cell_type": "markdown",
   "id": "6813d237",
   "metadata": {},
   "source": [
    "## (2) get_result_onepage()"
   ]
  },
  {
   "cell_type": "code",
   "execution_count": 6,
   "id": "c7cf45d7",
   "metadata": {},
   "outputs": [],
   "source": [
    "import json \n",
    "import datetime \n",
    "\n",
    "def get_result_onpage(url):\n",
    "    request = urllib.request.Request(url)\n",
    "    request.add_header(\"X-Naver-Client-Id\", client_id)\n",
    "    request.add_header(\"X-Naver-Client-Secret\", client_secret)\n",
    "    response = urllib.request.urlopen(request)\n",
    "    print(\"[%s] Url Request Success\" % datetime.datetime.now())\n",
    "    return json.loads(response.read().decode(\"utf-8\"))"
   ]
  },
  {
   "cell_type": "code",
   "execution_count": 7,
   "id": "e15ba087",
   "metadata": {},
   "outputs": [
    {
     "data": {
      "text/plain": [
       "datetime.datetime(2021, 10, 12, 23, 56, 29, 244574)"
      ]
     },
     "execution_count": 7,
     "metadata": {},
     "output_type": "execute_result"
    }
   ],
   "source": [
    "datetime.datetime.now()"
   ]
  },
  {
   "cell_type": "code",
   "execution_count": 8,
   "id": "6c42dfeb",
   "metadata": {},
   "outputs": [
    {
     "name": "stdout",
     "output_type": "stream",
     "text": [
      "[2021-10-12 23:57:13.122467] Url Request Success\n"
     ]
    }
   ],
   "source": [
    "url = gen_search_url(\"shop\", \"몰스킨\", 1, 5)\n",
    "one_result = get_result_onpage(url)"
   ]
  },
  {
   "cell_type": "code",
   "execution_count": 9,
   "id": "881bf642",
   "metadata": {
    "scrolled": true
   },
   "outputs": [
    {
     "data": {
      "text/plain": [
       "{'lastBuildDate': 'Tue, 12 Oct 2021 23:57:13 +0900',\n",
       " 'total': 29123,\n",
       " 'start': 1,\n",
       " 'display': 5,\n",
       " 'items': [{'title': '한정판 <b>몰스킨</b> 2022 피너츠 위클리 다이어리 포켓',\n",
       "   'link': 'https://search.shopping.naver.com/gate.nhn?id=28763297998',\n",
       "   'image': 'https://shopping-phinf.pstatic.net/main_2876329/28763297998.20210908210546.jpg',\n",
       "   'lprice': '29810',\n",
       "   'hprice': '',\n",
       "   'mallName': '네이버',\n",
       "   'productId': '28763297998',\n",
       "   'productType': '1',\n",
       "   'brand': '몰스킨',\n",
       "   'maker': '몰스킨',\n",
       "   'category1': '생활/건강',\n",
       "   'category2': '문구/사무용품',\n",
       "   'category3': '다이어리/플래너',\n",
       "   'category4': '다이어리'},\n",
       "  {'title': '<b>몰스킨</b> 2022 해리포터 데일리 다이어리 포캣',\n",
       "   'link': 'https://search.shopping.naver.com/gate.nhn?id=28719894754',\n",
       "   'image': 'https://shopping-phinf.pstatic.net/main_2871989/28719894754.20210906035419.jpg',\n",
       "   'lprice': '30060',\n",
       "   'hprice': '',\n",
       "   'mallName': '네이버',\n",
       "   'productId': '28719894754',\n",
       "   'productType': '1',\n",
       "   'brand': '몰스킨',\n",
       "   'maker': '몰스킨',\n",
       "   'category1': '생활/건강',\n",
       "   'category2': '문구/사무용품',\n",
       "   'category3': '다이어리/플래너',\n",
       "   'category4': '다이어리'},\n",
       "  {'title': '<b>몰스킨</b> 클래식 노트 소프트커버 도트 포켓 머틀그린',\n",
       "   'link': 'https://search.shopping.naver.com/gate.nhn?id=24014924801',\n",
       "   'image': 'https://shopping-phinf.pstatic.net/main_2401492/24014924801.20200903021703.jpg',\n",
       "   'lprice': '18810',\n",
       "   'hprice': '',\n",
       "   'mallName': '네이버',\n",
       "   'productId': '24014924801',\n",
       "   'productType': '1',\n",
       "   'brand': '몰스킨',\n",
       "   'maker': '몰스킨',\n",
       "   'category1': '생활/건강',\n",
       "   'category2': '문구/사무용품',\n",
       "   'category3': '노트/수첩',\n",
       "   'category4': '노트'},\n",
       "  {'title': '<b>몰스킨</b> 2022 다이어리 데일리 위클리 포켓 고급 명품 감성 휴대용 여자 각인 해리포터',\n",
       "   'link': 'https://search.shopping.naver.com/gate.nhn?id=83374268420',\n",
       "   'image': 'https://shopping-phinf.pstatic.net/main_8337426/83374268420.jpg',\n",
       "   'lprice': '26800',\n",
       "   'hprice': '',\n",
       "   'mallName': '에코펜',\n",
       "   'productId': '83374268420',\n",
       "   'productType': '2',\n",
       "   'brand': '몰스킨',\n",
       "   'maker': '몰스킨',\n",
       "   'category1': '생활/건강',\n",
       "   'category2': '문구/사무용품',\n",
       "   'category3': '다이어리/플래너',\n",
       "   'category4': '다이어리'},\n",
       "  {'title': '<b>몰스킨</b> 클래식노트 플레인 하드 L',\n",
       "   'link': 'https://search.shopping.naver.com/gate.nhn?id=24031381534',\n",
       "   'image': 'https://shopping-phinf.pstatic.net/main_2403138/24031381534.20200904012957.jpg',\n",
       "   'lprice': '19930',\n",
       "   'hprice': '',\n",
       "   'mallName': '네이버',\n",
       "   'productId': '24031381534',\n",
       "   'productType': '1',\n",
       "   'brand': '몰스킨',\n",
       "   'maker': '몰스킨',\n",
       "   'category1': '생활/건강',\n",
       "   'category2': '문구/사무용품',\n",
       "   'category3': '노트/수첩',\n",
       "   'category4': '노트'}]}"
      ]
     },
     "execution_count": 9,
     "metadata": {},
     "output_type": "execute_result"
    }
   ],
   "source": [
    "one_result"
   ]
  },
  {
   "cell_type": "code",
   "execution_count": 13,
   "id": "aa300f3b",
   "metadata": {},
   "outputs": [
    {
     "data": {
      "text/plain": [
       "{'title': '한정판 <b>몰스킨</b> 2022 피너츠 위클리 다이어리 포켓',\n",
       " 'link': 'https://search.shopping.naver.com/gate.nhn?id=28763297998',\n",
       " 'image': 'https://shopping-phinf.pstatic.net/main_2876329/28763297998.20210908210546.jpg',\n",
       " 'lprice': '29810',\n",
       " 'hprice': '',\n",
       " 'mallName': '네이버',\n",
       " 'productId': '28763297998',\n",
       " 'productType': '1',\n",
       " 'brand': '몰스킨',\n",
       " 'maker': '몰스킨',\n",
       " 'category1': '생활/건강',\n",
       " 'category2': '문구/사무용품',\n",
       " 'category3': '다이어리/플래너',\n",
       " 'category4': '다이어리'}"
      ]
     },
     "execution_count": 13,
     "metadata": {},
     "output_type": "execute_result"
    }
   ],
   "source": [
    "one_result[\"items\"][0]"
   ]
  },
  {
   "cell_type": "code",
   "execution_count": 10,
   "id": "36865ec3",
   "metadata": {},
   "outputs": [
    {
     "data": {
      "text/plain": [
       "'한정판 <b>몰스킨</b> 2022 피너츠 위클리 다이어리 포켓'"
      ]
     },
     "execution_count": 10,
     "metadata": {},
     "output_type": "execute_result"
    }
   ],
   "source": [
    "one_result[\"items\"][0][\"title\"]"
   ]
  },
  {
   "cell_type": "code",
   "execution_count": 11,
   "id": "fbe774b2",
   "metadata": {},
   "outputs": [
    {
     "data": {
      "text/plain": [
       "'https://search.shopping.naver.com/gate.nhn?id=28763297998'"
      ]
     },
     "execution_count": 11,
     "metadata": {},
     "output_type": "execute_result"
    }
   ],
   "source": [
    "one_result[\"items\"][0][\"link\"]"
   ]
  },
  {
   "cell_type": "code",
   "execution_count": 12,
   "id": "5b163f45",
   "metadata": {},
   "outputs": [
    {
     "data": {
      "text/plain": [
       "'29810'"
      ]
     },
     "execution_count": 12,
     "metadata": {},
     "output_type": "execute_result"
    }
   ],
   "source": [
    "one_result[\"items\"][0][\"lprice\"]"
   ]
  },
  {
   "cell_type": "code",
   "execution_count": 14,
   "id": "d35793da",
   "metadata": {},
   "outputs": [
    {
     "data": {
      "text/plain": [
       "'네이버'"
      ]
     },
     "execution_count": 14,
     "metadata": {},
     "output_type": "execute_result"
    }
   ],
   "source": [
    "one_result[\"items\"][0][\"mallName\"]"
   ]
  },
  {
   "cell_type": "markdown",
   "id": "63642a9e",
   "metadata": {},
   "source": [
    "## (3) get_fields()"
   ]
  },
  {
   "cell_type": "code",
   "execution_count": 15,
   "id": "6406ba64",
   "metadata": {},
   "outputs": [
    {
     "data": {
      "text/plain": [
       "{'title': '한정판 <b>몰스킨</b> 2022 피너츠 위클리 다이어리 포켓',\n",
       " 'link': 'https://search.shopping.naver.com/gate.nhn?id=28763297998',\n",
       " 'image': 'https://shopping-phinf.pstatic.net/main_2876329/28763297998.20210908210546.jpg',\n",
       " 'lprice': '29810',\n",
       " 'hprice': '',\n",
       " 'mallName': '네이버',\n",
       " 'productId': '28763297998',\n",
       " 'productType': '1',\n",
       " 'brand': '몰스킨',\n",
       " 'maker': '몰스킨',\n",
       " 'category1': '생활/건강',\n",
       " 'category2': '문구/사무용품',\n",
       " 'category3': '다이어리/플래너',\n",
       " 'category4': '다이어리'}"
      ]
     },
     "execution_count": 15,
     "metadata": {},
     "output_type": "execute_result"
    }
   ],
   "source": [
    "one_result[\"items\"][0]"
   ]
  },
  {
   "cell_type": "code",
   "execution_count": 16,
   "id": "79ee5b13",
   "metadata": {},
   "outputs": [],
   "source": [
    "import pandas as pd \n",
    "\n",
    "def get_fields(json_data):\n",
    "    title = [each[\"title\"] for each in json_data[\"items\"]]\n",
    "    link = [each[\"link\"] for each in json_data[\"items\"]]\n",
    "    lprice = [each[\"lprice\"] for each in json_data[\"items\"]]\n",
    "    mall_name = [each[\"mallName\"] for each in json_data[\"items\"]]\n",
    "    \n",
    "    result_pd = pd.DataFrame({\n",
    "        \"title\": title, \n",
    "        \"link\": link, \n",
    "        \"lprice\": lprice, \n",
    "        \"mall\": mall_name,   \n",
    "    }, columns=[\"title\", \"lprice\", \"link\", \"mall\"])\n",
    "    return result_pd"
   ]
  },
  {
   "cell_type": "code",
   "execution_count": 17,
   "id": "09df71aa",
   "metadata": {},
   "outputs": [
    {
     "data": {
      "text/html": [
       "<div>\n",
       "<style scoped>\n",
       "    .dataframe tbody tr th:only-of-type {\n",
       "        vertical-align: middle;\n",
       "    }\n",
       "\n",
       "    .dataframe tbody tr th {\n",
       "        vertical-align: top;\n",
       "    }\n",
       "\n",
       "    .dataframe thead th {\n",
       "        text-align: right;\n",
       "    }\n",
       "</style>\n",
       "<table border=\"1\" class=\"dataframe\">\n",
       "  <thead>\n",
       "    <tr style=\"text-align: right;\">\n",
       "      <th></th>\n",
       "      <th>title</th>\n",
       "      <th>lprice</th>\n",
       "      <th>link</th>\n",
       "      <th>mall</th>\n",
       "    </tr>\n",
       "  </thead>\n",
       "  <tbody>\n",
       "    <tr>\n",
       "      <th>0</th>\n",
       "      <td>한정판 &lt;b&gt;몰스킨&lt;/b&gt; 2022 피너츠 위클리 다이어리 포켓</td>\n",
       "      <td>29810</td>\n",
       "      <td>https://search.shopping.naver.com/gate.nhn?id=...</td>\n",
       "      <td>네이버</td>\n",
       "    </tr>\n",
       "    <tr>\n",
       "      <th>1</th>\n",
       "      <td>&lt;b&gt;몰스킨&lt;/b&gt; 2022 해리포터 데일리 다이어리 포캣</td>\n",
       "      <td>30060</td>\n",
       "      <td>https://search.shopping.naver.com/gate.nhn?id=...</td>\n",
       "      <td>네이버</td>\n",
       "    </tr>\n",
       "    <tr>\n",
       "      <th>2</th>\n",
       "      <td>&lt;b&gt;몰스킨&lt;/b&gt; 클래식 노트 소프트커버 도트 포켓 머틀그린</td>\n",
       "      <td>18810</td>\n",
       "      <td>https://search.shopping.naver.com/gate.nhn?id=...</td>\n",
       "      <td>네이버</td>\n",
       "    </tr>\n",
       "    <tr>\n",
       "      <th>3</th>\n",
       "      <td>&lt;b&gt;몰스킨&lt;/b&gt; 2022 다이어리 데일리 위클리 포켓 고급 명품 감성 휴대용 여...</td>\n",
       "      <td>26800</td>\n",
       "      <td>https://search.shopping.naver.com/gate.nhn?id=...</td>\n",
       "      <td>에코펜</td>\n",
       "    </tr>\n",
       "    <tr>\n",
       "      <th>4</th>\n",
       "      <td>&lt;b&gt;몰스킨&lt;/b&gt; 클래식노트 플레인 하드 L</td>\n",
       "      <td>19930</td>\n",
       "      <td>https://search.shopping.naver.com/gate.nhn?id=...</td>\n",
       "      <td>네이버</td>\n",
       "    </tr>\n",
       "  </tbody>\n",
       "</table>\n",
       "</div>"
      ],
      "text/plain": [
       "                                               title lprice  \\\n",
       "0                한정판 <b>몰스킨</b> 2022 피너츠 위클리 다이어리 포켓  29810   \n",
       "1                   <b>몰스킨</b> 2022 해리포터 데일리 다이어리 포캣  30060   \n",
       "2                 <b>몰스킨</b> 클래식 노트 소프트커버 도트 포켓 머틀그린  18810   \n",
       "3  <b>몰스킨</b> 2022 다이어리 데일리 위클리 포켓 고급 명품 감성 휴대용 여...  26800   \n",
       "4                          <b>몰스킨</b> 클래식노트 플레인 하드 L  19930   \n",
       "\n",
       "                                                link mall  \n",
       "0  https://search.shopping.naver.com/gate.nhn?id=...  네이버  \n",
       "1  https://search.shopping.naver.com/gate.nhn?id=...  네이버  \n",
       "2  https://search.shopping.naver.com/gate.nhn?id=...  네이버  \n",
       "3  https://search.shopping.naver.com/gate.nhn?id=...  에코펜  \n",
       "4  https://search.shopping.naver.com/gate.nhn?id=...  네이버  "
      ]
     },
     "execution_count": 17,
     "metadata": {},
     "output_type": "execute_result"
    }
   ],
   "source": [
    "get_fields(one_result)"
   ]
  },
  {
   "cell_type": "markdown",
   "id": "6987772b",
   "metadata": {},
   "source": [
    "## (4) delete_tag()"
   ]
  },
  {
   "cell_type": "code",
   "execution_count": 18,
   "id": "4484ecc7",
   "metadata": {},
   "outputs": [],
   "source": [
    "def delete_tag(input_str):\n",
    "    input_str = input_str.replace(\"<b>\", \"\")\n",
    "    input_str = input_str.replace(\"</b>\", \"\")\n",
    "    return input_str "
   ]
  },
  {
   "cell_type": "code",
   "execution_count": 19,
   "id": "a6206f54",
   "metadata": {},
   "outputs": [],
   "source": [
    "import pandas as pd \n",
    "\n",
    "def get_fields(json_data):\n",
    "    title = [delete_tag(each[\"title\"]) for each in json_data[\"items\"]]\n",
    "    link = [each[\"link\"] for each in json_data[\"items\"]]\n",
    "    lprice = [each[\"lprice\"] for each in json_data[\"items\"]]\n",
    "    mall_name = [each[\"mallName\"] for each in json_data[\"items\"]]\n",
    "    \n",
    "    result_pd = pd.DataFrame({\n",
    "        \"title\": title, \n",
    "        \"link\": link, \n",
    "        \"lprice\": lprice, \n",
    "        \"mall\": mall_name,   \n",
    "    }, columns=[\"title\", \"lprice\", \"link\", \"mall\"])\n",
    "    return result_pd"
   ]
  },
  {
   "cell_type": "code",
   "execution_count": 20,
   "id": "19ad75da",
   "metadata": {},
   "outputs": [
    {
     "data": {
      "text/html": [
       "<div>\n",
       "<style scoped>\n",
       "    .dataframe tbody tr th:only-of-type {\n",
       "        vertical-align: middle;\n",
       "    }\n",
       "\n",
       "    .dataframe tbody tr th {\n",
       "        vertical-align: top;\n",
       "    }\n",
       "\n",
       "    .dataframe thead th {\n",
       "        text-align: right;\n",
       "    }\n",
       "</style>\n",
       "<table border=\"1\" class=\"dataframe\">\n",
       "  <thead>\n",
       "    <tr style=\"text-align: right;\">\n",
       "      <th></th>\n",
       "      <th>title</th>\n",
       "      <th>lprice</th>\n",
       "      <th>link</th>\n",
       "      <th>mall</th>\n",
       "    </tr>\n",
       "  </thead>\n",
       "  <tbody>\n",
       "    <tr>\n",
       "      <th>0</th>\n",
       "      <td>한정판 몰스킨 2022 피너츠 위클리 다이어리 포켓</td>\n",
       "      <td>29810</td>\n",
       "      <td>https://search.shopping.naver.com/gate.nhn?id=...</td>\n",
       "      <td>네이버</td>\n",
       "    </tr>\n",
       "    <tr>\n",
       "      <th>1</th>\n",
       "      <td>몰스킨 2022 해리포터 데일리 다이어리 포캣</td>\n",
       "      <td>30060</td>\n",
       "      <td>https://search.shopping.naver.com/gate.nhn?id=...</td>\n",
       "      <td>네이버</td>\n",
       "    </tr>\n",
       "    <tr>\n",
       "      <th>2</th>\n",
       "      <td>몰스킨 클래식 노트 소프트커버 도트 포켓 머틀그린</td>\n",
       "      <td>18810</td>\n",
       "      <td>https://search.shopping.naver.com/gate.nhn?id=...</td>\n",
       "      <td>네이버</td>\n",
       "    </tr>\n",
       "    <tr>\n",
       "      <th>3</th>\n",
       "      <td>몰스킨 2022 다이어리 데일리 위클리 포켓 고급 명품 감성 휴대용 여자 각인 해리포터</td>\n",
       "      <td>26800</td>\n",
       "      <td>https://search.shopping.naver.com/gate.nhn?id=...</td>\n",
       "      <td>에코펜</td>\n",
       "    </tr>\n",
       "    <tr>\n",
       "      <th>4</th>\n",
       "      <td>몰스킨 클래식노트 플레인 하드 L</td>\n",
       "      <td>19930</td>\n",
       "      <td>https://search.shopping.naver.com/gate.nhn?id=...</td>\n",
       "      <td>네이버</td>\n",
       "    </tr>\n",
       "  </tbody>\n",
       "</table>\n",
       "</div>"
      ],
      "text/plain": [
       "                                              title lprice  \\\n",
       "0                      한정판 몰스킨 2022 피너츠 위클리 다이어리 포켓  29810   \n",
       "1                         몰스킨 2022 해리포터 데일리 다이어리 포캣  30060   \n",
       "2                       몰스킨 클래식 노트 소프트커버 도트 포켓 머틀그린  18810   \n",
       "3  몰스킨 2022 다이어리 데일리 위클리 포켓 고급 명품 감성 휴대용 여자 각인 해리포터  26800   \n",
       "4                                몰스킨 클래식노트 플레인 하드 L  19930   \n",
       "\n",
       "                                                link mall  \n",
       "0  https://search.shopping.naver.com/gate.nhn?id=...  네이버  \n",
       "1  https://search.shopping.naver.com/gate.nhn?id=...  네이버  \n",
       "2  https://search.shopping.naver.com/gate.nhn?id=...  네이버  \n",
       "3  https://search.shopping.naver.com/gate.nhn?id=...  에코펜  \n",
       "4  https://search.shopping.naver.com/gate.nhn?id=...  네이버  "
      ]
     },
     "execution_count": 20,
     "metadata": {},
     "output_type": "execute_result"
    }
   ],
   "source": [
    "get_fields(one_result)"
   ]
  },
  {
   "cell_type": "code",
   "execution_count": 21,
   "id": "477b1f9c",
   "metadata": {},
   "outputs": [
    {
     "name": "stdout",
     "output_type": "stream",
     "text": [
      "[2021-10-13 00:11:48.162047] Url Request Success\n"
     ]
    }
   ],
   "source": [
    "url = gen_search_url(\"shop\", \"몰스킨\", 1, 5)\n",
    "json_result = get_result_onpage(url)\n",
    "pd_result = get_fields(json_result)"
   ]
  },
  {
   "cell_type": "code",
   "execution_count": 22,
   "id": "f8c921fb",
   "metadata": {},
   "outputs": [
    {
     "data": {
      "text/html": [
       "<div>\n",
       "<style scoped>\n",
       "    .dataframe tbody tr th:only-of-type {\n",
       "        vertical-align: middle;\n",
       "    }\n",
       "\n",
       "    .dataframe tbody tr th {\n",
       "        vertical-align: top;\n",
       "    }\n",
       "\n",
       "    .dataframe thead th {\n",
       "        text-align: right;\n",
       "    }\n",
       "</style>\n",
       "<table border=\"1\" class=\"dataframe\">\n",
       "  <thead>\n",
       "    <tr style=\"text-align: right;\">\n",
       "      <th></th>\n",
       "      <th>title</th>\n",
       "      <th>lprice</th>\n",
       "      <th>link</th>\n",
       "      <th>mall</th>\n",
       "    </tr>\n",
       "  </thead>\n",
       "  <tbody>\n",
       "    <tr>\n",
       "      <th>0</th>\n",
       "      <td>한정판 몰스킨 2022 피너츠 위클리 다이어리 포켓</td>\n",
       "      <td>29810</td>\n",
       "      <td>https://search.shopping.naver.com/gate.nhn?id=...</td>\n",
       "      <td>네이버</td>\n",
       "    </tr>\n",
       "    <tr>\n",
       "      <th>1</th>\n",
       "      <td>몰스킨 2022 해리포터 데일리 다이어리 포캣</td>\n",
       "      <td>30060</td>\n",
       "      <td>https://search.shopping.naver.com/gate.nhn?id=...</td>\n",
       "      <td>네이버</td>\n",
       "    </tr>\n",
       "    <tr>\n",
       "      <th>2</th>\n",
       "      <td>몰스킨 클래식 노트 소프트커버 도트 포켓 머틀그린</td>\n",
       "      <td>18810</td>\n",
       "      <td>https://search.shopping.naver.com/gate.nhn?id=...</td>\n",
       "      <td>네이버</td>\n",
       "    </tr>\n",
       "    <tr>\n",
       "      <th>3</th>\n",
       "      <td>몰스킨 2022 다이어리 데일리 위클리 포켓 고급 명품 감성 휴대용 여자 각인 해리포터</td>\n",
       "      <td>26800</td>\n",
       "      <td>https://search.shopping.naver.com/gate.nhn?id=...</td>\n",
       "      <td>에코펜</td>\n",
       "    </tr>\n",
       "    <tr>\n",
       "      <th>4</th>\n",
       "      <td>몰스킨 클래식노트 플레인 하드 L</td>\n",
       "      <td>19930</td>\n",
       "      <td>https://search.shopping.naver.com/gate.nhn?id=...</td>\n",
       "      <td>네이버</td>\n",
       "    </tr>\n",
       "  </tbody>\n",
       "</table>\n",
       "</div>"
      ],
      "text/plain": [
       "                                              title lprice  \\\n",
       "0                      한정판 몰스킨 2022 피너츠 위클리 다이어리 포켓  29810   \n",
       "1                         몰스킨 2022 해리포터 데일리 다이어리 포캣  30060   \n",
       "2                       몰스킨 클래식 노트 소프트커버 도트 포켓 머틀그린  18810   \n",
       "3  몰스킨 2022 다이어리 데일리 위클리 포켓 고급 명품 감성 휴대용 여자 각인 해리포터  26800   \n",
       "4                                몰스킨 클래식노트 플레인 하드 L  19930   \n",
       "\n",
       "                                                link mall  \n",
       "0  https://search.shopping.naver.com/gate.nhn?id=...  네이버  \n",
       "1  https://search.shopping.naver.com/gate.nhn?id=...  네이버  \n",
       "2  https://search.shopping.naver.com/gate.nhn?id=...  네이버  \n",
       "3  https://search.shopping.naver.com/gate.nhn?id=...  에코펜  \n",
       "4  https://search.shopping.naver.com/gate.nhn?id=...  네이버  "
      ]
     },
     "execution_count": 22,
     "metadata": {},
     "output_type": "execute_result"
    }
   ],
   "source": [
    "pd_result"
   ]
  },
  {
   "cell_type": "markdown",
   "id": "82c526a7",
   "metadata": {},
   "source": [
    "## (5) actMain()"
   ]
  },
  {
   "cell_type": "code",
   "execution_count": 23,
   "id": "f28267b8",
   "metadata": {},
   "outputs": [
    {
     "name": "stdout",
     "output_type": "stream",
     "text": [
      "1\n",
      "101\n",
      "201\n",
      "301\n",
      "401\n",
      "501\n",
      "601\n",
      "701\n",
      "801\n",
      "901\n"
     ]
    }
   ],
   "source": [
    "for n in range(1, 1000, 100):\n",
    "    print(n)"
   ]
  },
  {
   "cell_type": "code",
   "execution_count": 24,
   "id": "466d938e",
   "metadata": {},
   "outputs": [
    {
     "name": "stdout",
     "output_type": "stream",
     "text": [
      "[2021-10-13 00:12:52.479584] Url Request Success\n",
      "[2021-10-13 00:12:52.755294] Url Request Success\n",
      "[2021-10-13 00:12:53.039102] Url Request Success\n",
      "[2021-10-13 00:12:53.304748] Url Request Success\n",
      "[2021-10-13 00:12:53.583561] Url Request Success\n",
      "[2021-10-13 00:12:53.883892] Url Request Success\n",
      "[2021-10-13 00:12:54.170180] Url Request Success\n",
      "[2021-10-13 00:12:54.454808] Url Request Success\n",
      "[2021-10-13 00:12:54.770139] Url Request Success\n",
      "[2021-10-13 00:12:55.068495] Url Request Success\n"
     ]
    }
   ],
   "source": [
    "result_mol = [] \n",
    "\n",
    "for n in range(1, 1000, 100):\n",
    "    url = gen_search_url(\"shop\", \"몰스킨\", n, 100)\n",
    "    json_result = get_result_onpage(url)\n",
    "    pd_result = get_fields(json_result)\n",
    "    \n",
    "    result_mol.append(pd_result)\n",
    "    \n",
    "result_mol = pd.concat(result_mol)"
   ]
  },
  {
   "cell_type": "code",
   "execution_count": 25,
   "id": "536af765",
   "metadata": {},
   "outputs": [
    {
     "name": "stdout",
     "output_type": "stream",
     "text": [
      "<class 'pandas.core.frame.DataFrame'>\n",
      "Int64Index: 1000 entries, 0 to 99\n",
      "Data columns (total 4 columns):\n",
      " #   Column  Non-Null Count  Dtype \n",
      "---  ------  --------------  ----- \n",
      " 0   title   1000 non-null   object\n",
      " 1   lprice  1000 non-null   object\n",
      " 2   link    1000 non-null   object\n",
      " 3   mall    1000 non-null   object\n",
      "dtypes: object(4)\n",
      "memory usage: 39.1+ KB\n"
     ]
    }
   ],
   "source": [
    "result_mol.info()  # 인덱스가 0~99만 존재하는 것을 확인함 => 조치 필요"
   ]
  },
  {
   "cell_type": "code",
   "execution_count": 26,
   "id": "0a65c2ad",
   "metadata": {},
   "outputs": [
    {
     "data": {
      "text/html": [
       "<div>\n",
       "<style scoped>\n",
       "    .dataframe tbody tr th:only-of-type {\n",
       "        vertical-align: middle;\n",
       "    }\n",
       "\n",
       "    .dataframe tbody tr th {\n",
       "        vertical-align: top;\n",
       "    }\n",
       "\n",
       "    .dataframe thead th {\n",
       "        text-align: right;\n",
       "    }\n",
       "</style>\n",
       "<table border=\"1\" class=\"dataframe\">\n",
       "  <thead>\n",
       "    <tr style=\"text-align: right;\">\n",
       "      <th></th>\n",
       "      <th>title</th>\n",
       "      <th>lprice</th>\n",
       "      <th>link</th>\n",
       "      <th>mall</th>\n",
       "    </tr>\n",
       "  </thead>\n",
       "  <tbody>\n",
       "    <tr>\n",
       "      <th>95</th>\n",
       "      <td>몰스킨 T 클래식 가죽-리포터백/블랙</td>\n",
       "      <td>194700</td>\n",
       "      <td>https://search.shopping.naver.com/gate.nhn?id=...</td>\n",
       "      <td>교보핫트랙스</td>\n",
       "    </tr>\n",
       "    <tr>\n",
       "      <th>96</th>\n",
       "      <td>몰스킨 볼란트 플레인 노트북/파우더 블루 P (몰스킨)</td>\n",
       "      <td>16500</td>\n",
       "      <td>https://search.shopping.naver.com/gate.nhn?id=...</td>\n",
       "      <td>교보핫트랙스</td>\n",
       "    </tr>\n",
       "    <tr>\n",
       "      <th>97</th>\n",
       "      <td>몰스킨 한정판 스타워즈 2020 위클리/데일리 하드커버 노트</td>\n",
       "      <td>29500</td>\n",
       "      <td>https://search.shopping.naver.com/gate.nhn?id=...</td>\n",
       "      <td>홍길동</td>\n",
       "    </tr>\n",
       "    <tr>\n",
       "      <th>98</th>\n",
       "      <td>몰스킨 T 아이폰XR 하드 케이스/사파이어 블루</td>\n",
       "      <td>39900</td>\n",
       "      <td>https://search.shopping.naver.com/gate.nhn?id=...</td>\n",
       "      <td>교보핫트랙스</td>\n",
       "    </tr>\n",
       "    <tr>\n",
       "      <th>99</th>\n",
       "      <td>몰스킨 TWO-GO 노트-크래프트 브라운 M</td>\n",
       "      <td>27500</td>\n",
       "      <td>https://search.shopping.naver.com/gate.nhn?id=...</td>\n",
       "      <td>교보핫트랙스</td>\n",
       "    </tr>\n",
       "  </tbody>\n",
       "</table>\n",
       "</div>"
      ],
      "text/plain": [
       "                                title  lprice  \\\n",
       "95               몰스킨 T 클래식 가죽-리포터백/블랙  194700   \n",
       "96     몰스킨 볼란트 플레인 노트북/파우더 블루 P (몰스킨)   16500   \n",
       "97  몰스킨 한정판 스타워즈 2020 위클리/데일리 하드커버 노트   29500   \n",
       "98         몰스킨 T 아이폰XR 하드 케이스/사파이어 블루   39900   \n",
       "99           몰스킨 TWO-GO 노트-크래프트 브라운 M   27500   \n",
       "\n",
       "                                                 link    mall  \n",
       "95  https://search.shopping.naver.com/gate.nhn?id=...  교보핫트랙스  \n",
       "96  https://search.shopping.naver.com/gate.nhn?id=...  교보핫트랙스  \n",
       "97  https://search.shopping.naver.com/gate.nhn?id=...     홍길동  \n",
       "98  https://search.shopping.naver.com/gate.nhn?id=...  교보핫트랙스  \n",
       "99  https://search.shopping.naver.com/gate.nhn?id=...  교보핫트랙스  "
      ]
     },
     "execution_count": 26,
     "metadata": {},
     "output_type": "execute_result"
    }
   ],
   "source": [
    "result_mol.tail()"
   ]
  },
  {
   "cell_type": "code",
   "execution_count": 27,
   "id": "4b30b61b",
   "metadata": {},
   "outputs": [
    {
     "data": {
      "text/html": [
       "<div>\n",
       "<style scoped>\n",
       "    .dataframe tbody tr th:only-of-type {\n",
       "        vertical-align: middle;\n",
       "    }\n",
       "\n",
       "    .dataframe tbody tr th {\n",
       "        vertical-align: top;\n",
       "    }\n",
       "\n",
       "    .dataframe thead th {\n",
       "        text-align: right;\n",
       "    }\n",
       "</style>\n",
       "<table border=\"1\" class=\"dataframe\">\n",
       "  <thead>\n",
       "    <tr style=\"text-align: right;\">\n",
       "      <th></th>\n",
       "      <th>index</th>\n",
       "      <th>title</th>\n",
       "      <th>lprice</th>\n",
       "      <th>link</th>\n",
       "      <th>mall</th>\n",
       "    </tr>\n",
       "  </thead>\n",
       "  <tbody>\n",
       "    <tr>\n",
       "      <th>0</th>\n",
       "      <td>0</td>\n",
       "      <td>한정판 몰스킨 2022 피너츠 위클리 다이어리 포켓</td>\n",
       "      <td>29810</td>\n",
       "      <td>https://search.shopping.naver.com/gate.nhn?id=...</td>\n",
       "      <td>네이버</td>\n",
       "    </tr>\n",
       "    <tr>\n",
       "      <th>1</th>\n",
       "      <td>1</td>\n",
       "      <td>몰스킨 2022 해리포터 데일리 다이어리 포캣</td>\n",
       "      <td>30060</td>\n",
       "      <td>https://search.shopping.naver.com/gate.nhn?id=...</td>\n",
       "      <td>네이버</td>\n",
       "    </tr>\n",
       "    <tr>\n",
       "      <th>2</th>\n",
       "      <td>2</td>\n",
       "      <td>몰스킨 클래식 노트 소프트커버 도트 포켓 머틀그린</td>\n",
       "      <td>18810</td>\n",
       "      <td>https://search.shopping.naver.com/gate.nhn?id=...</td>\n",
       "      <td>네이버</td>\n",
       "    </tr>\n",
       "    <tr>\n",
       "      <th>3</th>\n",
       "      <td>3</td>\n",
       "      <td>몰스킨 2022 다이어리 데일리 위클리 포켓 고급 명품 감성 휴대용 여자 각인 해리포터</td>\n",
       "      <td>26800</td>\n",
       "      <td>https://search.shopping.naver.com/gate.nhn?id=...</td>\n",
       "      <td>에코펜</td>\n",
       "    </tr>\n",
       "    <tr>\n",
       "      <th>4</th>\n",
       "      <td>4</td>\n",
       "      <td>몰스킨 클래식노트 플레인 하드 L</td>\n",
       "      <td>19930</td>\n",
       "      <td>https://search.shopping.naver.com/gate.nhn?id=...</td>\n",
       "      <td>네이버</td>\n",
       "    </tr>\n",
       "    <tr>\n",
       "      <th>...</th>\n",
       "      <td>...</td>\n",
       "      <td>...</td>\n",
       "      <td>...</td>\n",
       "      <td>...</td>\n",
       "      <td>...</td>\n",
       "    </tr>\n",
       "    <tr>\n",
       "      <th>995</th>\n",
       "      <td>95</td>\n",
       "      <td>몰스킨 T 클래식 가죽-리포터백/블랙</td>\n",
       "      <td>194700</td>\n",
       "      <td>https://search.shopping.naver.com/gate.nhn?id=...</td>\n",
       "      <td>교보핫트랙스</td>\n",
       "    </tr>\n",
       "    <tr>\n",
       "      <th>996</th>\n",
       "      <td>96</td>\n",
       "      <td>몰스킨 볼란트 플레인 노트북/파우더 블루 P (몰스킨)</td>\n",
       "      <td>16500</td>\n",
       "      <td>https://search.shopping.naver.com/gate.nhn?id=...</td>\n",
       "      <td>교보핫트랙스</td>\n",
       "    </tr>\n",
       "    <tr>\n",
       "      <th>997</th>\n",
       "      <td>97</td>\n",
       "      <td>몰스킨 한정판 스타워즈 2020 위클리/데일리 하드커버 노트</td>\n",
       "      <td>29500</td>\n",
       "      <td>https://search.shopping.naver.com/gate.nhn?id=...</td>\n",
       "      <td>홍길동</td>\n",
       "    </tr>\n",
       "    <tr>\n",
       "      <th>998</th>\n",
       "      <td>98</td>\n",
       "      <td>몰스킨 T 아이폰XR 하드 케이스/사파이어 블루</td>\n",
       "      <td>39900</td>\n",
       "      <td>https://search.shopping.naver.com/gate.nhn?id=...</td>\n",
       "      <td>교보핫트랙스</td>\n",
       "    </tr>\n",
       "    <tr>\n",
       "      <th>999</th>\n",
       "      <td>99</td>\n",
       "      <td>몰스킨 TWO-GO 노트-크래프트 브라운 M</td>\n",
       "      <td>27500</td>\n",
       "      <td>https://search.shopping.naver.com/gate.nhn?id=...</td>\n",
       "      <td>교보핫트랙스</td>\n",
       "    </tr>\n",
       "  </tbody>\n",
       "</table>\n",
       "<p>1000 rows × 5 columns</p>\n",
       "</div>"
      ],
      "text/plain": [
       "     index                                             title  lprice  \\\n",
       "0        0                      한정판 몰스킨 2022 피너츠 위클리 다이어리 포켓   29810   \n",
       "1        1                         몰스킨 2022 해리포터 데일리 다이어리 포캣   30060   \n",
       "2        2                       몰스킨 클래식 노트 소프트커버 도트 포켓 머틀그린   18810   \n",
       "3        3  몰스킨 2022 다이어리 데일리 위클리 포켓 고급 명품 감성 휴대용 여자 각인 해리포터   26800   \n",
       "4        4                                몰스킨 클래식노트 플레인 하드 L   19930   \n",
       "..     ...                                               ...     ...   \n",
       "995     95                              몰스킨 T 클래식 가죽-리포터백/블랙  194700   \n",
       "996     96                    몰스킨 볼란트 플레인 노트북/파우더 블루 P (몰스킨)   16500   \n",
       "997     97                 몰스킨 한정판 스타워즈 2020 위클리/데일리 하드커버 노트   29500   \n",
       "998     98                        몰스킨 T 아이폰XR 하드 케이스/사파이어 블루   39900   \n",
       "999     99                          몰스킨 TWO-GO 노트-크래프트 브라운 M   27500   \n",
       "\n",
       "                                                  link    mall  \n",
       "0    https://search.shopping.naver.com/gate.nhn?id=...     네이버  \n",
       "1    https://search.shopping.naver.com/gate.nhn?id=...     네이버  \n",
       "2    https://search.shopping.naver.com/gate.nhn?id=...     네이버  \n",
       "3    https://search.shopping.naver.com/gate.nhn?id=...     에코펜  \n",
       "4    https://search.shopping.naver.com/gate.nhn?id=...     네이버  \n",
       "..                                                 ...     ...  \n",
       "995  https://search.shopping.naver.com/gate.nhn?id=...  교보핫트랙스  \n",
       "996  https://search.shopping.naver.com/gate.nhn?id=...  교보핫트랙스  \n",
       "997  https://search.shopping.naver.com/gate.nhn?id=...     홍길동  \n",
       "998  https://search.shopping.naver.com/gate.nhn?id=...  교보핫트랙스  \n",
       "999  https://search.shopping.naver.com/gate.nhn?id=...  교보핫트랙스  \n",
       "\n",
       "[1000 rows x 5 columns]"
      ]
     },
     "execution_count": 27,
     "metadata": {},
     "output_type": "execute_result"
    }
   ],
   "source": [
    "result_mol.reset_index()"
   ]
  },
  {
   "cell_type": "code",
   "execution_count": 28,
   "id": "2e25a415",
   "metadata": {},
   "outputs": [
    {
     "name": "stdout",
     "output_type": "stream",
     "text": [
      "<class 'pandas.core.frame.DataFrame'>\n",
      "RangeIndex: 1000 entries, 0 to 999\n",
      "Data columns (total 4 columns):\n",
      " #   Column  Non-Null Count  Dtype \n",
      "---  ------  --------------  ----- \n",
      " 0   title   1000 non-null   object\n",
      " 1   lprice  1000 non-null   object\n",
      " 2   link    1000 non-null   object\n",
      " 3   mall    1000 non-null   object\n",
      "dtypes: object(4)\n",
      "memory usage: 31.4+ KB\n"
     ]
    }
   ],
   "source": [
    "result_mol.reset_index(drop=True, inplace=True)\n",
    "result_mol.info()  # 인덱스 0~999로 의도한대로 존재하는 것을 확인함"
   ]
  },
  {
   "cell_type": "code",
   "execution_count": 29,
   "id": "9f79f91b",
   "metadata": {},
   "outputs": [
    {
     "data": {
      "text/html": [
       "<div>\n",
       "<style scoped>\n",
       "    .dataframe tbody tr th:only-of-type {\n",
       "        vertical-align: middle;\n",
       "    }\n",
       "\n",
       "    .dataframe tbody tr th {\n",
       "        vertical-align: top;\n",
       "    }\n",
       "\n",
       "    .dataframe thead th {\n",
       "        text-align: right;\n",
       "    }\n",
       "</style>\n",
       "<table border=\"1\" class=\"dataframe\">\n",
       "  <thead>\n",
       "    <tr style=\"text-align: right;\">\n",
       "      <th></th>\n",
       "      <th>title</th>\n",
       "      <th>lprice</th>\n",
       "      <th>link</th>\n",
       "      <th>mall</th>\n",
       "    </tr>\n",
       "  </thead>\n",
       "  <tbody>\n",
       "    <tr>\n",
       "      <th>995</th>\n",
       "      <td>몰스킨 T 클래식 가죽-리포터백/블랙</td>\n",
       "      <td>194700</td>\n",
       "      <td>https://search.shopping.naver.com/gate.nhn?id=...</td>\n",
       "      <td>교보핫트랙스</td>\n",
       "    </tr>\n",
       "    <tr>\n",
       "      <th>996</th>\n",
       "      <td>몰스킨 볼란트 플레인 노트북/파우더 블루 P (몰스킨)</td>\n",
       "      <td>16500</td>\n",
       "      <td>https://search.shopping.naver.com/gate.nhn?id=...</td>\n",
       "      <td>교보핫트랙스</td>\n",
       "    </tr>\n",
       "    <tr>\n",
       "      <th>997</th>\n",
       "      <td>몰스킨 한정판 스타워즈 2020 위클리/데일리 하드커버 노트</td>\n",
       "      <td>29500</td>\n",
       "      <td>https://search.shopping.naver.com/gate.nhn?id=...</td>\n",
       "      <td>홍길동</td>\n",
       "    </tr>\n",
       "    <tr>\n",
       "      <th>998</th>\n",
       "      <td>몰스킨 T 아이폰XR 하드 케이스/사파이어 블루</td>\n",
       "      <td>39900</td>\n",
       "      <td>https://search.shopping.naver.com/gate.nhn?id=...</td>\n",
       "      <td>교보핫트랙스</td>\n",
       "    </tr>\n",
       "    <tr>\n",
       "      <th>999</th>\n",
       "      <td>몰스킨 TWO-GO 노트-크래프트 브라운 M</td>\n",
       "      <td>27500</td>\n",
       "      <td>https://search.shopping.naver.com/gate.nhn?id=...</td>\n",
       "      <td>교보핫트랙스</td>\n",
       "    </tr>\n",
       "  </tbody>\n",
       "</table>\n",
       "</div>"
      ],
      "text/plain": [
       "                                 title  lprice  \\\n",
       "995               몰스킨 T 클래식 가죽-리포터백/블랙  194700   \n",
       "996     몰스킨 볼란트 플레인 노트북/파우더 블루 P (몰스킨)   16500   \n",
       "997  몰스킨 한정판 스타워즈 2020 위클리/데일리 하드커버 노트   29500   \n",
       "998         몰스킨 T 아이폰XR 하드 케이스/사파이어 블루   39900   \n",
       "999           몰스킨 TWO-GO 노트-크래프트 브라운 M   27500   \n",
       "\n",
       "                                                  link    mall  \n",
       "995  https://search.shopping.naver.com/gate.nhn?id=...  교보핫트랙스  \n",
       "996  https://search.shopping.naver.com/gate.nhn?id=...  교보핫트랙스  \n",
       "997  https://search.shopping.naver.com/gate.nhn?id=...     홍길동  \n",
       "998  https://search.shopping.naver.com/gate.nhn?id=...  교보핫트랙스  \n",
       "999  https://search.shopping.naver.com/gate.nhn?id=...  교보핫트랙스  "
      ]
     },
     "execution_count": 29,
     "metadata": {},
     "output_type": "execute_result"
    }
   ],
   "source": [
    "result_mol.tail()"
   ]
  },
  {
   "cell_type": "code",
   "execution_count": 30,
   "id": "a57f45a8",
   "metadata": {},
   "outputs": [
    {
     "name": "stdout",
     "output_type": "stream",
     "text": [
      "<class 'pandas.core.frame.DataFrame'>\n",
      "RangeIndex: 1000 entries, 0 to 999\n",
      "Data columns (total 4 columns):\n",
      " #   Column  Non-Null Count  Dtype \n",
      "---  ------  --------------  ----- \n",
      " 0   title   1000 non-null   object\n",
      " 1   lprice  1000 non-null   object\n",
      " 2   link    1000 non-null   object\n",
      " 3   mall    1000 non-null   object\n",
      "dtypes: object(4)\n",
      "memory usage: 31.4+ KB\n"
     ]
    }
   ],
   "source": [
    "result_mol.info()  # 가격 정보가 object인 것을 확인함"
   ]
  },
  {
   "cell_type": "code",
   "execution_count": 31,
   "id": "91fe7cbf",
   "metadata": {},
   "outputs": [
    {
     "name": "stdout",
     "output_type": "stream",
     "text": [
      "<class 'pandas.core.frame.DataFrame'>\n",
      "RangeIndex: 1000 entries, 0 to 999\n",
      "Data columns (total 4 columns):\n",
      " #   Column  Non-Null Count  Dtype  \n",
      "---  ------  --------------  -----  \n",
      " 0   title   1000 non-null   object \n",
      " 1   lprice  1000 non-null   float64\n",
      " 2   link    1000 non-null   object \n",
      " 3   mall    1000 non-null   object \n",
      "dtypes: float64(1), object(3)\n",
      "memory usage: 31.4+ KB\n"
     ]
    }
   ],
   "source": [
    "result_mol[\"lprice\"] = result_mol[\"lprice\"].astype(\"float\")\n",
    "result_mol.info()"
   ]
  },
  {
   "cell_type": "markdown",
   "id": "596445dd",
   "metadata": {},
   "source": [
    "## (5) to_excel()"
   ]
  },
  {
   "cell_type": "code",
   "execution_count": 33,
   "id": "fabc9f47",
   "metadata": {},
   "outputs": [
    {
     "name": "stdout",
     "output_type": "stream",
     "text": [
      "Collecting xlsxwriter\n",
      "  Downloading XlsxWriter-3.0.1-py3-none-any.whl (148 kB)\n",
      "Installing collected packages: xlsxwriter\n",
      "Successfully installed xlsxwriter-3.0.1\n"
     ]
    }
   ],
   "source": [
    "# xlscwriter 설치 진행\n",
    "\n",
    "!pip install xlsxwriter"
   ]
  },
  {
   "cell_type": "code",
   "execution_count": 34,
   "id": "3a232870",
   "metadata": {},
   "outputs": [],
   "source": [
    "writer = pd.ExcelWriter(\"../data/06_molskin_diary_in_naver_shop.xlsx\", engine=\"xlsxwriter\")\n",
    "result_mol.to_excel(writer, sheet_name=\"Sheet1\")\n",
    "\n",
    "workbook = writer.book \n",
    "worksheet = writer.sheets[\"Sheet1\"]\n",
    "worksheet.set_column(\"A:A\", 4)\n",
    "worksheet.set_column(\"B:B\", 60)\n",
    "worksheet.set_column(\"C:C\", 10)\n",
    "worksheet.set_column(\"D:D\", 10)\n",
    "worksheet.set_column(\"E:E\", 50)\n",
    "worksheet.set_column(\"F:F\", 10)\n",
    "\n",
    "worksheet.conditional_format(\"C2:C1001\", {\"type\": \"3_color_scale\"})\n",
    "writer.save()"
   ]
  },
  {
   "cell_type": "code",
   "execution_count": 35,
   "id": "fcc3e2dc",
   "metadata": {},
   "outputs": [
    {
     "name": "stderr",
     "output_type": "stream",
     "text": [
      "'ls'은(는) 내부 또는 외부 명령, 실행할 수 있는 프로그램, 또는\n",
      "배치 파일이 아닙니다.\n"
     ]
    }
   ],
   "source": [
    "# !ls \"../data/06_molskin_diary_in_naver_shop.xlsx\"  # 맥 명령어"
   ]
  },
  {
   "cell_type": "markdown",
   "id": "dfdcdb76",
   "metadata": {},
   "source": [
    "## (6) 시각화"
   ]
  },
  {
   "cell_type": "code",
   "execution_count": 36,
   "id": "d4442ceb",
   "metadata": {},
   "outputs": [
    {
     "name": "stdout",
     "output_type": "stream",
     "text": [
      "Hangul OK in your Windows!!!\n"
     ]
    }
   ],
   "source": [
    "import set_matplotlib_hangul"
   ]
  },
  {
   "cell_type": "code",
   "execution_count": 40,
   "id": "1277755a",
   "metadata": {},
   "outputs": [
    {
     "name": "stderr",
     "output_type": "stream",
     "text": [
      "C:\\ProgramData\\Anaconda3\\envs\\ds_study\\lib\\site-packages\\seaborn\\_decorators.py:36: FutureWarning: Pass the following variable as a keyword arg: x. From version 0.12, the only valid positional argument will be `data`, and passing other arguments without an explicit keyword will result in an error or misinterpretation.\n",
      "  warnings.warn(\n"
     ]
    },
    {
     "data": {
      "image/png": "[encoded data removed]",
      "text/plain": [
       "<Figure size 1080x432 with 1 Axes>"
      ]
     },
     "metadata": {
      "needs_background": "light"
     },
     "output_type": "display_data"
    }
   ],
   "source": [
    "import matplotlib.pyplot as plt\n",
    "import seaborn as sns\n",
    "\n",
    "plt.figure(figsize=(15, 6))\n",
    "sns.countplot(\n",
    "    result_mol[\"mall\"], \n",
    "    data=result_mol, \n",
    "    palette=\"RdYlGn\",\n",
    "    order=result_mol[\"mall\"].value_counts().index\n",
    ")\n",
    "plt.xticks(rotation=90)\n",
    "plt.show()"
   ]
  },
  {
   "cell_type": "code",
   "execution_count": null,
   "id": "4e2d0146",
   "metadata": {},
   "outputs": [],
   "source": []
  }
 ],
 "metadata": {
  "kernelspec": {
   "display_name": "Python 3 (ipykernel)",
   "language": "python",
   "name": "python3"
  },
  "language_info": {
   "codemirror_mode": {
    "name": "ipython",
    "version": 3
   },
   "file_extension": ".py",
   "mimetype": "text/x-python",
   "name": "python",
   "nbconvert_exporter": "python",
   "pygments_lexer": "ipython3",
   "version": "3.8.11"
  }
 },
 "nbformat": 4,
 "nbformat_minor": 5
}
