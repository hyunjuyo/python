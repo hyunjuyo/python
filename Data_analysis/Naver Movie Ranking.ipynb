{
 "cells": [
  {
   "cell_type": "markdown",
   "id": "87c32921",
   "metadata": {},
   "source": [
    "# 03. Naver Movie Ranking"
   ]
  },
  {
   "cell_type": "markdown",
   "id": "b9c3ff74",
   "metadata": {},
   "source": [
    "## 1. 네이버 영화 평점 사이트 분석\n",
    "- https://movie.naver.com/ \n",
    "- 영화랭킹 탭 이동 \n",
    "- 영화랭킹에서 평점순(현재상영영화) 선택"
   ]
  },
  {
   "cell_type": "markdown",
   "id": "c4e6cc31",
   "metadata": {},
   "source": [
    "```\n",
    "https://movie.naver.com/movie/sdb/rank/rmovie.naver?sel=cur&date=20210914\n",
    "```\n",
    "\n",
    "- 웹 페이지 주소에는 많은 정보가 담겨있음\n",
    "- 원하는 정보를 얻기 위해서 변화시켜줘야 하는 주소의 규칙을 찾을 수 있음\n",
    "- 해당 페이지의 경우, 날짜 정보를 변경해주면 해당 날짜의 페이지에 접근이 가능"
   ]
  },
  {
   "cell_type": "code",
   "execution_count": 2,
   "id": "cbfb4b59",
   "metadata": {},
   "outputs": [],
   "source": [
    "import pandas as pd\n",
    "from urllib.request import Request, urlopen\n",
    "from bs4 import BeautifulSoup"
   ]
  },
  {
   "cell_type": "code",
   "execution_count": 3,
   "id": "ef1fd721",
   "metadata": {},
   "outputs": [],
   "source": [
    "url = \"https://movie.naver.com/movie/sdb/rank/rmovie.naver?sel=cur&date=20210914\"\n",
    "response = urlopen(url)\n",
    "# response.status\n",
    "soup = BeautifulSoup(response, \"html.parser\")\n",
    "# print(soup.prettify())"
   ]
  },
  {
   "cell_type": "code",
   "execution_count": 3,
   "id": "823865f2",
   "metadata": {},
   "outputs": [
    {
     "data": {
      "text/plain": [
       "'가버나움'"
      ]
     },
     "execution_count": 3,
     "metadata": {},
     "output_type": "execute_result"
    }
   ],
   "source": [
    "soup.select(\"div.tit5\")[0].a.get_text()"
   ]
  },
  {
   "cell_type": "code",
   "execution_count": 4,
   "id": "62e7a949",
   "metadata": {},
   "outputs": [
    {
     "data": {
      "text/plain": [
       "'가버나움'"
      ]
     },
     "execution_count": 4,
     "metadata": {},
     "output_type": "execute_result"
    }
   ],
   "source": [
    "soup.select(\"div.tit5\")[0].a.text"
   ]
  },
  {
   "cell_type": "code",
   "execution_count": 5,
   "id": "4b695370",
   "metadata": {},
   "outputs": [
    {
     "data": {
      "text/plain": [
       "'가버나움'"
      ]
     },
     "execution_count": 5,
     "metadata": {},
     "output_type": "execute_result"
    }
   ],
   "source": [
    "soup.select(\"div.tit5\")[0].find(\"a\").text"
   ]
  },
  {
   "cell_type": "code",
   "execution_count": 6,
   "id": "fc16d03f",
   "metadata": {
    "scrolled": true
   },
   "outputs": [
    {
     "data": {
      "text/plain": [
       "[<td class=\"point\">9.59</td>,\n",
       " <td class=\"point\">9.36</td>,\n",
       " <td class=\"point\">9.32</td>,\n",
       " <td class=\"point\">9.23</td>,\n",
       " <td class=\"point\">9.19</td>,\n",
       " <td class=\"point\">9.17</td>,\n",
       " <td class=\"point\">9.10</td>,\n",
       " <td class=\"point\">9.09</td>,\n",
       " <td class=\"point\">8.96</td>,\n",
       " <td class=\"point\">8.93</td>,\n",
       " <td class=\"point\">8.92</td>,\n",
       " <td class=\"point\">8.92</td>,\n",
       " <td class=\"point\">8.91</td>,\n",
       " <td class=\"point\">8.85</td>,\n",
       " <td class=\"point\">8.80</td>,\n",
       " <td class=\"point\">8.78</td>,\n",
       " <td class=\"point\">8.77</td>,\n",
       " <td class=\"point\">8.59</td>,\n",
       " <td class=\"point\">8.58</td>,\n",
       " <td class=\"point\">8.55</td>,\n",
       " <td class=\"point\">8.48</td>,\n",
       " <td class=\"point\">8.47</td>,\n",
       " <td class=\"point\">8.47</td>,\n",
       " <td class=\"point\">8.39</td>,\n",
       " <td class=\"point\">8.34</td>,\n",
       " <td class=\"point\">8.31</td>,\n",
       " <td class=\"point\">8.25</td>,\n",
       " <td class=\"point\">8.14</td>,\n",
       " <td class=\"point\">8.11</td>,\n",
       " <td class=\"point\">8.10</td>,\n",
       " <td class=\"point\">8.10</td>,\n",
       " <td class=\"point\">8.04</td>,\n",
       " <td class=\"point\">7.96</td>,\n",
       " <td class=\"point\">7.92</td>,\n",
       " <td class=\"point\">7.84</td>,\n",
       " <td class=\"point\">7.57</td>,\n",
       " <td class=\"point\">7.52</td>,\n",
       " <td class=\"point\">7.49</td>,\n",
       " <td class=\"point\">7.40</td>,\n",
       " <td class=\"point\">7.36</td>,\n",
       " <td class=\"point\">7.09</td>,\n",
       " <td class=\"point\">7.03</td>,\n",
       " <td class=\"point\">6.78</td>,\n",
       " <td class=\"point\">6.72</td>,\n",
       " <td class=\"point\">6.65</td>,\n",
       " <td class=\"point\">6.51</td>,\n",
       " <td class=\"point\">4.45</td>]"
      ]
     },
     "execution_count": 6,
     "metadata": {},
     "output_type": "execute_result"
    }
   ],
   "source": [
    "# 영화 평점 태그 \n",
    "soup.find_all(\"td\", \"point\") # soup.select(\".point\")"
   ]
  },
  {
   "cell_type": "code",
   "execution_count": 7,
   "id": "d8b2bab5",
   "metadata": {
    "scrolled": true
   },
   "outputs": [
    {
     "data": {
      "text/plain": [
       "[<td class=\"point\">9.59</td>,\n",
       " <td class=\"point\">9.36</td>,\n",
       " <td class=\"point\">9.32</td>,\n",
       " <td class=\"point\">9.23</td>,\n",
       " <td class=\"point\">9.19</td>,\n",
       " <td class=\"point\">9.17</td>,\n",
       " <td class=\"point\">9.10</td>,\n",
       " <td class=\"point\">9.09</td>,\n",
       " <td class=\"point\">8.96</td>,\n",
       " <td class=\"point\">8.93</td>,\n",
       " <td class=\"point\">8.92</td>,\n",
       " <td class=\"point\">8.92</td>,\n",
       " <td class=\"point\">8.91</td>,\n",
       " <td class=\"point\">8.85</td>,\n",
       " <td class=\"point\">8.80</td>,\n",
       " <td class=\"point\">8.78</td>,\n",
       " <td class=\"point\">8.77</td>,\n",
       " <td class=\"point\">8.59</td>,\n",
       " <td class=\"point\">8.58</td>,\n",
       " <td class=\"point\">8.55</td>,\n",
       " <td class=\"point\">8.48</td>,\n",
       " <td class=\"point\">8.47</td>,\n",
       " <td class=\"point\">8.47</td>,\n",
       " <td class=\"point\">8.39</td>,\n",
       " <td class=\"point\">8.34</td>,\n",
       " <td class=\"point\">8.31</td>,\n",
       " <td class=\"point\">8.25</td>,\n",
       " <td class=\"point\">8.14</td>,\n",
       " <td class=\"point\">8.11</td>,\n",
       " <td class=\"point\">8.10</td>,\n",
       " <td class=\"point\">8.10</td>,\n",
       " <td class=\"point\">8.04</td>,\n",
       " <td class=\"point\">7.96</td>,\n",
       " <td class=\"point\">7.92</td>,\n",
       " <td class=\"point\">7.84</td>,\n",
       " <td class=\"point\">7.57</td>,\n",
       " <td class=\"point\">7.52</td>,\n",
       " <td class=\"point\">7.49</td>,\n",
       " <td class=\"point\">7.40</td>,\n",
       " <td class=\"point\">7.36</td>,\n",
       " <td class=\"point\">7.09</td>,\n",
       " <td class=\"point\">7.03</td>,\n",
       " <td class=\"point\">6.78</td>,\n",
       " <td class=\"point\">6.72</td>,\n",
       " <td class=\"point\">6.65</td>,\n",
       " <td class=\"point\">6.51</td>,\n",
       " <td class=\"point\">4.45</td>]"
      ]
     },
     "execution_count": 7,
     "metadata": {},
     "output_type": "execute_result"
    }
   ],
   "source": [
    "soup.select(\"td.point\")"
   ]
  },
  {
   "cell_type": "code",
   "execution_count": 8,
   "id": "4147b348",
   "metadata": {},
   "outputs": [
    {
     "data": {
      "text/plain": [
       "(47, 47)"
      ]
     },
     "execution_count": 8,
     "metadata": {},
     "output_type": "execute_result"
    }
   ],
   "source": [
    "len(soup.find_all(\"td\", \"point\")), len(soup.find_all(\"div\", \"tit5\"))"
   ]
  },
  {
   "cell_type": "code",
   "execution_count": 9,
   "id": "aef1c08b",
   "metadata": {},
   "outputs": [
    {
     "data": {
      "text/plain": [
       "('9.59', '9.59')"
      ]
     },
     "execution_count": 9,
     "metadata": {},
     "output_type": "execute_result"
    }
   ],
   "source": [
    "soup.find_all(\"td\", class_=\"point\")[0].text, soup.select(\"td.point\")[0].string"
   ]
  },
  {
   "cell_type": "code",
   "execution_count": 10,
   "id": "7742ec0d",
   "metadata": {
    "scrolled": true
   },
   "outputs": [
    {
     "data": {
      "text/plain": [
       "['가버나움',\n",
       " '코다',\n",
       " '모던 타임즈',\n",
       " '위대한 독재자',\n",
       " '해피 투게더',\n",
       " '바울',\n",
       " '프리 가이',\n",
       " '꽃다발 같은 사랑을 했다',\n",
       " '윤희에게',\n",
       " '신세계',\n",
       " '더 파더',\n",
       " '이별의 아침에 약속의 꽃을 장식하자',\n",
       " '중경삼림',\n",
       " '천로역정: 천국을 찾아서',\n",
       " '너의 이름은.',\n",
       " '부에나 비스타 소셜 클럽',\n",
       " '화양연화',\n",
       " '캡틴 판타스틱',\n",
       " '드림걸즈',\n",
       " '분노',\n",
       " '노매드랜드',\n",
       " '블랙 위도우',\n",
       " '아비정전',\n",
       " '너의 췌장을 먹고 싶어',\n",
       " '모가디슈',\n",
       " '메기',\n",
       " '우리의 20세기',\n",
       " '이스케이프 룸 2: 노 웨이 아웃',\n",
       " '릴리 슈슈의 모든 것',\n",
       " '하나와 앨리스',\n",
       " '너의 췌장을 먹고 싶어',\n",
       " '맨 인 더 다크 2 ',\n",
       " '날씨의 아이',\n",
       " '죄 많은 소녀',\n",
       " '소셜 네트워크',\n",
       " '그린 나이트',\n",
       " '독전',\n",
       " '기담',\n",
       " '호우시절',\n",
       " '인질',\n",
       " '더 수어사이드 스쿼드',\n",
       " '레미니센스',\n",
       " '싱크홀',\n",
       " '올드',\n",
       " '샹치와 텐 링즈의 전설',\n",
       " '쏘아올린 불꽃, 밑에서 볼까? 옆에서 볼까?',\n",
       " '귀문']"
      ]
     },
     "execution_count": 10,
     "metadata": {},
     "output_type": "execute_result"
    }
   ],
   "source": [
    "# 영화제목 리스트 \n",
    "\n",
    "end = len(soup.find_all(\"div\", \"tit5\"))\n",
    "\n",
    "movie_name = [] \n",
    "\n",
    "for n in range(0, end):\n",
    "    movie_name.append(\n",
    "        soup.find_all(\"div\", \"tit5\")[n].a.string\n",
    "    )\n",
    "movie_name"
   ]
  },
  {
   "cell_type": "code",
   "execution_count": 11,
   "id": "6bc1ea02",
   "metadata": {
    "scrolled": true
   },
   "outputs": [
    {
     "data": {
      "text/plain": [
       "['가버나움',\n",
       " '코다',\n",
       " '모던 타임즈',\n",
       " '위대한 독재자',\n",
       " '해피 투게더',\n",
       " '바울',\n",
       " '프리 가이',\n",
       " '꽃다발 같은 사랑을 했다',\n",
       " '윤희에게',\n",
       " '신세계',\n",
       " '더 파더',\n",
       " '이별의 아침에 약속의 꽃을 장식하자',\n",
       " '중경삼림',\n",
       " '천로역정: 천국을 찾아서',\n",
       " '너의 이름은.',\n",
       " '부에나 비스타 소셜 클럽',\n",
       " '화양연화',\n",
       " '캡틴 판타스틱',\n",
       " '드림걸즈',\n",
       " '분노',\n",
       " '노매드랜드',\n",
       " '블랙 위도우',\n",
       " '아비정전',\n",
       " '너의 췌장을 먹고 싶어',\n",
       " '모가디슈',\n",
       " '메기',\n",
       " '우리의 20세기',\n",
       " '이스케이프 룸 2: 노 웨이 아웃',\n",
       " '릴리 슈슈의 모든 것',\n",
       " '하나와 앨리스',\n",
       " '너의 췌장을 먹고 싶어',\n",
       " '맨 인 더 다크 2 ',\n",
       " '날씨의 아이',\n",
       " '죄 많은 소녀',\n",
       " '소셜 네트워크',\n",
       " '그린 나이트',\n",
       " '독전',\n",
       " '기담',\n",
       " '호우시절',\n",
       " '인질',\n",
       " '더 수어사이드 스쿼드',\n",
       " '레미니센스',\n",
       " '싱크홀',\n",
       " '올드',\n",
       " '샹치와 텐 링즈의 전설',\n",
       " '쏘아올린 불꽃, 밑에서 볼까? 옆에서 볼까?',\n",
       " '귀문']"
      ]
     },
     "execution_count": 11,
     "metadata": {},
     "output_type": "execute_result"
    }
   ],
   "source": [
    "movie_name = [soup.select(\".tit5\")[n].a.text for n in range(0, end)]\n",
    "movie_name"
   ]
  },
  {
   "cell_type": "code",
   "execution_count": 12,
   "id": "d70a7674",
   "metadata": {
    "scrolled": true
   },
   "outputs": [
    {
     "data": {
      "text/plain": [
       "['9.59',\n",
       " '9.36',\n",
       " '9.32',\n",
       " '9.23',\n",
       " '9.19',\n",
       " '9.17',\n",
       " '9.10',\n",
       " '9.09',\n",
       " '8.96',\n",
       " '8.93',\n",
       " '8.92',\n",
       " '8.92',\n",
       " '8.91',\n",
       " '8.85',\n",
       " '8.80',\n",
       " '8.78',\n",
       " '8.77',\n",
       " '8.59',\n",
       " '8.58',\n",
       " '8.55',\n",
       " '8.48',\n",
       " '8.47',\n",
       " '8.47',\n",
       " '8.39',\n",
       " '8.34',\n",
       " '8.31',\n",
       " '8.25',\n",
       " '8.14',\n",
       " '8.11',\n",
       " '8.10',\n",
       " '8.10',\n",
       " '8.04',\n",
       " '7.96',\n",
       " '7.92',\n",
       " '7.84',\n",
       " '7.57',\n",
       " '7.52',\n",
       " '7.49',\n",
       " '7.40',\n",
       " '7.36',\n",
       " '7.09',\n",
       " '7.03',\n",
       " '6.78',\n",
       " '6.72',\n",
       " '6.65',\n",
       " '6.51',\n",
       " '4.45']"
      ]
     },
     "execution_count": 12,
     "metadata": {},
     "output_type": "execute_result"
    }
   ],
   "source": [
    "# 영화평점 리스트 \n",
    "end = len(soup.find_all(\"td\", \"point\"))\n",
    "\n",
    "movie_point = [soup.find_all(\"td\", \"point\")[n].string for n in range(0, end)]\n",
    "movie_point"
   ]
  },
  {
   "cell_type": "code",
   "execution_count": 13,
   "id": "3f2ac89f",
   "metadata": {},
   "outputs": [
    {
     "data": {
      "text/plain": [
       "(47, 47)"
      ]
     },
     "execution_count": 13,
     "metadata": {},
     "output_type": "execute_result"
    }
   ],
   "source": [
    "# 전체 데이터 수 확인 \n",
    "\n",
    "len(movie_name), len(movie_point)"
   ]
  },
  {
   "cell_type": "markdown",
   "id": "d6cfbd40",
   "metadata": {},
   "source": [
    "## 2. 자동화를 위한 코드"
   ]
  },
  {
   "cell_type": "markdown",
   "id": "36d572d4",
   "metadata": {},
   "source": [
    "```\n",
    "https://movie.naver.com/movie/sdb/rank/rmovie.naver?sel=cur&date=20210914\n",
    "```\n",
    "- 날짜만 변경하면 원하는 기간 만큼의 데이터를 얻을 수 있음"
   ]
  },
  {
   "cell_type": "code",
   "execution_count": 14,
   "id": "728b4465",
   "metadata": {},
   "outputs": [
    {
     "data": {
      "text/plain": [
       "DatetimeIndex(['2021-01-01', '2021-01-02', '2021-01-03', '2021-01-04',\n",
       "               '2021-01-05', '2021-01-06', '2021-01-07', '2021-01-08',\n",
       "               '2021-01-09', '2021-01-10', '2021-01-11', '2021-01-12',\n",
       "               '2021-01-13', '2021-01-14', '2021-01-15', '2021-01-16',\n",
       "               '2021-01-17', '2021-01-18', '2021-01-19', '2021-01-20',\n",
       "               '2021-01-21', '2021-01-22', '2021-01-23', '2021-01-24',\n",
       "               '2021-01-25', '2021-01-26', '2021-01-27', '2021-01-28',\n",
       "               '2021-01-29', '2021-01-30', '2021-01-31', '2021-02-01',\n",
       "               '2021-02-02', '2021-02-03', '2021-02-04', '2021-02-05',\n",
       "               '2021-02-06', '2021-02-07', '2021-02-08', '2021-02-09',\n",
       "               '2021-02-10', '2021-02-11', '2021-02-12', '2021-02-13',\n",
       "               '2021-02-14', '2021-02-15', '2021-02-16', '2021-02-17',\n",
       "               '2021-02-18', '2021-02-19', '2021-02-20', '2021-02-21',\n",
       "               '2021-02-22', '2021-02-23', '2021-02-24', '2021-02-25',\n",
       "               '2021-02-26', '2021-02-27', '2021-02-28', '2021-03-01',\n",
       "               '2021-03-02', '2021-03-03', '2021-03-04', '2021-03-05',\n",
       "               '2021-03-06', '2021-03-07', '2021-03-08', '2021-03-09',\n",
       "               '2021-03-10', '2021-03-11', '2021-03-12', '2021-03-13',\n",
       "               '2021-03-14', '2021-03-15', '2021-03-16', '2021-03-17',\n",
       "               '2021-03-18', '2021-03-19', '2021-03-20', '2021-03-21',\n",
       "               '2021-03-22', '2021-03-23', '2021-03-24', '2021-03-25',\n",
       "               '2021-03-26', '2021-03-27', '2021-03-28', '2021-03-29',\n",
       "               '2021-03-30', '2021-03-31', '2021-04-01', '2021-04-02',\n",
       "               '2021-04-03', '2021-04-04', '2021-04-05', '2021-04-06',\n",
       "               '2021-04-07', '2021-04-08', '2021-04-09', '2021-04-10'],\n",
       "              dtype='datetime64[ns]', freq='D')"
      ]
     },
     "execution_count": 14,
     "metadata": {},
     "output_type": "execute_result"
    }
   ],
   "source": [
    "date = pd.date_range(\"2021.01.01\", periods=100, freq=\"D\")\n",
    "date"
   ]
  },
  {
   "cell_type": "code",
   "execution_count": 15,
   "id": "3e668b3d",
   "metadata": {},
   "outputs": [
    {
     "data": {
      "text/plain": [
       "Timestamp('2021-01-01 00:00:00', freq='D')"
      ]
     },
     "execution_count": 15,
     "metadata": {},
     "output_type": "execute_result"
    }
   ],
   "source": [
    "date[0]"
   ]
  },
  {
   "cell_type": "code",
   "execution_count": 16,
   "id": "b73f9c8e",
   "metadata": {},
   "outputs": [
    {
     "data": {
      "text/plain": [
       "'2021-01-01'"
      ]
     },
     "execution_count": 16,
     "metadata": {},
     "output_type": "execute_result"
    }
   ],
   "source": [
    "date[0].strftime(\"%Y-%m-%d\")"
   ]
  },
  {
   "cell_type": "code",
   "execution_count": 17,
   "id": "d023b811",
   "metadata": {},
   "outputs": [
    {
     "data": {
      "text/plain": [
       "'2021.01.01'"
      ]
     },
     "execution_count": 17,
     "metadata": {},
     "output_type": "execute_result"
    }
   ],
   "source": [
    "date[0].strftime(\"%Y.%m.%d\")"
   ]
  },
  {
   "cell_type": "code",
   "execution_count": 18,
   "id": "dff9a7d0",
   "metadata": {},
   "outputs": [
    {
     "data": {
      "text/plain": [
       "str"
      ]
     },
     "execution_count": 18,
     "metadata": {},
     "output_type": "execute_result"
    }
   ],
   "source": [
    "type(date[0].strftime(\"%Y.%m.%d\"))"
   ]
  },
  {
   "cell_type": "code",
   "execution_count": 19,
   "id": "6836ea0a",
   "metadata": {},
   "outputs": [
    {
     "name": "stderr",
     "output_type": "stream",
     "text": [
      "100%|████████████████████████████████████████████████████████████████████████████████| 100/100 [02:38<00:00,  1.58s/it]\n"
     ]
    }
   ],
   "source": [
    "import time \n",
    "from tqdm import tqdm \n",
    "\n",
    "movie_date = [] \n",
    "movie_name = [] \n",
    "movie_point = [] \n",
    "\n",
    "for today in tqdm(date):\n",
    "    url = \"https://movie.naver.com/movie/sdb/rank/rmovie.naver?sel=cur&date={date}\"\n",
    "    response = urlopen(url.format(date=today.strftime(\"%Y%m%d\")))\n",
    "    soup = BeautifulSoup(response, \"html.parser\")\n",
    "    \n",
    "    end = len(soup.find_all(\"td\", \"point\"))\n",
    "    \n",
    "    movie_date.extend([today for _ in range(0, end)])\n",
    "    movie_name.extend([soup.select(\"div.tit5\")[n].find(\"a\").get_text() for n in range(0, end)])\n",
    "    movie_point.extend([soup.find_all(\"td\", \"point\")[n].string for n in range(0, end)])\n",
    "    \n",
    "    time.sleep(0.5)"
   ]
  },
  {
   "cell_type": "code",
   "execution_count": 20,
   "id": "a1fdfb69",
   "metadata": {},
   "outputs": [
    {
     "data": {
      "text/plain": [
       "(4793, 4793, 4793)"
      ]
     },
     "execution_count": 20,
     "metadata": {},
     "output_type": "execute_result"
    }
   ],
   "source": [
    "len(movie_date), len(movie_name), len(movie_point)"
   ]
  },
  {
   "cell_type": "code",
   "execution_count": 21,
   "id": "8e58c866",
   "metadata": {},
   "outputs": [
    {
     "data": {
      "text/plain": [
       "['9.59',\n",
       " '9.52',\n",
       " '9.49',\n",
       " '9.40',\n",
       " '9.39',\n",
       " '9.26',\n",
       " '9.16',\n",
       " '9.16',\n",
       " '9.15',\n",
       " '9.12']"
      ]
     },
     "execution_count": 21,
     "metadata": {},
     "output_type": "execute_result"
    }
   ],
   "source": [
    "movie_point[:10]"
   ]
  },
  {
   "cell_type": "code",
   "execution_count": 22,
   "id": "ede09c4c",
   "metadata": {},
   "outputs": [
    {
     "data": {
      "text/html": [
       "<div>\n",
       "<style scoped>\n",
       "    .dataframe tbody tr th:only-of-type {\n",
       "        vertical-align: middle;\n",
       "    }\n",
       "\n",
       "    .dataframe tbody tr th {\n",
       "        vertical-align: top;\n",
       "    }\n",
       "\n",
       "    .dataframe thead th {\n",
       "        text-align: right;\n",
       "    }\n",
       "</style>\n",
       "<table border=\"1\" class=\"dataframe\">\n",
       "  <thead>\n",
       "    <tr style=\"text-align: right;\">\n",
       "      <th></th>\n",
       "      <th>date</th>\n",
       "      <th>name</th>\n",
       "      <th>point</th>\n",
       "    </tr>\n",
       "  </thead>\n",
       "  <tbody>\n",
       "    <tr>\n",
       "      <th>4788</th>\n",
       "      <td>2021-04-10</td>\n",
       "      <td>두번째 사랑</td>\n",
       "      <td>8.00</td>\n",
       "    </tr>\n",
       "    <tr>\n",
       "      <th>4789</th>\n",
       "      <td>2021-04-10</td>\n",
       "      <td>날씨의 아이</td>\n",
       "      <td>7.95</td>\n",
       "    </tr>\n",
       "    <tr>\n",
       "      <th>4790</th>\n",
       "      <td>2021-04-10</td>\n",
       "      <td>밀양</td>\n",
       "      <td>7.92</td>\n",
       "    </tr>\n",
       "    <tr>\n",
       "      <th>4791</th>\n",
       "      <td>2021-04-10</td>\n",
       "      <td>별을 쫓는 아이</td>\n",
       "      <td>7.91</td>\n",
       "    </tr>\n",
       "    <tr>\n",
       "      <th>4792</th>\n",
       "      <td>2021-04-10</td>\n",
       "      <td>너는 여기에 없었다</td>\n",
       "      <td>7.82</td>\n",
       "    </tr>\n",
       "  </tbody>\n",
       "</table>\n",
       "</div>"
      ],
      "text/plain": [
       "           date        name point\n",
       "4788 2021-04-10      두번째 사랑  8.00\n",
       "4789 2021-04-10      날씨의 아이  7.95\n",
       "4790 2021-04-10          밀양  7.92\n",
       "4791 2021-04-10    별을 쫓는 아이  7.91\n",
       "4792 2021-04-10  너는 여기에 없었다  7.82"
      ]
     },
     "execution_count": 22,
     "metadata": {},
     "output_type": "execute_result"
    }
   ],
   "source": [
    "movie = pd.DataFrame({\n",
    "    \"date\":movie_date,\n",
    "    \"name\":movie_name,\n",
    "    \"point\":movie_point\n",
    "})\n",
    "movie.tail()"
   ]
  },
  {
   "cell_type": "code",
   "execution_count": 23,
   "id": "bb14a2fd",
   "metadata": {},
   "outputs": [
    {
     "name": "stdout",
     "output_type": "stream",
     "text": [
      "<class 'pandas.core.frame.DataFrame'>\n",
      "RangeIndex: 4793 entries, 0 to 4792\n",
      "Data columns (total 3 columns):\n",
      " #   Column  Non-Null Count  Dtype         \n",
      "---  ------  --------------  -----         \n",
      " 0   date    4793 non-null   datetime64[ns]\n",
      " 1   name    4793 non-null   object        \n",
      " 2   point   4793 non-null   object        \n",
      "dtypes: datetime64[ns](1), object(2)\n",
      "memory usage: 112.5+ KB\n"
     ]
    }
   ],
   "source": [
    "movie.info()"
   ]
  },
  {
   "cell_type": "code",
   "execution_count": 24,
   "id": "e72f0d68",
   "metadata": {},
   "outputs": [],
   "source": [
    "movie[\"point\"] = movie[\"point\"].astype(float)"
   ]
  },
  {
   "cell_type": "code",
   "execution_count": 25,
   "id": "17f8a425",
   "metadata": {},
   "outputs": [
    {
     "name": "stdout",
     "output_type": "stream",
     "text": [
      "<class 'pandas.core.frame.DataFrame'>\n",
      "RangeIndex: 4793 entries, 0 to 4792\n",
      "Data columns (total 3 columns):\n",
      " #   Column  Non-Null Count  Dtype         \n",
      "---  ------  --------------  -----         \n",
      " 0   date    4793 non-null   datetime64[ns]\n",
      " 1   name    4793 non-null   object        \n",
      " 2   point   4793 non-null   float64       \n",
      "dtypes: datetime64[ns](1), float64(1), object(1)\n",
      "memory usage: 112.5+ KB\n"
     ]
    }
   ],
   "source": [
    "movie.info()"
   ]
  },
  {
   "cell_type": "code",
   "execution_count": 26,
   "id": "f666dd4b",
   "metadata": {},
   "outputs": [],
   "source": [
    "movie.to_csv(\n",
    "    \"../data/03. naver_movie_data.csv\", sep=\",\", encoding=\"utf-8\"\n",
    ")"
   ]
  },
  {
   "cell_type": "code",
   "execution_count": 27,
   "id": "01eb4def",
   "metadata": {},
   "outputs": [
    {
     "data": {
      "text/html": [
       "<div>\n",
       "<style scoped>\n",
       "    .dataframe tbody tr th:only-of-type {\n",
       "        vertical-align: middle;\n",
       "    }\n",
       "\n",
       "    .dataframe tbody tr th {\n",
       "        vertical-align: top;\n",
       "    }\n",
       "\n",
       "    .dataframe thead th {\n",
       "        text-align: right;\n",
       "    }\n",
       "</style>\n",
       "<table border=\"1\" class=\"dataframe\">\n",
       "  <thead>\n",
       "    <tr style=\"text-align: right;\">\n",
       "      <th></th>\n",
       "      <th>date</th>\n",
       "      <th>name</th>\n",
       "      <th>point</th>\n",
       "    </tr>\n",
       "  </thead>\n",
       "  <tbody>\n",
       "    <tr>\n",
       "      <th>0</th>\n",
       "      <td>2021-01-01</td>\n",
       "      <td>가나의 혼인잔치: 언약</td>\n",
       "      <td>9.59</td>\n",
       "    </tr>\n",
       "    <tr>\n",
       "      <th>1</th>\n",
       "      <td>2021-01-01</td>\n",
       "      <td>언플랜드</td>\n",
       "      <td>9.52</td>\n",
       "    </tr>\n",
       "    <tr>\n",
       "      <th>2</th>\n",
       "      <td>2021-01-01</td>\n",
       "      <td>극장판 바이올렛 에버가든</td>\n",
       "      <td>9.49</td>\n",
       "    </tr>\n",
       "    <tr>\n",
       "      <th>3</th>\n",
       "      <td>2021-01-01</td>\n",
       "      <td>부활: 그 증거</td>\n",
       "      <td>9.40</td>\n",
       "    </tr>\n",
       "    <tr>\n",
       "      <th>4</th>\n",
       "      <td>2021-01-01</td>\n",
       "      <td>소년시절의 너</td>\n",
       "      <td>9.39</td>\n",
       "    </tr>\n",
       "    <tr>\n",
       "      <th>...</th>\n",
       "      <td>...</td>\n",
       "      <td>...</td>\n",
       "      <td>...</td>\n",
       "    </tr>\n",
       "    <tr>\n",
       "      <th>4788</th>\n",
       "      <td>2021-04-10</td>\n",
       "      <td>두번째 사랑</td>\n",
       "      <td>8.00</td>\n",
       "    </tr>\n",
       "    <tr>\n",
       "      <th>4789</th>\n",
       "      <td>2021-04-10</td>\n",
       "      <td>날씨의 아이</td>\n",
       "      <td>7.95</td>\n",
       "    </tr>\n",
       "    <tr>\n",
       "      <th>4790</th>\n",
       "      <td>2021-04-10</td>\n",
       "      <td>밀양</td>\n",
       "      <td>7.92</td>\n",
       "    </tr>\n",
       "    <tr>\n",
       "      <th>4791</th>\n",
       "      <td>2021-04-10</td>\n",
       "      <td>별을 쫓는 아이</td>\n",
       "      <td>7.91</td>\n",
       "    </tr>\n",
       "    <tr>\n",
       "      <th>4792</th>\n",
       "      <td>2021-04-10</td>\n",
       "      <td>너는 여기에 없었다</td>\n",
       "      <td>7.82</td>\n",
       "    </tr>\n",
       "  </tbody>\n",
       "</table>\n",
       "<p>4793 rows × 3 columns</p>\n",
       "</div>"
      ],
      "text/plain": [
       "            date           name  point\n",
       "0     2021-01-01   가나의 혼인잔치: 언약   9.59\n",
       "1     2021-01-01           언플랜드   9.52\n",
       "2     2021-01-01  극장판 바이올렛 에버가든   9.49\n",
       "3     2021-01-01       부활: 그 증거   9.40\n",
       "4     2021-01-01        소년시절의 너   9.39\n",
       "...          ...            ...    ...\n",
       "4788  2021-04-10         두번째 사랑   8.00\n",
       "4789  2021-04-10         날씨의 아이   7.95\n",
       "4790  2021-04-10             밀양   7.92\n",
       "4791  2021-04-10       별을 쫓는 아이   7.91\n",
       "4792  2021-04-10     너는 여기에 없었다   7.82\n",
       "\n",
       "[4793 rows x 3 columns]"
      ]
     },
     "execution_count": 27,
     "metadata": {},
     "output_type": "execute_result"
    }
   ],
   "source": [
    "df = pd.read_csv(\"../data/03. naver_movie_data.csv\", index_col=0)\n",
    "df"
   ]
  },
  {
   "cell_type": "markdown",
   "id": "4c65b67c",
   "metadata": {},
   "source": [
    "## 3. 영화 평점 데이터 정리"
   ]
  },
  {
   "cell_type": "code",
   "execution_count": 28,
   "id": "a4366a00",
   "metadata": {},
   "outputs": [],
   "source": [
    "import numpy as np \n",
    "import pandas as pd "
   ]
  },
  {
   "cell_type": "code",
   "execution_count": 29,
   "id": "8fb0f541",
   "metadata": {},
   "outputs": [
    {
     "data": {
      "text/html": [
       "<div>\n",
       "<style scoped>\n",
       "    .dataframe tbody tr th:only-of-type {\n",
       "        vertical-align: middle;\n",
       "    }\n",
       "\n",
       "    .dataframe tbody tr th {\n",
       "        vertical-align: top;\n",
       "    }\n",
       "\n",
       "    .dataframe thead th {\n",
       "        text-align: right;\n",
       "    }\n",
       "</style>\n",
       "<table border=\"1\" class=\"dataframe\">\n",
       "  <thead>\n",
       "    <tr style=\"text-align: right;\">\n",
       "      <th></th>\n",
       "      <th>date</th>\n",
       "      <th>name</th>\n",
       "      <th>point</th>\n",
       "    </tr>\n",
       "  </thead>\n",
       "  <tbody>\n",
       "    <tr>\n",
       "      <th>4788</th>\n",
       "      <td>2021-04-10</td>\n",
       "      <td>두번째 사랑</td>\n",
       "      <td>8.00</td>\n",
       "    </tr>\n",
       "    <tr>\n",
       "      <th>4789</th>\n",
       "      <td>2021-04-10</td>\n",
       "      <td>날씨의 아이</td>\n",
       "      <td>7.95</td>\n",
       "    </tr>\n",
       "    <tr>\n",
       "      <th>4790</th>\n",
       "      <td>2021-04-10</td>\n",
       "      <td>밀양</td>\n",
       "      <td>7.92</td>\n",
       "    </tr>\n",
       "    <tr>\n",
       "      <th>4791</th>\n",
       "      <td>2021-04-10</td>\n",
       "      <td>별을 쫓는 아이</td>\n",
       "      <td>7.91</td>\n",
       "    </tr>\n",
       "    <tr>\n",
       "      <th>4792</th>\n",
       "      <td>2021-04-10</td>\n",
       "      <td>너는 여기에 없었다</td>\n",
       "      <td>7.82</td>\n",
       "    </tr>\n",
       "  </tbody>\n",
       "</table>\n",
       "</div>"
      ],
      "text/plain": [
       "            date        name  point\n",
       "4788  2021-04-10      두번째 사랑   8.00\n",
       "4789  2021-04-10      날씨의 아이   7.95\n",
       "4790  2021-04-10          밀양   7.92\n",
       "4791  2021-04-10    별을 쫓는 아이   7.91\n",
       "4792  2021-04-10  너는 여기에 없었다   7.82"
      ]
     },
     "execution_count": 29,
     "metadata": {},
     "output_type": "execute_result"
    }
   ],
   "source": [
    "movie = pd.read_csv(\"../data/03. naver_movie_data.csv\", index_col=0)\n",
    "movie.tail()"
   ]
  },
  {
   "cell_type": "markdown",
   "id": "300e17b8",
   "metadata": {},
   "source": [
    "- 영화 이름으로 인덱스 설정\n",
    "- 점수의 합산 구하기\n",
    "- 100일 간 네이버 영화 평점 합산 기준 베스트&워스트 10 선정"
   ]
  },
  {
   "cell_type": "code",
   "execution_count": 30,
   "id": "9151f263",
   "metadata": {},
   "outputs": [
    {
     "data": {
      "text/html": [
       "<div>\n",
       "<style scoped>\n",
       "    .dataframe tbody tr th:only-of-type {\n",
       "        vertical-align: middle;\n",
       "    }\n",
       "\n",
       "    .dataframe tbody tr th {\n",
       "        vertical-align: top;\n",
       "    }\n",
       "\n",
       "    .dataframe thead th {\n",
       "        text-align: right;\n",
       "    }\n",
       "</style>\n",
       "<table border=\"1\" class=\"dataframe\">\n",
       "  <thead>\n",
       "    <tr style=\"text-align: right;\">\n",
       "      <th></th>\n",
       "      <th>point</th>\n",
       "    </tr>\n",
       "    <tr>\n",
       "      <th>name</th>\n",
       "      <th></th>\n",
       "    </tr>\n",
       "  </thead>\n",
       "  <tbody>\n",
       "    <tr>\n",
       "      <th>120BPM</th>\n",
       "      <td>2.76</td>\n",
       "    </tr>\n",
       "    <tr>\n",
       "      <th>1917</th>\n",
       "      <td>62.09</td>\n",
       "    </tr>\n",
       "    <tr>\n",
       "      <th>800</th>\n",
       "      <td>25.27</td>\n",
       "    </tr>\n",
       "    <tr>\n",
       "      <th>가나의 혼인잔치: 언약</th>\n",
       "      <td>501.68</td>\n",
       "    </tr>\n",
       "    <tr>\n",
       "      <th>건축학개론</th>\n",
       "      <td>78.03</td>\n",
       "    </tr>\n",
       "    <tr>\n",
       "      <th>...</th>\n",
       "      <td>...</td>\n",
       "    </tr>\n",
       "    <tr>\n",
       "      <th>해피 투게더</th>\n",
       "      <td>703.29</td>\n",
       "    </tr>\n",
       "    <tr>\n",
       "      <th>허트 로커</th>\n",
       "      <td>219.32</td>\n",
       "    </tr>\n",
       "    <tr>\n",
       "      <th>현기증</th>\n",
       "      <td>198.56</td>\n",
       "    </tr>\n",
       "    <tr>\n",
       "      <th>협상</th>\n",
       "      <td>14.64</td>\n",
       "    </tr>\n",
       "    <tr>\n",
       "      <th>화양연화</th>\n",
       "      <td>877.12</td>\n",
       "    </tr>\n",
       "  </tbody>\n",
       "</table>\n",
       "<p>190 rows × 1 columns</p>\n",
       "</div>"
      ],
      "text/plain": [
       "               point\n",
       "name                \n",
       "120BPM          2.76\n",
       "1917           62.09\n",
       "800            25.27\n",
       "가나의 혼인잔치: 언약  501.68\n",
       "건축학개론          78.03\n",
       "...              ...\n",
       "해피 투게더        703.29\n",
       "허트 로커         219.32\n",
       "현기증           198.56\n",
       "협상             14.64\n",
       "화양연화          877.12\n",
       "\n",
       "[190 rows x 1 columns]"
      ]
     },
     "execution_count": 30,
     "metadata": {},
     "output_type": "execute_result"
    }
   ],
   "source": [
    "# pivot table \n",
    "\n",
    "movie_unique = pd.pivot_table(data=movie, index=\"name\", aggfunc=np.sum)\n",
    "movie_unique"
   ]
  },
  {
   "cell_type": "code",
   "execution_count": 31,
   "id": "41498fa9",
   "metadata": {},
   "outputs": [
    {
     "data": {
      "text/html": [
       "<div>\n",
       "<style scoped>\n",
       "    .dataframe tbody tr th:only-of-type {\n",
       "        vertical-align: middle;\n",
       "    }\n",
       "\n",
       "    .dataframe tbody tr th {\n",
       "        vertical-align: top;\n",
       "    }\n",
       "\n",
       "    .dataframe thead th {\n",
       "        text-align: right;\n",
       "    }\n",
       "</style>\n",
       "<table border=\"1\" class=\"dataframe\">\n",
       "  <thead>\n",
       "    <tr style=\"text-align: right;\">\n",
       "      <th></th>\n",
       "      <th>point</th>\n",
       "    </tr>\n",
       "    <tr>\n",
       "      <th>name</th>\n",
       "      <th></th>\n",
       "    </tr>\n",
       "  </thead>\n",
       "  <tbody>\n",
       "    <tr>\n",
       "      <th>너의 췌장을 먹고 싶어</th>\n",
       "      <td>959.59</td>\n",
       "    </tr>\n",
       "    <tr>\n",
       "      <th>극장판 바이올렛 에버가든</th>\n",
       "      <td>949.98</td>\n",
       "    </tr>\n",
       "    <tr>\n",
       "      <th>부활: 그 증거</th>\n",
       "      <td>936.44</td>\n",
       "    </tr>\n",
       "    <tr>\n",
       "      <th>러브 액츄얼리</th>\n",
       "      <td>893.02</td>\n",
       "    </tr>\n",
       "    <tr>\n",
       "      <th>화양연화</th>\n",
       "      <td>877.12</td>\n",
       "    </tr>\n",
       "  </tbody>\n",
       "</table>\n",
       "</div>"
      ],
      "text/plain": [
       "                point\n",
       "name                 \n",
       "너의 췌장을 먹고 싶어   959.59\n",
       "극장판 바이올렛 에버가든  949.98\n",
       "부활: 그 증거       936.44\n",
       "러브 액츄얼리        893.02\n",
       "화양연화           877.12"
      ]
     },
     "execution_count": 31,
     "metadata": {},
     "output_type": "execute_result"
    }
   ],
   "source": [
    "movie_best = movie_unique.sort_values(by=\"point\", ascending=False) # 내림차순 \n",
    "movie_best.head()"
   ]
  },
  {
   "cell_type": "code",
   "execution_count": 32,
   "id": "8be8051e",
   "metadata": {},
   "outputs": [
    {
     "data": {
      "text/html": [
       "<div>\n",
       "<style scoped>\n",
       "    .dataframe tbody tr th:only-of-type {\n",
       "        vertical-align: middle;\n",
       "    }\n",
       "\n",
       "    .dataframe tbody tr th {\n",
       "        vertical-align: top;\n",
       "    }\n",
       "\n",
       "    .dataframe thead th {\n",
       "        text-align: right;\n",
       "    }\n",
       "</style>\n",
       "<table border=\"1\" class=\"dataframe\">\n",
       "  <thead>\n",
       "    <tr style=\"text-align: right;\">\n",
       "      <th></th>\n",
       "      <th>date</th>\n",
       "      <th>name</th>\n",
       "      <th>point</th>\n",
       "    </tr>\n",
       "  </thead>\n",
       "  <tbody>\n",
       "    <tr>\n",
       "      <th>22</th>\n",
       "      <td>2021-01-01</td>\n",
       "      <td>화양연화</td>\n",
       "      <td>8.80</td>\n",
       "    </tr>\n",
       "    <tr>\n",
       "      <th>70</th>\n",
       "      <td>2021-01-02</td>\n",
       "      <td>화양연화</td>\n",
       "      <td>8.79</td>\n",
       "    </tr>\n",
       "    <tr>\n",
       "      <th>117</th>\n",
       "      <td>2021-01-03</td>\n",
       "      <td>화양연화</td>\n",
       "      <td>8.75</td>\n",
       "    </tr>\n",
       "    <tr>\n",
       "      <th>162</th>\n",
       "      <td>2021-01-04</td>\n",
       "      <td>화양연화</td>\n",
       "      <td>8.76</td>\n",
       "    </tr>\n",
       "    <tr>\n",
       "      <th>205</th>\n",
       "      <td>2021-01-05</td>\n",
       "      <td>화양연화</td>\n",
       "      <td>8.76</td>\n",
       "    </tr>\n",
       "    <tr>\n",
       "      <th>...</th>\n",
       "      <td>...</td>\n",
       "      <td>...</td>\n",
       "      <td>...</td>\n",
       "    </tr>\n",
       "    <tr>\n",
       "      <th>4571</th>\n",
       "      <td>2021-04-06</td>\n",
       "      <td>화양연화</td>\n",
       "      <td>8.79</td>\n",
       "    </tr>\n",
       "    <tr>\n",
       "      <th>4621</th>\n",
       "      <td>2021-04-07</td>\n",
       "      <td>화양연화</td>\n",
       "      <td>8.79</td>\n",
       "    </tr>\n",
       "    <tr>\n",
       "      <th>4668</th>\n",
       "      <td>2021-04-08</td>\n",
       "      <td>화양연화</td>\n",
       "      <td>8.79</td>\n",
       "    </tr>\n",
       "    <tr>\n",
       "      <th>4719</th>\n",
       "      <td>2021-04-09</td>\n",
       "      <td>화양연화</td>\n",
       "      <td>8.79</td>\n",
       "    </tr>\n",
       "    <tr>\n",
       "      <th>4769</th>\n",
       "      <td>2021-04-10</td>\n",
       "      <td>화양연화</td>\n",
       "      <td>8.79</td>\n",
       "    </tr>\n",
       "  </tbody>\n",
       "</table>\n",
       "<p>100 rows × 3 columns</p>\n",
       "</div>"
      ],
      "text/plain": [
       "            date  name  point\n",
       "22    2021-01-01  화양연화   8.80\n",
       "70    2021-01-02  화양연화   8.79\n",
       "117   2021-01-03  화양연화   8.75\n",
       "162   2021-01-04  화양연화   8.76\n",
       "205   2021-01-05  화양연화   8.76\n",
       "...          ...   ...    ...\n",
       "4571  2021-04-06  화양연화   8.79\n",
       "4621  2021-04-07  화양연화   8.79\n",
       "4668  2021-04-08  화양연화   8.79\n",
       "4719  2021-04-09  화양연화   8.79\n",
       "4769  2021-04-10  화양연화   8.79\n",
       "\n",
       "[100 rows x 3 columns]"
      ]
     },
     "execution_count": 32,
     "metadata": {},
     "output_type": "execute_result"
    }
   ],
   "source": [
    "tmp = movie.query(\"name == ['화양연화']\")\n",
    "tmp"
   ]
  },
  {
   "cell_type": "code",
   "execution_count": 33,
   "id": "0a05cc6f",
   "metadata": {},
   "outputs": [],
   "source": [
    "# 시각화 \n",
    "\n",
    "import matplotlib.pyplot as plt \n",
    "from matplotlib import rc \n",
    "\n",
    "rc(\"font\", family=\"Malgun Gothic\") # Windows: Malgun Gothic \n",
    "%matplotlib inline \n",
    "# get_ipython().run_line_magic(\"matplotlib\", \"inline\")"
   ]
  },
  {
   "cell_type": "code",
   "execution_count": 34,
   "id": "614dc7a7",
   "metadata": {},
   "outputs": [
    {
     "data": {
      "image/png": "[encoded data removed]",
      "text/plain": [
       "<Figure size 1440x576 with 1 Axes>"
      ]
     },
     "metadata": {
      "needs_background": "light"
     },
     "output_type": "display_data"
    }
   ],
   "source": [
    "plt.figure(figsize=(20, 8)) # x 20, y, 8 \n",
    "plt.plot(tmp[\"date\"], tmp[\"point\"]) # 선 그래프 x축 날짜, y축 평점 => 날짜에 따른 평점 변화를 선그래프로 표현(시계열)\n",
    "plt.title(\"날짜별 평점\")\n",
    "plt.xlabel(\"날짜\")\n",
    "plt.ylabel(\"평점\")\n",
    "plt.xticks(rotation=\"vertical\")  # x좌표값 세로로 표기\n",
    "plt.legend(labels=[\"평점 추이\"], loc=\"best\")\n",
    "plt.grid(True)\n",
    "plt.show()"
   ]
  },
  {
   "cell_type": "code",
   "execution_count": 35,
   "id": "2c7173b7",
   "metadata": {},
   "outputs": [
    {
     "data": {
      "text/html": [
       "<div>\n",
       "<style scoped>\n",
       "    .dataframe tbody tr th:only-of-type {\n",
       "        vertical-align: middle;\n",
       "    }\n",
       "\n",
       "    .dataframe tbody tr th {\n",
       "        vertical-align: top;\n",
       "    }\n",
       "\n",
       "    .dataframe thead th {\n",
       "        text-align: right;\n",
       "    }\n",
       "</style>\n",
       "<table border=\"1\" class=\"dataframe\">\n",
       "  <thead>\n",
       "    <tr style=\"text-align: right;\">\n",
       "      <th></th>\n",
       "      <th>point</th>\n",
       "    </tr>\n",
       "    <tr>\n",
       "      <th>name</th>\n",
       "      <th></th>\n",
       "    </tr>\n",
       "  </thead>\n",
       "  <tbody>\n",
       "    <tr>\n",
       "      <th>너의 췌장을 먹고 싶어</th>\n",
       "      <td>959.59</td>\n",
       "    </tr>\n",
       "    <tr>\n",
       "      <th>극장판 바이올렛 에버가든</th>\n",
       "      <td>949.98</td>\n",
       "    </tr>\n",
       "    <tr>\n",
       "      <th>부활: 그 증거</th>\n",
       "      <td>936.44</td>\n",
       "    </tr>\n",
       "    <tr>\n",
       "      <th>러브 액츄얼리</th>\n",
       "      <td>893.02</td>\n",
       "    </tr>\n",
       "    <tr>\n",
       "      <th>화양연화</th>\n",
       "      <td>877.12</td>\n",
       "    </tr>\n",
       "    <tr>\n",
       "      <th>타오르는 여인의 초상</th>\n",
       "      <td>833.51</td>\n",
       "    </tr>\n",
       "    <tr>\n",
       "      <th>너의 이름은.</th>\n",
       "      <td>817.40</td>\n",
       "    </tr>\n",
       "    <tr>\n",
       "      <th>아비정전</th>\n",
       "      <td>814.83</td>\n",
       "    </tr>\n",
       "    <tr>\n",
       "      <th>찬실이는 복도 많지</th>\n",
       "      <td>785.58</td>\n",
       "    </tr>\n",
       "    <tr>\n",
       "      <th>러브레터</th>\n",
       "      <td>784.32</td>\n",
       "    </tr>\n",
       "  </tbody>\n",
       "</table>\n",
       "</div>"
      ],
      "text/plain": [
       "                point\n",
       "name                 \n",
       "너의 췌장을 먹고 싶어   959.59\n",
       "극장판 바이올렛 에버가든  949.98\n",
       "부활: 그 증거       936.44\n",
       "러브 액츄얼리        893.02\n",
       "화양연화           877.12\n",
       "타오르는 여인의 초상    833.51\n",
       "너의 이름은.        817.40\n",
       "아비정전           814.83\n",
       "찬실이는 복도 많지     785.58\n",
       "러브레터           784.32"
      ]
     },
     "execution_count": 35,
     "metadata": {},
     "output_type": "execute_result"
    }
   ],
   "source": [
    "# 상위 10개 영화 \n",
    "movie_best.head(10)"
   ]
  },
  {
   "cell_type": "code",
   "execution_count": 36,
   "id": "22e69d00",
   "metadata": {},
   "outputs": [
    {
     "data": {
      "text/html": [
       "<div>\n",
       "<style scoped>\n",
       "    .dataframe tbody tr th:only-of-type {\n",
       "        vertical-align: middle;\n",
       "    }\n",
       "\n",
       "    .dataframe tbody tr th {\n",
       "        vertical-align: top;\n",
       "    }\n",
       "\n",
       "    .dataframe thead th {\n",
       "        text-align: right;\n",
       "    }\n",
       "</style>\n",
       "<table border=\"1\" class=\"dataframe\">\n",
       "  <thead>\n",
       "    <tr style=\"text-align: right;\">\n",
       "      <th></th>\n",
       "      <th>point</th>\n",
       "    </tr>\n",
       "    <tr>\n",
       "      <th>name</th>\n",
       "      <th></th>\n",
       "    </tr>\n",
       "  </thead>\n",
       "  <tbody>\n",
       "    <tr>\n",
       "      <th>최악의 하루</th>\n",
       "      <td>23.40</td>\n",
       "    </tr>\n",
       "    <tr>\n",
       "      <th>열혈남아</th>\n",
       "      <td>23.16</td>\n",
       "    </tr>\n",
       "    <tr>\n",
       "      <th>영웅본색</th>\n",
       "      <td>18.36</td>\n",
       "    </tr>\n",
       "    <tr>\n",
       "      <th>너는 여기에 없었다</th>\n",
       "      <td>15.64</td>\n",
       "    </tr>\n",
       "    <tr>\n",
       "      <th>협상</th>\n",
       "      <td>14.64</td>\n",
       "    </tr>\n",
       "    <tr>\n",
       "      <th>고질라</th>\n",
       "      <td>13.34</td>\n",
       "    </tr>\n",
       "    <tr>\n",
       "      <th>초미의 관심사</th>\n",
       "      <td>7.37</td>\n",
       "    </tr>\n",
       "    <tr>\n",
       "      <th>레이니 데이 인 뉴욕</th>\n",
       "      <td>5.54</td>\n",
       "    </tr>\n",
       "    <tr>\n",
       "      <th>신 고질라</th>\n",
       "      <td>4.97</td>\n",
       "    </tr>\n",
       "    <tr>\n",
       "      <th>120BPM</th>\n",
       "      <td>2.76</td>\n",
       "    </tr>\n",
       "  </tbody>\n",
       "</table>\n",
       "</div>"
      ],
      "text/plain": [
       "             point\n",
       "name              \n",
       "최악의 하루       23.40\n",
       "열혈남아         23.16\n",
       "영웅본색         18.36\n",
       "너는 여기에 없었다   15.64\n",
       "협상           14.64\n",
       "고질라          13.34\n",
       "초미의 관심사       7.37\n",
       "레이니 데이 인 뉴욕   5.54\n",
       "신 고질라         4.97\n",
       "120BPM        2.76"
      ]
     },
     "execution_count": 36,
     "metadata": {},
     "output_type": "execute_result"
    }
   ],
   "source": [
    "# 하위 10개 영화\n",
    "movie_best.tail(10)"
   ]
  },
  {
   "cell_type": "code",
   "execution_count": 37,
   "id": "d3a1435e",
   "metadata": {},
   "outputs": [
    {
     "data": {
      "text/html": [
       "<div>\n",
       "<style scoped>\n",
       "    .dataframe tbody tr th:only-of-type {\n",
       "        vertical-align: middle;\n",
       "    }\n",
       "\n",
       "    .dataframe tbody tr th {\n",
       "        vertical-align: top;\n",
       "    }\n",
       "\n",
       "    .dataframe thead th {\n",
       "        text-align: right;\n",
       "    }\n",
       "</style>\n",
       "<table border=\"1\" class=\"dataframe\">\n",
       "  <thead>\n",
       "    <tr style=\"text-align: right;\">\n",
       "      <th>name</th>\n",
       "      <th>120BPM</th>\n",
       "      <th>1917</th>\n",
       "      <th>800</th>\n",
       "      <th>가나의 혼인잔치: 언약</th>\n",
       "      <th>건축학개론</th>\n",
       "      <th>고질라</th>\n",
       "      <th>고질라 VS. 콩</th>\n",
       "      <th>국가부도의 날</th>\n",
       "      <th>굿바이</th>\n",
       "      <th>귀여운 여인</th>\n",
       "      <th>...</th>\n",
       "      <th>피아노</th>\n",
       "      <th>피아니스트의 전설</th>\n",
       "      <th>하나와 앨리스</th>\n",
       "      <th>해리 포터와 불의 잔</th>\n",
       "      <th>해리가 샐리를 만났을 때</th>\n",
       "      <th>해피 투게더</th>\n",
       "      <th>허트 로커</th>\n",
       "      <th>현기증</th>\n",
       "      <th>협상</th>\n",
       "      <th>화양연화</th>\n",
       "    </tr>\n",
       "    <tr>\n",
       "      <th>date</th>\n",
       "      <th></th>\n",
       "      <th></th>\n",
       "      <th></th>\n",
       "      <th></th>\n",
       "      <th></th>\n",
       "      <th></th>\n",
       "      <th></th>\n",
       "      <th></th>\n",
       "      <th></th>\n",
       "      <th></th>\n",
       "      <th></th>\n",
       "      <th></th>\n",
       "      <th></th>\n",
       "      <th></th>\n",
       "      <th></th>\n",
       "      <th></th>\n",
       "      <th></th>\n",
       "      <th></th>\n",
       "      <th></th>\n",
       "      <th></th>\n",
       "      <th></th>\n",
       "    </tr>\n",
       "  </thead>\n",
       "  <tbody>\n",
       "    <tr>\n",
       "      <th>2021-01-01</th>\n",
       "      <td>NaN</td>\n",
       "      <td>NaN</td>\n",
       "      <td>3.60</td>\n",
       "      <td>9.59</td>\n",
       "      <td>NaN</td>\n",
       "      <td>NaN</td>\n",
       "      <td>NaN</td>\n",
       "      <td>NaN</td>\n",
       "      <td>9.04</td>\n",
       "      <td>8.7</td>\n",
       "      <td>...</td>\n",
       "      <td>8.66</td>\n",
       "      <td>NaN</td>\n",
       "      <td>8.11</td>\n",
       "      <td>NaN</td>\n",
       "      <td>8.89</td>\n",
       "      <td>NaN</td>\n",
       "      <td>NaN</td>\n",
       "      <td>NaN</td>\n",
       "      <td>NaN</td>\n",
       "      <td>8.80</td>\n",
       "    </tr>\n",
       "    <tr>\n",
       "      <th>2021-01-02</th>\n",
       "      <td>NaN</td>\n",
       "      <td>NaN</td>\n",
       "      <td>3.60</td>\n",
       "      <td>9.56</td>\n",
       "      <td>NaN</td>\n",
       "      <td>NaN</td>\n",
       "      <td>NaN</td>\n",
       "      <td>NaN</td>\n",
       "      <td>9.04</td>\n",
       "      <td>8.7</td>\n",
       "      <td>...</td>\n",
       "      <td>8.66</td>\n",
       "      <td>NaN</td>\n",
       "      <td>8.11</td>\n",
       "      <td>NaN</td>\n",
       "      <td>8.89</td>\n",
       "      <td>NaN</td>\n",
       "      <td>NaN</td>\n",
       "      <td>NaN</td>\n",
       "      <td>NaN</td>\n",
       "      <td>8.79</td>\n",
       "    </tr>\n",
       "    <tr>\n",
       "      <th>2021-01-03</th>\n",
       "      <td>NaN</td>\n",
       "      <td>NaN</td>\n",
       "      <td>3.60</td>\n",
       "      <td>9.54</td>\n",
       "      <td>NaN</td>\n",
       "      <td>NaN</td>\n",
       "      <td>NaN</td>\n",
       "      <td>NaN</td>\n",
       "      <td>9.04</td>\n",
       "      <td>8.7</td>\n",
       "      <td>...</td>\n",
       "      <td>8.66</td>\n",
       "      <td>NaN</td>\n",
       "      <td>8.11</td>\n",
       "      <td>NaN</td>\n",
       "      <td>8.88</td>\n",
       "      <td>NaN</td>\n",
       "      <td>NaN</td>\n",
       "      <td>NaN</td>\n",
       "      <td>NaN</td>\n",
       "      <td>8.75</td>\n",
       "    </tr>\n",
       "    <tr>\n",
       "      <th>2021-01-04</th>\n",
       "      <td>NaN</td>\n",
       "      <td>NaN</td>\n",
       "      <td>3.61</td>\n",
       "      <td>9.51</td>\n",
       "      <td>NaN</td>\n",
       "      <td>NaN</td>\n",
       "      <td>NaN</td>\n",
       "      <td>NaN</td>\n",
       "      <td>9.04</td>\n",
       "      <td>8.7</td>\n",
       "      <td>...</td>\n",
       "      <td>NaN</td>\n",
       "      <td>NaN</td>\n",
       "      <td>8.11</td>\n",
       "      <td>NaN</td>\n",
       "      <td>8.88</td>\n",
       "      <td>NaN</td>\n",
       "      <td>NaN</td>\n",
       "      <td>NaN</td>\n",
       "      <td>NaN</td>\n",
       "      <td>8.76</td>\n",
       "    </tr>\n",
       "    <tr>\n",
       "      <th>2021-01-05</th>\n",
       "      <td>NaN</td>\n",
       "      <td>NaN</td>\n",
       "      <td>3.62</td>\n",
       "      <td>9.52</td>\n",
       "      <td>NaN</td>\n",
       "      <td>NaN</td>\n",
       "      <td>NaN</td>\n",
       "      <td>NaN</td>\n",
       "      <td>9.04</td>\n",
       "      <td>NaN</td>\n",
       "      <td>...</td>\n",
       "      <td>NaN</td>\n",
       "      <td>NaN</td>\n",
       "      <td>NaN</td>\n",
       "      <td>NaN</td>\n",
       "      <td>8.88</td>\n",
       "      <td>NaN</td>\n",
       "      <td>NaN</td>\n",
       "      <td>NaN</td>\n",
       "      <td>NaN</td>\n",
       "      <td>8.76</td>\n",
       "    </tr>\n",
       "  </tbody>\n",
       "</table>\n",
       "<p>5 rows × 190 columns</p>\n",
       "</div>"
      ],
      "text/plain": [
       "name        120BPM  1917   800  가나의 혼인잔치: 언약  건축학개론  고질라  고질라 VS. 콩  국가부도의 날  \\\n",
       "date                                                                           \n",
       "2021-01-01     NaN   NaN  3.60          9.59    NaN  NaN        NaN      NaN   \n",
       "2021-01-02     NaN   NaN  3.60          9.56    NaN  NaN        NaN      NaN   \n",
       "2021-01-03     NaN   NaN  3.60          9.54    NaN  NaN        NaN      NaN   \n",
       "2021-01-04     NaN   NaN  3.61          9.51    NaN  NaN        NaN      NaN   \n",
       "2021-01-05     NaN   NaN  3.62          9.52    NaN  NaN        NaN      NaN   \n",
       "\n",
       "name         굿바이  귀여운 여인  ...   피아노  피아니스트의 전설  하나와 앨리스  해리 포터와 불의 잔  \\\n",
       "date                      ...                                          \n",
       "2021-01-01  9.04     8.7  ...  8.66        NaN     8.11          NaN   \n",
       "2021-01-02  9.04     8.7  ...  8.66        NaN     8.11          NaN   \n",
       "2021-01-03  9.04     8.7  ...  8.66        NaN     8.11          NaN   \n",
       "2021-01-04  9.04     8.7  ...   NaN        NaN     8.11          NaN   \n",
       "2021-01-05  9.04     NaN  ...   NaN        NaN      NaN          NaN   \n",
       "\n",
       "name        해리가 샐리를 만났을 때  해피 투게더  허트 로커  현기증  협상  화양연화  \n",
       "date                                                     \n",
       "2021-01-01           8.89     NaN    NaN  NaN NaN  8.80  \n",
       "2021-01-02           8.89     NaN    NaN  NaN NaN  8.79  \n",
       "2021-01-03           8.88     NaN    NaN  NaN NaN  8.75  \n",
       "2021-01-04           8.88     NaN    NaN  NaN NaN  8.76  \n",
       "2021-01-05           8.88     NaN    NaN  NaN NaN  8.76  \n",
       "\n",
       "[5 rows x 190 columns]"
      ]
     },
     "execution_count": 37,
     "metadata": {},
     "output_type": "execute_result"
    }
   ],
   "source": [
    "movie_pivot = pd.pivot_table(data=movie, index=\"date\", columns=\"name\", values=\"point\")\n",
    "movie_pivot.head()"
   ]
  },
  {
   "cell_type": "code",
   "execution_count": 38,
   "id": "b8e50319",
   "metadata": {},
   "outputs": [],
   "source": [
    "movie_pivot.to_excel(\"../data/03. movie_pivot.xlsx\")"
   ]
  },
  {
   "cell_type": "code",
   "execution_count": 39,
   "id": "bb7fc2f8",
   "metadata": {},
   "outputs": [],
   "source": [
    "# movie_pivot.columns = movie_pivot.columns.droplevel()"
   ]
  },
  {
   "cell_type": "markdown",
   "id": "b91ad165",
   "metadata": {},
   "source": [
    "#### 한글 설정 관련 시스템에 따른 설정 방법"
   ]
  },
  {
   "cell_type": "code",
   "execution_count": 40,
   "id": "7acc775e",
   "metadata": {},
   "outputs": [],
   "source": [
    "import platform\n",
    "import seaborn as sns \n",
    "from matplotlib import font_manager, rc \n",
    "\n",
    "path = \"C:/Windows/Fonts/malgun.ttf\"\n",
    "\n",
    "if platform.system() == \"Darwin\":\n",
    "    rc(\"font\", family=\"Arial Unicode MS\")\n",
    "elif platform.system() == \"Windows\":\n",
    "    font_name = font_manager.FontProperties(fname=path).get_name()\n",
    "    rc(\"font\", family=font_name)\n",
    "else:\n",
    "    print(\"Unknown system. sorry\")"
   ]
  },
  {
   "cell_type": "code",
   "execution_count": 41,
   "id": "0189b214",
   "metadata": {},
   "outputs": [
    {
     "data": {
      "image/png": "[encoded data removed]",
      "text/plain": [
       "<Figure size 1440x576 with 1 Axes>"
      ]
     },
     "metadata": {
      "needs_background": "light"
     },
     "output_type": "display_data"
    }
   ],
   "source": [
    "target_col = [\"화양연화\", \"국가부도의 날\", \"하나와 앨리스\", \"늑대와 춤을\", \"피아노\"]\n",
    "plt.figure(figsize=(20, 8))\n",
    "plt.title(\"날짜별 평점\")\n",
    "plt.xlabel(\"날짜\")\n",
    "plt.ylabel(\"평점\")\n",
    "plt.xticks(rotation=\"vertical\")\n",
    "plt.tick_params(bottom=\"off\", labelbottom=\"off\")\n",
    "plt.plot(movie_pivot[target_col])\n",
    "plt.legend(target_col, loc=\"best\")\n",
    "plt.grid(True)\n",
    "plt.show()"
   ]
  },
  {
   "cell_type": "code",
   "execution_count": null,
   "id": "9781f8c6",
   "metadata": {},
   "outputs": [],
   "source": []
  },
  {
   "cell_type": "markdown",
   "id": "11708f1b",
   "metadata": {},
   "source": [
    "---"
   ]
  },
  {
   "cell_type": "markdown",
   "id": "c3b7eacd",
   "metadata": {},
   "source": [
    "### 테스트 코드"
   ]
  },
  {
   "cell_type": "code",
   "execution_count": 59,
   "id": "d59e6ba8",
   "metadata": {},
   "outputs": [
    {
     "data": {
      "text/plain": [
       "'000-0000-0000'"
      ]
     },
     "execution_count": 59,
     "metadata": {},
     "output_type": "execute_result"
    }
   ],
   "source": [
    "import re\n",
    "\n",
    "test1 = \"000-0000-0000\"\n",
    "test = \"$10. asd\"\n",
    "\n",
    "#re.search(\"\\$\\d+\\.\", test)\n",
    "\n",
    "re.search(\"\\d+-\\d+-\\d+\", test1).group()"
   ]
  },
  {
   "cell_type": "code",
   "execution_count": null,
   "id": "47d28635",
   "metadata": {},
   "outputs": [],
   "source": []
  },
  {
   "cell_type": "code",
   "execution_count": 47,
   "id": "2ccdceba",
   "metadata": {},
   "outputs": [
    {
     "data": {
      "text/plain": [
       "DatetimeIndex(['2021-01-01 00:00:00', '2021-01-01 01:00:00',\n",
       "               '2021-01-01 02:00:00', '2021-01-01 03:00:00',\n",
       "               '2021-01-01 04:00:00', '2021-01-01 05:00:00',\n",
       "               '2021-01-01 06:00:00', '2021-01-01 07:00:00',\n",
       "               '2021-01-01 08:00:00', '2021-01-01 09:00:00'],\n",
       "              dtype='datetime64[ns]', freq='H')"
      ]
     },
     "execution_count": 47,
     "metadata": {},
     "output_type": "execute_result"
    }
   ],
   "source": [
    "pd.date_range(start=\"20210101\", periods=10, freq=\"H\")"
   ]
  },
  {
   "cell_type": "code",
   "execution_count": null,
   "id": "c7ca04dc",
   "metadata": {},
   "outputs": [],
   "source": []
  }
 ],
 "metadata": {
  "kernelspec": {
   "display_name": "Python 3 (ipykernel)",
   "language": "python",
   "name": "python3"
  },
  "language_info": {
   "codemirror_mode": {
    "name": "ipython",
    "version": 3
   },
   "file_extension": ".py",
   "mimetype": "text/x-python",
   "name": "python",
   "nbconvert_exporter": "python",
   "pygments_lexer": "ipython3",
   "version": "3.8.11"
  }
 },
 "nbformat": 4,
 "nbformat_minor": 5
}
