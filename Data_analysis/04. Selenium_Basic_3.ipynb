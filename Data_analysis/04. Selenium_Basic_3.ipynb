{
 "cells": [
  {
   "cell_type": "markdown",
   "id": "ffd49521",
   "metadata": {},
   "source": [
    "- selenium_basic_1 => iframe \n",
    "- selenium_basic_2 => headless \n",
    "- selenium_basic_3 => wait"
   ]
  },
  {
   "cell_type": "markdown",
   "id": "9db570d7",
   "metadata": {},
   "source": [
    "## Wait \n",
    "- time.sleep(5): 물리적으로 5초 동안 멈추고 기다림\n",
    "- implicitly_wait(10)\n",
    "    - 전체 페이지 로딩을 최대 10초 간 기다리고, 10초 안에 페이지 로딩이 완료되면 다음 코드 실행\n",
    "    - 한 번만 실행하면, 전역(global)로 실행이 가능함\n",
    "- explicitly_wait \n",
    "    - 지정한 태그만 로딩이 완료되면, 다음 코드 실행"
   ]
  },
  {
   "cell_type": "markdown",
   "id": "32974d3b",
   "metadata": {},
   "source": [
    "- 무신사 스토어 \n",
    "- https://store.musinsa.com/app/\n",
    "- 인기 => 후드 집업\n",
    "- 단독상품, 세일상품 조건을 선택\n",
    "- 최소~최대 금액 입력\n",
    "- 옷 이름, 가격, 할인율, 링크, 이미지"
   ]
  },
  {
   "cell_type": "code",
   "execution_count": 1,
   "id": "efb6b7b8",
   "metadata": {},
   "outputs": [],
   "source": [
    "import pandas as pd \n",
    "import time \n",
    "from selenium import webdriver\n",
    "\n",
    "# explicitly wait\n",
    "from selenium.webdriver.common.by import By\n",
    "from selenium.webdriver.support.ui import WebDriverWait\n",
    "from selenium.webdriver.support import expected_conditions as EC"
   ]
  },
  {
   "cell_type": "code",
   "execution_count": 51,
   "id": "445d90e4",
   "metadata": {},
   "outputs": [],
   "source": [
    "url = \"https://store.musinsa.com/app/\"\n",
    "driver = webdriver.Chrome(\"../driver/chromedriver.exe\")\n",
    "\n",
    "# 웹 페이지 전체가 로딩 될 때까지 10초간 대기하고, \n",
    "# 10초안에 로딩이 완료되면 다음 코드를 실행\n",
    "driver.implicitly_wait(10) # 한 번만 적용하면 이후 코드에 모두 적용됨\n",
    "driver.get(url)"
   ]
  },
  {
   "cell_type": "code",
   "execution_count": 3,
   "id": "c386c2fa",
   "metadata": {},
   "outputs": [],
   "source": [
    "# 로그인 버튼 클릭 - 1 \n",
    "driver.find_element_by_css_selector(\"#default_top > div.header-member > button\").click()"
   ]
  },
  {
   "cell_type": "code",
   "execution_count": 13,
   "id": "213020af",
   "metadata": {},
   "outputs": [],
   "source": [
    "# 아이디 입력 \n",
    "driver.find_element_by_css_selector(\"body > div.musinsa-wrapper.wrapper-member.devicePC > div > form > input:nth-child(2)\").send_keys(\"zerobase\")"
   ]
  },
  {
   "cell_type": "code",
   "execution_count": 14,
   "id": "6a8dcc94",
   "metadata": {},
   "outputs": [],
   "source": [
    "# 패스워드 입력\n",
    "driver.find_element_by_css_selector(\"body > div.musinsa-wrapper.wrapper-member.devicePC > div > form > input:nth-child(3)\").send_keys(\"zerobase\")"
   ]
  },
  {
   "cell_type": "code",
   "execution_count": 15,
   "id": "618aa6d8",
   "metadata": {},
   "outputs": [],
   "source": [
    "# 로그인 버튼 클릭 - 2 \n",
    "driver.find_element_by_css_selector(\"body > div.musinsa-wrapper.wrapper-member.devicePC > div > form > button\").click()"
   ]
  },
  {
   "cell_type": "code",
   "execution_count": 16,
   "id": "3e5f230e",
   "metadata": {},
   "outputs": [],
   "source": [
    "# alert \n",
    "driver.switch_to.alert.accept()"
   ]
  },
  {
   "cell_type": "markdown",
   "id": "43ab02fc",
   "metadata": {},
   "source": [
    "#### explicitly_wait()"
   ]
  },
  {
   "cell_type": "code",
   "execution_count": 19,
   "id": "962d193a",
   "metadata": {},
   "outputs": [],
   "source": [
    "WebDriverWait(driver, 5).\\\n",
    "until(EC.presence_of_element_located((By.CSS_SELECTOR, \"#default_top > div.header-member > button\"))).click()"
   ]
  },
  {
   "cell_type": "code",
   "execution_count": 20,
   "id": "d1ee9923",
   "metadata": {},
   "outputs": [],
   "source": [
    "#  아이디(wait)\n",
    "WebDriverWait(driver, 5).\\\n",
    "until(EC.presence_of_element_located((By.CSS_SELECTOR, \"body > div.musinsa-wrapper.wrapper-member.devicePC > div > form > input:nth-child(2)\"))).send_keys(\"zerobase\")\n",
    "\n",
    "# 패스워드(wait)\n",
    "WebDriverWait(driver, 5).\\\n",
    "until(EC.presence_of_element_located((By.CSS_SELECTOR, \"body > div.musinsa-wrapper.wrapper-member.devicePC > div > form > input:nth-child(3)\"))).send_keys(\"zerobase\")\n",
    "\n",
    "# 로그인 버튼 클릭(wait)\n",
    "WebDriverWait(driver, 5).\\\n",
    "until(EC.presence_of_element_located((By.CSS_SELECTOR, \"body > div.musinsa-wrapper.wrapper-member.devicePC > div > form > button\"))).click()"
   ]
  },
  {
   "cell_type": "code",
   "execution_count": 21,
   "id": "57eb90a9",
   "metadata": {},
   "outputs": [],
   "source": [
    "# alert \n",
    "driver.switch_to.alert.accept()"
   ]
  },
  {
   "cell_type": "code",
   "execution_count": null,
   "id": "6711d592",
   "metadata": {},
   "outputs": [],
   "source": []
  },
  {
   "cell_type": "code",
   "execution_count": 23,
   "id": "11bd677a",
   "metadata": {},
   "outputs": [
    {
     "ename": "ElementNotInteractableException",
     "evalue": "Message: element not interactable\n  (Session info: chrome=94.0.4606.81)\n",
     "output_type": "error",
     "traceback": [
      "\u001b[1;31m---------------------------------------------------------------------------\u001b[0m",
      "\u001b[1;31mElementNotInteractableException\u001b[0m           Traceback (most recent call last)",
      "\u001b[1;32m~\\AppData\\Local\\Temp/ipykernel_37480/1262943672.py\u001b[0m in \u001b[0;36m<module>\u001b[1;34m\u001b[0m\n\u001b[0;32m      1\u001b[0m \u001b[1;31m# 인기 => 후드 집업\u001b[0m\u001b[1;33m\u001b[0m\u001b[1;33m\u001b[0m\u001b[1;33m\u001b[0m\u001b[0m\n\u001b[1;32m----> 2\u001b[1;33m \u001b[0mdriver\u001b[0m\u001b[1;33m.\u001b[0m\u001b[0mfind_element_by_css_selector\u001b[0m\u001b[1;33m(\u001b[0m\u001b[1;34m\"#ui-id-2 > ul:nth-child(1) > li:nth-child(1) > a\"\u001b[0m\u001b[1;33m)\u001b[0m\u001b[1;33m.\u001b[0m\u001b[0mclick\u001b[0m\u001b[1;33m(\u001b[0m\u001b[1;33m)\u001b[0m\u001b[1;33m\u001b[0m\u001b[1;33m\u001b[0m\u001b[0m\n\u001b[0m",
      "\u001b[1;32mC:\\ProgramData\\Anaconda3\\envs\\ds_study\\lib\\site-packages\\selenium\\webdriver\\remote\\webelement.py\u001b[0m in \u001b[0;36mclick\u001b[1;34m(self)\u001b[0m\n\u001b[0;32m     78\u001b[0m     \u001b[1;32mdef\u001b[0m \u001b[0mclick\u001b[0m\u001b[1;33m(\u001b[0m\u001b[0mself\u001b[0m\u001b[1;33m)\u001b[0m\u001b[1;33m:\u001b[0m\u001b[1;33m\u001b[0m\u001b[1;33m\u001b[0m\u001b[0m\n\u001b[0;32m     79\u001b[0m         \u001b[1;34m\"\"\"Clicks the element.\"\"\"\u001b[0m\u001b[1;33m\u001b[0m\u001b[1;33m\u001b[0m\u001b[0m\n\u001b[1;32m---> 80\u001b[1;33m         \u001b[0mself\u001b[0m\u001b[1;33m.\u001b[0m\u001b[0m_execute\u001b[0m\u001b[1;33m(\u001b[0m\u001b[0mCommand\u001b[0m\u001b[1;33m.\u001b[0m\u001b[0mCLICK_ELEMENT\u001b[0m\u001b[1;33m)\u001b[0m\u001b[1;33m\u001b[0m\u001b[1;33m\u001b[0m\u001b[0m\n\u001b[0m\u001b[0;32m     81\u001b[0m \u001b[1;33m\u001b[0m\u001b[0m\n\u001b[0;32m     82\u001b[0m     \u001b[1;32mdef\u001b[0m \u001b[0msubmit\u001b[0m\u001b[1;33m(\u001b[0m\u001b[0mself\u001b[0m\u001b[1;33m)\u001b[0m\u001b[1;33m:\u001b[0m\u001b[1;33m\u001b[0m\u001b[1;33m\u001b[0m\u001b[0m\n",
      "\u001b[1;32mC:\\ProgramData\\Anaconda3\\envs\\ds_study\\lib\\site-packages\\selenium\\webdriver\\remote\\webelement.py\u001b[0m in \u001b[0;36m_execute\u001b[1;34m(self, command, params)\u001b[0m\n\u001b[0;32m    631\u001b[0m             \u001b[0mparams\u001b[0m \u001b[1;33m=\u001b[0m \u001b[1;33m{\u001b[0m\u001b[1;33m}\u001b[0m\u001b[1;33m\u001b[0m\u001b[1;33m\u001b[0m\u001b[0m\n\u001b[0;32m    632\u001b[0m         \u001b[0mparams\u001b[0m\u001b[1;33m[\u001b[0m\u001b[1;34m'id'\u001b[0m\u001b[1;33m]\u001b[0m \u001b[1;33m=\u001b[0m \u001b[0mself\u001b[0m\u001b[1;33m.\u001b[0m\u001b[0m_id\u001b[0m\u001b[1;33m\u001b[0m\u001b[1;33m\u001b[0m\u001b[0m\n\u001b[1;32m--> 633\u001b[1;33m         \u001b[1;32mreturn\u001b[0m \u001b[0mself\u001b[0m\u001b[1;33m.\u001b[0m\u001b[0m_parent\u001b[0m\u001b[1;33m.\u001b[0m\u001b[0mexecute\u001b[0m\u001b[1;33m(\u001b[0m\u001b[0mcommand\u001b[0m\u001b[1;33m,\u001b[0m \u001b[0mparams\u001b[0m\u001b[1;33m)\u001b[0m\u001b[1;33m\u001b[0m\u001b[1;33m\u001b[0m\u001b[0m\n\u001b[0m\u001b[0;32m    634\u001b[0m \u001b[1;33m\u001b[0m\u001b[0m\n\u001b[0;32m    635\u001b[0m     \u001b[1;32mdef\u001b[0m \u001b[0mfind_element\u001b[0m\u001b[1;33m(\u001b[0m\u001b[0mself\u001b[0m\u001b[1;33m,\u001b[0m \u001b[0mby\u001b[0m\u001b[1;33m=\u001b[0m\u001b[0mBy\u001b[0m\u001b[1;33m.\u001b[0m\u001b[0mID\u001b[0m\u001b[1;33m,\u001b[0m \u001b[0mvalue\u001b[0m\u001b[1;33m=\u001b[0m\u001b[1;32mNone\u001b[0m\u001b[1;33m)\u001b[0m\u001b[1;33m:\u001b[0m\u001b[1;33m\u001b[0m\u001b[1;33m\u001b[0m\u001b[0m\n",
      "\u001b[1;32mC:\\ProgramData\\Anaconda3\\envs\\ds_study\\lib\\site-packages\\selenium\\webdriver\\remote\\webdriver.py\u001b[0m in \u001b[0;36mexecute\u001b[1;34m(self, driver_command, params)\u001b[0m\n\u001b[0;32m    319\u001b[0m         \u001b[0mresponse\u001b[0m \u001b[1;33m=\u001b[0m \u001b[0mself\u001b[0m\u001b[1;33m.\u001b[0m\u001b[0mcommand_executor\u001b[0m\u001b[1;33m.\u001b[0m\u001b[0mexecute\u001b[0m\u001b[1;33m(\u001b[0m\u001b[0mdriver_command\u001b[0m\u001b[1;33m,\u001b[0m \u001b[0mparams\u001b[0m\u001b[1;33m)\u001b[0m\u001b[1;33m\u001b[0m\u001b[1;33m\u001b[0m\u001b[0m\n\u001b[0;32m    320\u001b[0m         \u001b[1;32mif\u001b[0m \u001b[0mresponse\u001b[0m\u001b[1;33m:\u001b[0m\u001b[1;33m\u001b[0m\u001b[1;33m\u001b[0m\u001b[0m\n\u001b[1;32m--> 321\u001b[1;33m             \u001b[0mself\u001b[0m\u001b[1;33m.\u001b[0m\u001b[0merror_handler\u001b[0m\u001b[1;33m.\u001b[0m\u001b[0mcheck_response\u001b[0m\u001b[1;33m(\u001b[0m\u001b[0mresponse\u001b[0m\u001b[1;33m)\u001b[0m\u001b[1;33m\u001b[0m\u001b[1;33m\u001b[0m\u001b[0m\n\u001b[0m\u001b[0;32m    322\u001b[0m             response['value'] = self._unwrap_value(\n\u001b[0;32m    323\u001b[0m                 response.get('value', None))\n",
      "\u001b[1;32mC:\\ProgramData\\Anaconda3\\envs\\ds_study\\lib\\site-packages\\selenium\\webdriver\\remote\\errorhandler.py\u001b[0m in \u001b[0;36mcheck_response\u001b[1;34m(self, response)\u001b[0m\n\u001b[0;32m    240\u001b[0m                 \u001b[0malert_text\u001b[0m \u001b[1;33m=\u001b[0m \u001b[0mvalue\u001b[0m\u001b[1;33m[\u001b[0m\u001b[1;34m'alert'\u001b[0m\u001b[1;33m]\u001b[0m\u001b[1;33m.\u001b[0m\u001b[0mget\u001b[0m\u001b[1;33m(\u001b[0m\u001b[1;34m'text'\u001b[0m\u001b[1;33m)\u001b[0m\u001b[1;33m\u001b[0m\u001b[1;33m\u001b[0m\u001b[0m\n\u001b[0;32m    241\u001b[0m             \u001b[1;32mraise\u001b[0m \u001b[0mexception_class\u001b[0m\u001b[1;33m(\u001b[0m\u001b[0mmessage\u001b[0m\u001b[1;33m,\u001b[0m \u001b[0mscreen\u001b[0m\u001b[1;33m,\u001b[0m \u001b[0mstacktrace\u001b[0m\u001b[1;33m,\u001b[0m \u001b[0malert_text\u001b[0m\u001b[1;33m)\u001b[0m\u001b[1;33m\u001b[0m\u001b[1;33m\u001b[0m\u001b[0m\n\u001b[1;32m--> 242\u001b[1;33m         \u001b[1;32mraise\u001b[0m \u001b[0mexception_class\u001b[0m\u001b[1;33m(\u001b[0m\u001b[0mmessage\u001b[0m\u001b[1;33m,\u001b[0m \u001b[0mscreen\u001b[0m\u001b[1;33m,\u001b[0m \u001b[0mstacktrace\u001b[0m\u001b[1;33m)\u001b[0m\u001b[1;33m\u001b[0m\u001b[1;33m\u001b[0m\u001b[0m\n\u001b[0m\u001b[0;32m    243\u001b[0m \u001b[1;33m\u001b[0m\u001b[0m\n\u001b[0;32m    244\u001b[0m     \u001b[1;32mdef\u001b[0m \u001b[0m_value_or_default\u001b[0m\u001b[1;33m(\u001b[0m\u001b[0mself\u001b[0m\u001b[1;33m,\u001b[0m \u001b[0mobj\u001b[0m\u001b[1;33m,\u001b[0m \u001b[0mkey\u001b[0m\u001b[1;33m,\u001b[0m \u001b[0mdefault\u001b[0m\u001b[1;33m)\u001b[0m\u001b[1;33m:\u001b[0m\u001b[1;33m\u001b[0m\u001b[1;33m\u001b[0m\u001b[0m\n",
      "\u001b[1;31mElementNotInteractableException\u001b[0m: Message: element not interactable\n  (Session info: chrome=94.0.4606.81)\n"
     ]
    }
   ],
   "source": [
    "# 인기 - 후드 집업 => click() 매서드 적용 시 제대로 반영되지 않는 것을 확인 가능\n",
    "driver.find_element_by_css_selector(\"#ui-id-2 > ul:nth-child(1) > li:nth-child(1) > a\").click()"
   ]
  },
  {
   "cell_type": "code",
   "execution_count": 24,
   "id": "9c66ffc5",
   "metadata": {},
   "outputs": [
    {
     "data": {
      "text/plain": [
       "'https://search.musinsa.com/category/002022'"
      ]
     },
     "execution_count": 24,
     "metadata": {},
     "output_type": "execute_result"
    }
   ],
   "source": [
    "# 인기 - 후드 집업 => 해당 태그의 속성으로 되어있는 url값을 가져와서 해당 페이지로 이동할 필요가 있음\n",
    "best_link = driver.find_element_by_css_selector(\"#ui-id-2 > ul:nth-child(1) > li:nth-child(1) > a\").get_attribute(\"href\")\n",
    "best_link"
   ]
  },
  {
   "cell_type": "code",
   "execution_count": 52,
   "id": "96eabcd5",
   "metadata": {},
   "outputs": [],
   "source": [
    "# 인기 - 후드 집업 링크 => 새 탭으로 열기 \n",
    "driver.execute_script(\"window.open('{}')\".format(best_link))  # 새로운 탭으로 해당 페이지 열림"
   ]
  },
  {
   "cell_type": "code",
   "execution_count": 53,
   "id": "11474bc7",
   "metadata": {},
   "outputs": [
    {
     "name": "stderr",
     "output_type": "stream",
     "text": [
      "C:\\Users\\HJ\\AppData\\Local\\Temp/ipykernel_37480/752810930.py:3: DeprecationWarning: use driver.switch_to.window instead\n",
      "  driver.switch_to_window(driver.window_handles[1])  # 방금 전 새로운 탭으로 연 페이지 창으로 이동\n"
     ]
    }
   ],
   "source": [
    "# 후드 집업 탭으로 이동\n",
    "#driver.switch_to_window(driver.window_handles[0])  # 처음 열었던 페이지 창으로 이동\n",
    "driver.switch_to_window(driver.window_handles[1])  # 방금 전 새로운 탭으로 연 페이지 창으로 이동"
   ]
  },
  {
   "cell_type": "code",
   "execution_count": 54,
   "id": "f20963c8",
   "metadata": {},
   "outputs": [],
   "source": [
    "# 단독 상품 버튼 클릭\n",
    "# driver.find_element_by_css_selector(\"#btn_exclusive\").click()\n",
    "\n",
    "# => 클릭 시, 웹페이지가 새로 생성되므로 wait 적용할 필요 있음\n",
    "\n",
    "WebDriverWait(driver, 5).\\\n",
    "until(EC.presence_of_element_located((By.CSS_SELECTOR, \"#btn_exclusive\"))).click()\n",
    "\n",
    "# 세일 상품 버튼 클릭\n",
    "WebDriverWait(driver, 5).\\\n",
    "until(EC.presence_of_element_located((By.CSS_SELECTOR, \"#btn_sale\"))).click()"
   ]
  },
  {
   "cell_type": "code",
   "execution_count": 55,
   "id": "5fa65d0a",
   "metadata": {},
   "outputs": [],
   "source": [
    "# 최소 ~ 최대 금액 설정  \n",
    "WebDriverWait(driver, 5).\\\n",
    "until(EC.presence_of_element_located((By.CSS_SELECTOR, \"#minPrice\"))).send_keys(\"10000\")\n",
    "WebDriverWait(driver, 5).\\\n",
    "until(EC.presence_of_element_located((By.CSS_SELECTOR, \"#maxPrice\"))).send_keys(\"100000\")\n",
    "WebDriverWait(driver, 5).\\\n",
    "until(EC.presence_of_element_located((By.CSS_SELECTOR, \"#btn_price_search\"))).click()"
   ]
  },
  {
   "cell_type": "code",
   "execution_count": 56,
   "id": "82b3754b",
   "metadata": {},
   "outputs": [
    {
     "data": {
      "text/plain": [
       "90"
      ]
     },
     "execution_count": 56,
     "metadata": {},
     "output_type": "execute_result"
    }
   ],
   "source": [
    "# 부모 태그 \n",
    "\n",
    "outers = driver.find_elements_by_css_selector(\"#searchList > li\")\n",
    "len(outers)"
   ]
  },
  {
   "cell_type": "code",
   "execution_count": 36,
   "id": "4cf40009",
   "metadata": {},
   "outputs": [
    {
     "data": {
      "text/plain": [
       "'2WAY 스웻 후드 집업 (MELANGE GREY)'"
      ]
     },
     "execution_count": 36,
     "metadata": {},
     "output_type": "execute_result"
    }
   ],
   "source": [
    "# 자식 태그 \n",
    "# 옷 이름\n",
    "outers[0].find_element_by_css_selector(\"p.list_info > a\").get_attribute(\"title\")"
   ]
  },
  {
   "cell_type": "code",
   "execution_count": 39,
   "id": "fa2dda7a",
   "metadata": {},
   "outputs": [
    {
     "data": {
      "text/plain": [
       "'39,000'"
      ]
     },
     "execution_count": 39,
     "metadata": {},
     "output_type": "execute_result"
    }
   ],
   "source": [
    "# 옷 가격 \n",
    "outers[0].find_element_by_css_selector(\"p.price\").text.split(\" \")[1][:-1]  # \"원\" 제외"
   ]
  },
  {
   "cell_type": "code",
   "execution_count": 40,
   "id": "456c76d5",
   "metadata": {},
   "outputs": [
    {
     "data": {
      "text/plain": [
       "'13'"
      ]
     },
     "execution_count": 40,
     "metadata": {},
     "output_type": "execute_result"
    }
   ],
   "source": [
    "# 할인율\n",
    "outers[0].find_element_by_css_selector(\".icon_new\").text.split(\" \")[1][:-1]"
   ]
  },
  {
   "cell_type": "code",
   "execution_count": 41,
   "id": "eaf7f597",
   "metadata": {},
   "outputs": [
    {
     "data": {
      "text/plain": [
       "'https://store.musinsa.com/app/goods/1551955'"
      ]
     },
     "execution_count": 41,
     "metadata": {},
     "output_type": "execute_result"
    }
   ],
   "source": [
    "# 세부 링크 \n",
    "outers[0].find_element_by_css_selector(\"p.list_info > a\").get_attribute(\"href\")"
   ]
  },
  {
   "cell_type": "code",
   "execution_count": 42,
   "id": "e5503b3e",
   "metadata": {},
   "outputs": [
    {
     "name": "stdout",
     "output_type": "stream",
     "text": [
      "https://image.msscdn.net/images/goods_img/20210204/1778404/1778404_1_125.jpg\n"
     ]
    }
   ],
   "source": [
    "# 이미지 => 이미지는 별도의 파일로 따로 저장 예정\n",
    "# try ~ except로 혹시 아래 두 가지 방법의 결과가 차이가 있는지 테스트함 => 차이 없음\n",
    "\n",
    "try: \n",
    "    print(outers[0].find_element_by_css_selector(\"img\").get_attribute(\"src\"))\n",
    "except:\n",
    "    print(outers[0].find_element_by_css_selector(\"img\").get_attribute(\"data-original\"))"
   ]
  },
  {
   "cell_type": "code",
   "execution_count": 43,
   "id": "8c2dbfb0",
   "metadata": {},
   "outputs": [
    {
     "data": {
      "text/plain": [
       "'https://image.msscdn.net/images/no_image_125.png'"
      ]
     },
     "execution_count": 43,
     "metadata": {},
     "output_type": "execute_result"
    }
   ],
   "source": [
    "outers[10].find_element_by_css_selector(\"img\").get_attribute(\"src\")"
   ]
  },
  {
   "cell_type": "code",
   "execution_count": 44,
   "id": "d2f38889",
   "metadata": {},
   "outputs": [
    {
     "data": {
      "text/plain": [
       "'https://image.msscdn.net/images/goods_img/20200818/1551961/1551961_2_125.jpg'"
      ]
     },
     "execution_count": 44,
     "metadata": {},
     "output_type": "execute_result"
    }
   ],
   "source": [
    "outers[13].find_element_by_css_selector(\"img\").get_attribute(\"data-original\")"
   ]
  },
  {
   "cell_type": "code",
   "execution_count": 45,
   "id": "282704e4",
   "metadata": {},
   "outputs": [],
   "source": [
    "# 이미지를 저장할 디렉토리 생성\n",
    "!mkdir musinsa"
   ]
  },
  {
   "cell_type": "code",
   "execution_count": 47,
   "id": "98f18077",
   "metadata": {},
   "outputs": [
    {
     "data": {
      "text/plain": [
       "b'\\xff\\xd8\\xff\\xe0\\x00'"
      ]
     },
     "execution_count": 47,
     "metadata": {},
     "output_type": "execute_result"
    }
   ],
   "source": [
    "import requests\n",
    "\n",
    "res = requests.get(outers[0].find_element_by_css_selector(\"img\").get_attribute(\"src\"))\n",
    "res.content[:5]"
   ]
  },
  {
   "cell_type": "code",
   "execution_count": 48,
   "id": "280a092e",
   "metadata": {},
   "outputs": [],
   "source": [
    "# 해당 이미지를 파일로 저장하기\n",
    "\n",
    "with open(\"./musinsa/outer.png\", \"wb\") as f:\n",
    "    f.write(res.content)"
   ]
  },
  {
   "cell_type": "code",
   "execution_count": 49,
   "id": "78d1d58c",
   "metadata": {},
   "outputs": [],
   "source": [
    "# driver.quit()"
   ]
  },
  {
   "cell_type": "code",
   "execution_count": null,
   "id": "b3148c96",
   "metadata": {},
   "outputs": [],
   "source": []
  },
  {
   "cell_type": "code",
   "execution_count": 57,
   "id": "ff65f345",
   "metadata": {},
   "outputs": [
    {
     "name": "stderr",
     "output_type": "stream",
     "text": [
      "C:\\Users\\HJ\\AppData\\Local\\Temp/ipykernel_37480/2580944064.py:7: TqdmDeprecationWarning: This function will be removed in tqdm==5.0.0\n",
      "Please use `tqdm.notebook.tqdm` instead of `tqdm.tqdm_notebook`\n",
      "  for outer in tqdm_notebook(outers[:3]):\n"
     ]
    },
    {
     "data": {
      "application/vnd.jupyter.widget-view+json": {
       "model_id": "42cd8398a2364b239580aef0a8b46deb",
       "version_major": 2,
       "version_minor": 0
      },
      "text/plain": [
       "  0%|          | 0/3 [00:00<?, ?it/s]"
      ]
     },
     "metadata": {},
     "output_type": "display_data"
    },
    {
     "data": {
      "text/html": [
       "<div>\n",
       "<style scoped>\n",
       "    .dataframe tbody tr th:only-of-type {\n",
       "        vertical-align: middle;\n",
       "    }\n",
       "\n",
       "    .dataframe tbody tr th {\n",
       "        vertical-align: top;\n",
       "    }\n",
       "\n",
       "    .dataframe thead th {\n",
       "        text-align: right;\n",
       "    }\n",
       "</style>\n",
       "<table border=\"1\" class=\"dataframe\">\n",
       "  <thead>\n",
       "    <tr style=\"text-align: right;\">\n",
       "      <th></th>\n",
       "      <th>title</th>\n",
       "      <th>price</th>\n",
       "      <th>sale</th>\n",
       "      <th>link</th>\n",
       "      <th>img</th>\n",
       "    </tr>\n",
       "  </thead>\n",
       "  <tbody>\n",
       "    <tr>\n",
       "      <th>0</th>\n",
       "      <td>2WAY 스웻 후드 집업 (MELANGE GREY)</td>\n",
       "      <td>39,000</td>\n",
       "      <td>13</td>\n",
       "      <td>https://store.musinsa.com/app/goods/1778404</td>\n",
       "      <td>https://image.msscdn.net/images/goods_img/2021...</td>\n",
       "    </tr>\n",
       "    <tr>\n",
       "      <th>1</th>\n",
       "      <td>스탠다드 후드 스웨트 집업 - 멜란지 그레이</td>\n",
       "      <td>35,890</td>\n",
       "      <td>10</td>\n",
       "      <td>https://store.musinsa.com/app/goods/640839</td>\n",
       "      <td>https://image.msscdn.net/images/goods_img/2017...</td>\n",
       "    </tr>\n",
       "    <tr>\n",
       "      <th>2</th>\n",
       "      <td>코드 후드 집업 자켓 스모크 그레이</td>\n",
       "      <td>49,900</td>\n",
       "      <td>20</td>\n",
       "      <td>https://store.musinsa.com/app/goods/1280576</td>\n",
       "      <td>https://image.msscdn.net/images/goods_img/2020...</td>\n",
       "    </tr>\n",
       "  </tbody>\n",
       "</table>\n",
       "</div>"
      ],
      "text/plain": [
       "                          title   price sale  \\\n",
       "0  2WAY 스웻 후드 집업 (MELANGE GREY)  39,000   13   \n",
       "1      스탠다드 후드 스웨트 집업 - 멜란지 그레이  35,890   10   \n",
       "2           코드 후드 집업 자켓 스모크 그레이  49,900   20   \n",
       "\n",
       "                                          link  \\\n",
       "0  https://store.musinsa.com/app/goods/1778404   \n",
       "1   https://store.musinsa.com/app/goods/640839   \n",
       "2  https://store.musinsa.com/app/goods/1280576   \n",
       "\n",
       "                                                 img  \n",
       "0  https://image.msscdn.net/images/goods_img/2021...  \n",
       "1  https://image.msscdn.net/images/goods_img/2017...  \n",
       "2  https://image.msscdn.net/images/goods_img/2020...  "
      ]
     },
     "execution_count": 57,
     "metadata": {},
     "output_type": "execute_result"
    }
   ],
   "source": [
    "# 전체 데이터 크롤링 \n",
    "\n",
    "from tqdm import tqdm_notebook\n",
    "\n",
    "datas = [] \n",
    "\n",
    "for outer in tqdm_notebook(outers[:3]):\n",
    "    title = outer.find_element_by_css_selector(\"p.list_info > a\").get_attribute(\"title\")\n",
    "    price = outer.find_element_by_css_selector(\"p.price\").text.split(\" \")[1][:-1]\n",
    "    sale = outer.find_element_by_css_selector(\".icon_new\").text.split(\" \")[1][:-1]\n",
    "    link = outer.find_element_by_css_selector(\"p.list_info > a\").get_attribute(\"href\")\n",
    "    img = outer.find_element_by_css_selector(\"img\").get_attribute(\"src\")\n",
    "    datas.append({\n",
    "        \"title\": title, \n",
    "        \"price\": price, \n",
    "        \"sale\": sale, \n",
    "        \"link\": link,\n",
    "        \"img\": img\n",
    "    })\n",
    "driver.quit()\n",
    "df = pd.DataFrame(datas)\n",
    "df"
   ]
  },
  {
   "cell_type": "code",
   "execution_count": 58,
   "id": "a668abcc",
   "metadata": {},
   "outputs": [
    {
     "name": "stderr",
     "output_type": "stream",
     "text": [
      "C:\\Users\\HJ\\AppData\\Local\\Temp/ipykernel_37480/2255818728.py:3: TqdmDeprecationWarning: This function will be removed in tqdm==5.0.0\n",
      "Please use `tqdm.notebook.tqdm` instead of `tqdm.tqdm_notebook`\n",
      "  for idx, rows in tqdm_notebook(df.iterrows()):\n"
     ]
    },
    {
     "data": {
      "application/vnd.jupyter.widget-view+json": {
       "model_id": "4a26ad0382574559934b791c4b93ae1e",
       "version_major": 2,
       "version_minor": 0
      },
      "text/plain": [
       "0it [00:00, ?it/s]"
      ]
     },
     "metadata": {},
     "output_type": "display_data"
    }
   ],
   "source": [
    "# 이미지 다운로드 \n",
    "\n",
    "for idx, rows in tqdm_notebook(df.iterrows()):\n",
    "    thumb_link = rows[\"img\"]\n",
    "    response = requests.get(thumb_link)\n",
    "    name = str(idx) + \"_\" + rows[\"title\"]\n",
    "    with open(\"./musinsa/{}.png\".format(name), \"wb\") as f: \n",
    "        f.write(response.content)"
   ]
  },
  {
   "cell_type": "markdown",
   "id": "09430c95",
   "metadata": {},
   "source": [
    "#### 주피터노트북에서 .py파일 생성하기"
   ]
  },
  {
   "cell_type": "code",
   "execution_count": 59,
   "id": "68173903",
   "metadata": {},
   "outputs": [
    {
     "name": "stdout",
     "output_type": "stream",
     "text": [
      "Writing ./musinsa.py\n"
     ]
    }
   ],
   "source": [
    "%%writefile ./musinsa.py  # 항상 코드 최상단에 있어야 함\n",
    "\n",
    "print(\"hi\")"
   ]
  },
  {
   "cell_type": "code",
   "execution_count": 60,
   "id": "8924db95",
   "metadata": {},
   "outputs": [
    {
     "name": "stdout",
     "output_type": "stream",
     "text": [
      "hi\n"
     ]
    },
    {
     "data": {
      "text/plain": [
       "<module 'musinsa' from \"C:\\\\HJ's Notebook\\\\Software\\\\[제로베이스] 네카라쿠배 온라인 데이터사이언스\\\\ds_study\\\\source_code\\\\musinsa.py\">"
      ]
     },
     "execution_count": 60,
     "metadata": {},
     "output_type": "execute_result"
    }
   ],
   "source": [
    "import musinsa\n",
    "\n",
    "musinsa"
   ]
  },
  {
   "cell_type": "code",
   "execution_count": 68,
   "id": "590ca27b",
   "metadata": {},
   "outputs": [
    {
     "name": "stdout",
     "output_type": "stream",
     "text": [
      "Overwriting ./musinsa.py\n"
     ]
    }
   ],
   "source": [
    "%%writefile ./musinsa.py\n",
    "\n",
    "import pandas as pd \n",
    "import time \n",
    "import requests\n",
    "from selenium import webdriver\n",
    "# explicitly wait\n",
    "from selenium.webdriver.common.by import By\n",
    "from selenium.webdriver.support.ui import WebDriverWait\n",
    "from selenium.webdriver.support import expected_conditions as EC\n",
    "\n",
    "print(\"#1. selenium get url\")\n",
    "options = webdriver.ChromeOptions()\n",
    "options.add_argument(\"headless\")\n",
    "url = \"https://store.musinsa.com/app/\"\n",
    "driver = webdriver.Chrome(\"../driver/chromedriver.exe\", options=options)\n",
    "\n",
    "# 웹 페이지 전체가 로딩 될 때까지 10초간 대기하고, \n",
    "# 10초안에 로딩이 완료되면 다음 코드를 실행\n",
    "driver.implicitly_wait(10) # 한 번만 적용하면 이후 코드에 모두 적용됨\n",
    "driver.get(url)\n",
    "\n",
    "print(\"#2. maximize window\")\n",
    "# 화면 최대화\n",
    "driver.maximize_window()\n",
    "\n",
    "print(\"#3. best item\")\n",
    "# 인기 - 후드 집업 => 해당 태그의 속성으로 되어있는 url값을 가져와서 해당 페이지로 이동할 필요가 있음\n",
    "best_link = driver.find_element_by_css_selector(\"#ui-id-2 > ul:nth-child(1) > li:nth-child(1) > a\").get_attribute(\"href\")\n",
    "\n",
    "# 인기 - 후드 집업 링크 => 새 탭으로 열기 \n",
    "driver.execute_script(\"window.open('{}')\".format(best_link))  # 새로운 탭으로 해당 페이지 열림\n",
    "\n",
    "# 후드 집업 탭으로 이동\n",
    "driver.switch_to_window(driver.window_handles[1])\n",
    "\n",
    "print(\"#4. tab open ok! I'm waiting..\")\n",
    "time.sleep(3)\n",
    "\n",
    "print(\"#5. item option check\")\n",
    "# 단독 상품 버튼 클릭\n",
    "WebDriverWait(driver, 5).\\\n",
    "until(EC.presence_of_element_located((By.CSS_SELECTOR, \"#btn_exclusive\"))).click()\n",
    "\n",
    "# 세일 상품 버튼 클릭\n",
    "WebDriverWait(driver, 5).\\\n",
    "until(EC.presence_of_element_located((By.CSS_SELECTOR, \"#btn_sale\"))).click()\n",
    "\n",
    "# 최소 ~ 최대 금액 설정  \n",
    "WebDriverWait(driver, 5).\\\n",
    "until(EC.presence_of_element_located((By.CSS_SELECTOR, \"#minPrice\"))).send_keys(\"10000\")\n",
    "WebDriverWait(driver, 5).\\\n",
    "until(EC.presence_of_element_located((By.CSS_SELECTOR, \"#maxPrice\"))).send_keys(\"100000\")\n",
    "WebDriverWait(driver, 5).\\\n",
    "until(EC.presence_of_element_located((By.CSS_SELECTOR, \"#btn_price_search\"))).click()\n",
    "\n",
    "print(\"#6. item option check done! I'm waiting\")\n",
    "time.sleep(3)\n",
    "\n",
    "print(\"#7. outers crawling start\")\n",
    "# 부모 태그 \n",
    "outers = driver.find_elements_by_css_selector(\"#searchList > li\")\n",
    "\n",
    "# 전체 데이터 크롤링 \n",
    "datas = [] \n",
    "\n",
    "for idx, outer in enumerate(outers[:10]):\n",
    "    title = outer.find_element_by_css_selector(\"p.list_info > a\").get_attribute(\"title\")\n",
    "    price = outer.find_element_by_css_selector(\"p.price\").text.split(\" \")[1][:-1]\n",
    "    sale = outer.find_element_by_css_selector(\".icon_new\").text.split(\" \")[1][:-1]\n",
    "    link = outer.find_element_by_css_selector(\"p.list_info > a\").get_attribute(\"href\")\n",
    "    img = outer.find_element_by_css_selector(\"img\").get_attribute(\"data-original\")\n",
    "    datas.append({\n",
    "        \"title\": title, \n",
    "        \"price\": price, \n",
    "        \"sale\": sale, \n",
    "        \"link\": link,\n",
    "        \"img\": img\n",
    "    })\n",
    "    print(\"#8. idx: {}, title: {}\".format(idx, title))\n",
    "driver.quit()\n",
    "df = pd.DataFrame(datas)\n",
    "df.to_excel(\"./musinsa/musinsa.xlsx\", encoding=\"utf-8\")\n",
    "print(\"#9. crawling Done! driver quit & excel save\")\n",
    "\n",
    "print(\"#10. img download\")\n",
    "# 이미지 다운로드 \n",
    "for idx, rows in df.iterrows():\n",
    "    thumb_link = rows[\"img\"]\n",
    "    response = requests.get(thumb_link)\n",
    "    name = str(idx) + \"_\" + rows[\"title\"]\n",
    "    with open(\"./musinsa/{}.png\".format(name), \"wb\") as f: \n",
    "        f.write(response.content)\n",
    "\n",
    "print(\"#11. img download done!\")\n",
    "print(\"#12. Good Job!\")"
   ]
  },
  {
   "cell_type": "markdown",
   "id": "adc5f48a",
   "metadata": {},
   "source": [
    "> 위 코드를 실행하면, 위 코드내용을 입력된 musinsa.py파일이 생성된 것을 확인 가능"
   ]
  },
  {
   "cell_type": "code",
   "execution_count": 69,
   "id": "22c1d7be",
   "metadata": {},
   "outputs": [
    {
     "name": "stdout",
     "output_type": "stream",
     "text": [
      "#1. selenium get url\n",
      "#2. maximize window\n",
      "#3. best item\n",
      "#4. tab open ok! I'm waiting..\n",
      "#5. item option check\n",
      "#6. item option check done! I'm waiting\n",
      "#7. outers crawling start\n",
      "#8. idx: 0, title: 2WAY 스웻 후드 집업 (MELANGE GREY)\n",
      "#8. idx: 1, title: 스탠다드 후드 스웨트 집업 - 멜란지 그레이\n",
      "#8. idx: 2, title: 코드 후드 집업 자켓 스모크 그레이\n",
      "#8. idx: 3, title: 2WAY 스웻 후드 집업 (BLACK)\n",
      "#8. idx: 4, title: 엔젤 와펜 집업 후드 그레이\n",
      "#8. idx: 5, title: 엔젤 와펜 집업 후드 블랙\n",
      "#8. idx: 6, title: 트위치 로고 스탠다드 후드 집업 그레이\n",
      "#8. idx: 7, title: 2WAY 스웻 후드 집업 (CHARCOAL)\n",
      "#8. idx: 8, title: 트위치 로고 스탠다드 후드 집업 블랙\n",
      "#8. idx: 9, title: 스몰 어센틱 로고 후디 집업 그레이\n",
      "#9. crawling Done! driver quit & excel save\n",
      "#10. img download\n",
      "#11. img download done!\n",
      "#12. Good Job!\n"
     ]
    },
    {
     "name": "stderr",
     "output_type": "stream",
     "text": [
      "musinsa.py:34: DeprecationWarning: use driver.switch_to.window instead\n",
      "  driver.switch_to_window(driver.window_handles[1])\n"
     ]
    }
   ],
   "source": [
    "!python musinsa.py"
   ]
  },
  {
   "cell_type": "code",
   "execution_count": null,
   "id": "85b1a325",
   "metadata": {},
   "outputs": [],
   "source": []
  }
 ],
 "metadata": {
  "kernelspec": {
   "display_name": "Python 3 (ipykernel)",
   "language": "python",
   "name": "python3"
  },
  "language_info": {
   "codemirror_mode": {
    "name": "ipython",
    "version": 3
   },
   "file_extension": ".py",
   "mimetype": "text/x-python",
   "name": "python",
   "nbconvert_exporter": "python",
   "pygments_lexer": "ipython3",
   "version": "3.8.11"
  }
 },
 "nbformat": 4,
 "nbformat_minor": 5
}
