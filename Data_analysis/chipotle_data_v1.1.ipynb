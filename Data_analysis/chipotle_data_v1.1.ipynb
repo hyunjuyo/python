{
 "cells": [
  {
   "cell_type": "code",
   "execution_count": 41,
   "id": "4c6b6968",
   "metadata": {},
   "outputs": [],
   "source": [
    "import pandas as pd\n",
    "import numpy as np\n",
    "import matplotlib.pyplot as plt"
   ]
  },
  {
   "cell_type": "code",
   "execution_count": 42,
   "id": "4e5c2123",
   "metadata": {},
   "outputs": [],
   "source": [
    "# 탭으로 구분된 파일 불러오기\n",
    "chipo = pd.read_csv(\"./data/chipotle.tsv\", sep='\\t')"
   ]
  },
  {
   "cell_type": "code",
   "execution_count": 43,
   "id": "29fdd84b",
   "metadata": {},
   "outputs": [
    {
     "data": {
      "text/plain": [
       "(4622, 5)"
      ]
     },
     "execution_count": 43,
     "metadata": {},
     "output_type": "execute_result"
    }
   ],
   "source": [
    "chipo.shape"
   ]
  },
  {
   "cell_type": "code",
   "execution_count": 44,
   "id": "2a8436cd",
   "metadata": {},
   "outputs": [
    {
     "name": "stdout",
     "output_type": "stream",
     "text": [
      "<class 'pandas.core.frame.DataFrame'>\n",
      "RangeIndex: 4622 entries, 0 to 4621\n",
      "Data columns (total 5 columns):\n",
      " #   Column              Non-Null Count  Dtype \n",
      "---  ------              --------------  ----- \n",
      " 0   order_id            4622 non-null   int64 \n",
      " 1   quantity            4622 non-null   int64 \n",
      " 2   item_name           4622 non-null   object\n",
      " 3   choice_description  3376 non-null   object\n",
      " 4   item_price          4622 non-null   object\n",
      "dtypes: int64(2), object(3)\n",
      "memory usage: 180.7+ KB\n"
     ]
    }
   ],
   "source": [
    "chipo.info()"
   ]
  },
  {
   "cell_type": "code",
   "execution_count": 45,
   "id": "75b6a5db",
   "metadata": {},
   "outputs": [
    {
     "data": {
      "text/html": [
       "<div>\n",
       "<style scoped>\n",
       "    .dataframe tbody tr th:only-of-type {\n",
       "        vertical-align: middle;\n",
       "    }\n",
       "\n",
       "    .dataframe tbody tr th {\n",
       "        vertical-align: top;\n",
       "    }\n",
       "\n",
       "    .dataframe thead th {\n",
       "        text-align: right;\n",
       "    }\n",
       "</style>\n",
       "<table border=\"1\" class=\"dataframe\">\n",
       "  <thead>\n",
       "    <tr style=\"text-align: right;\">\n",
       "      <th></th>\n",
       "      <th>order_id</th>\n",
       "      <th>quantity</th>\n",
       "      <th>item_name</th>\n",
       "      <th>choice_description</th>\n",
       "      <th>item_price</th>\n",
       "    </tr>\n",
       "  </thead>\n",
       "  <tbody>\n",
       "    <tr>\n",
       "      <th>0</th>\n",
       "      <td>1</td>\n",
       "      <td>1</td>\n",
       "      <td>Chips and Fresh Tomato Salsa</td>\n",
       "      <td>NaN</td>\n",
       "      <td>$2.39</td>\n",
       "    </tr>\n",
       "    <tr>\n",
       "      <th>1</th>\n",
       "      <td>1</td>\n",
       "      <td>1</td>\n",
       "      <td>Izze</td>\n",
       "      <td>[Clementine]</td>\n",
       "      <td>$3.39</td>\n",
       "    </tr>\n",
       "    <tr>\n",
       "      <th>2</th>\n",
       "      <td>1</td>\n",
       "      <td>1</td>\n",
       "      <td>Nantucket Nectar</td>\n",
       "      <td>[Apple]</td>\n",
       "      <td>$3.39</td>\n",
       "    </tr>\n",
       "    <tr>\n",
       "      <th>3</th>\n",
       "      <td>1</td>\n",
       "      <td>1</td>\n",
       "      <td>Chips and Tomatillo-Green Chili Salsa</td>\n",
       "      <td>NaN</td>\n",
       "      <td>$2.39</td>\n",
       "    </tr>\n",
       "    <tr>\n",
       "      <th>4</th>\n",
       "      <td>2</td>\n",
       "      <td>2</td>\n",
       "      <td>Chicken Bowl</td>\n",
       "      <td>[Tomatillo-Red Chili Salsa (Hot), [Black Beans...</td>\n",
       "      <td>$16.98</td>\n",
       "    </tr>\n",
       "    <tr>\n",
       "      <th>5</th>\n",
       "      <td>3</td>\n",
       "      <td>1</td>\n",
       "      <td>Chicken Bowl</td>\n",
       "      <td>[Fresh Tomato Salsa (Mild), [Rice, Cheese, Sou...</td>\n",
       "      <td>$10.98</td>\n",
       "    </tr>\n",
       "    <tr>\n",
       "      <th>6</th>\n",
       "      <td>3</td>\n",
       "      <td>1</td>\n",
       "      <td>Side of Chips</td>\n",
       "      <td>NaN</td>\n",
       "      <td>$1.69</td>\n",
       "    </tr>\n",
       "    <tr>\n",
       "      <th>7</th>\n",
       "      <td>4</td>\n",
       "      <td>1</td>\n",
       "      <td>Steak Burrito</td>\n",
       "      <td>[Tomatillo Red Chili Salsa, [Fajita Vegetables...</td>\n",
       "      <td>$11.75</td>\n",
       "    </tr>\n",
       "    <tr>\n",
       "      <th>8</th>\n",
       "      <td>4</td>\n",
       "      <td>1</td>\n",
       "      <td>Steak Soft Tacos</td>\n",
       "      <td>[Tomatillo Green Chili Salsa, [Pinto Beans, Ch...</td>\n",
       "      <td>$9.25</td>\n",
       "    </tr>\n",
       "    <tr>\n",
       "      <th>9</th>\n",
       "      <td>5</td>\n",
       "      <td>1</td>\n",
       "      <td>Steak Burrito</td>\n",
       "      <td>[Fresh Tomato Salsa, [Rice, Black Beans, Pinto...</td>\n",
       "      <td>$9.25</td>\n",
       "    </tr>\n",
       "  </tbody>\n",
       "</table>\n",
       "</div>"
      ],
      "text/plain": [
       "   order_id  quantity                              item_name  \\\n",
       "0         1         1           Chips and Fresh Tomato Salsa   \n",
       "1         1         1                                   Izze   \n",
       "2         1         1                       Nantucket Nectar   \n",
       "3         1         1  Chips and Tomatillo-Green Chili Salsa   \n",
       "4         2         2                           Chicken Bowl   \n",
       "5         3         1                           Chicken Bowl   \n",
       "6         3         1                          Side of Chips   \n",
       "7         4         1                          Steak Burrito   \n",
       "8         4         1                       Steak Soft Tacos   \n",
       "9         5         1                          Steak Burrito   \n",
       "\n",
       "                                  choice_description item_price  \n",
       "0                                                NaN     $2.39   \n",
       "1                                       [Clementine]     $3.39   \n",
       "2                                            [Apple]     $3.39   \n",
       "3                                                NaN     $2.39   \n",
       "4  [Tomatillo-Red Chili Salsa (Hot), [Black Beans...    $16.98   \n",
       "5  [Fresh Tomato Salsa (Mild), [Rice, Cheese, Sou...    $10.98   \n",
       "6                                                NaN     $1.69   \n",
       "7  [Tomatillo Red Chili Salsa, [Fajita Vegetables...    $11.75   \n",
       "8  [Tomatillo Green Chili Salsa, [Pinto Beans, Ch...     $9.25   \n",
       "9  [Fresh Tomato Salsa, [Rice, Black Beans, Pinto...     $9.25   "
      ]
     },
     "execution_count": 45,
     "metadata": {},
     "output_type": "execute_result"
    }
   ],
   "source": [
    "chipo.head(10)"
   ]
  },
  {
   "cell_type": "code",
   "execution_count": 46,
   "id": "1137bf67",
   "metadata": {},
   "outputs": [
    {
     "data": {
      "text/html": [
       "<div>\n",
       "<style scoped>\n",
       "    .dataframe tbody tr th:only-of-type {\n",
       "        vertical-align: middle;\n",
       "    }\n",
       "\n",
       "    .dataframe tbody tr th {\n",
       "        vertical-align: top;\n",
       "    }\n",
       "\n",
       "    .dataframe thead th {\n",
       "        text-align: right;\n",
       "    }\n",
       "</style>\n",
       "<table border=\"1\" class=\"dataframe\">\n",
       "  <thead>\n",
       "    <tr style=\"text-align: right;\">\n",
       "      <th></th>\n",
       "      <th>order_id</th>\n",
       "      <th>quantity</th>\n",
       "    </tr>\n",
       "  </thead>\n",
       "  <tbody>\n",
       "    <tr>\n",
       "      <th>count</th>\n",
       "      <td>4622.000000</td>\n",
       "      <td>4622.000000</td>\n",
       "    </tr>\n",
       "    <tr>\n",
       "      <th>mean</th>\n",
       "      <td>927.254868</td>\n",
       "      <td>1.075725</td>\n",
       "    </tr>\n",
       "    <tr>\n",
       "      <th>std</th>\n",
       "      <td>528.890796</td>\n",
       "      <td>0.410186</td>\n",
       "    </tr>\n",
       "    <tr>\n",
       "      <th>min</th>\n",
       "      <td>1.000000</td>\n",
       "      <td>1.000000</td>\n",
       "    </tr>\n",
       "    <tr>\n",
       "      <th>25%</th>\n",
       "      <td>477.250000</td>\n",
       "      <td>1.000000</td>\n",
       "    </tr>\n",
       "    <tr>\n",
       "      <th>50%</th>\n",
       "      <td>926.000000</td>\n",
       "      <td>1.000000</td>\n",
       "    </tr>\n",
       "    <tr>\n",
       "      <th>75%</th>\n",
       "      <td>1393.000000</td>\n",
       "      <td>1.000000</td>\n",
       "    </tr>\n",
       "    <tr>\n",
       "      <th>max</th>\n",
       "      <td>1834.000000</td>\n",
       "      <td>15.000000</td>\n",
       "    </tr>\n",
       "  </tbody>\n",
       "</table>\n",
       "</div>"
      ],
      "text/plain": [
       "          order_id     quantity\n",
       "count  4622.000000  4622.000000\n",
       "mean    927.254868     1.075725\n",
       "std     528.890796     0.410186\n",
       "min       1.000000     1.000000\n",
       "25%     477.250000     1.000000\n",
       "50%     926.000000     1.000000\n",
       "75%    1393.000000     1.000000\n",
       "max    1834.000000    15.000000"
      ]
     },
     "execution_count": 46,
     "metadata": {},
     "output_type": "execute_result"
    }
   ],
   "source": [
    "chipo.describe()"
   ]
  },
  {
   "cell_type": "code",
   "execution_count": 47,
   "id": "b9b1836f",
   "metadata": {},
   "outputs": [
    {
     "data": {
      "text/plain": [
       "1834"
      ]
     },
     "execution_count": 47,
     "metadata": {},
     "output_type": "execute_result"
    }
   ],
   "source": [
    "# 고유한 값 기준의 개수 확인\n",
    "len(chipo[\"order_id\"].unique())"
   ]
  },
  {
   "cell_type": "code",
   "execution_count": 48,
   "id": "c0e49391",
   "metadata": {},
   "outputs": [
    {
     "data": {
      "text/plain": [
       "50"
      ]
     },
     "execution_count": 48,
     "metadata": {},
     "output_type": "execute_result"
    }
   ],
   "source": [
    "len(chipo[\"item_name\"].unique())"
   ]
  },
  {
   "cell_type": "code",
   "execution_count": 49,
   "id": "96e9ac41",
   "metadata": {},
   "outputs": [
    {
     "data": {
      "text/plain": [
       "Chicken Bowl                    726\n",
       "Chicken Burrito                 553\n",
       "Chips and Guacamole             479\n",
       "Steak Burrito                   368\n",
       "Canned Soft Drink               301\n",
       "Steak Bowl                      211\n",
       "Chips                           211\n",
       "Bottled Water                   162\n",
       "Chicken Soft Tacos              115\n",
       "Chips and Fresh Tomato Salsa    110\n",
       "Name: item_name, dtype: int64"
      ]
     },
     "execution_count": 49,
     "metadata": {},
     "output_type": "execute_result"
    }
   ],
   "source": [
    "# 주문건수 기준 상위 10개 아이템 확인을 위한 추출 작업\n",
    "item_count = chipo['item_name'].value_counts()[0:10]\n",
    "item_count"
   ]
  },
  {
   "cell_type": "code",
   "execution_count": 50,
   "id": "6a2acab6",
   "metadata": {},
   "outputs": [
    {
     "name": "stdout",
     "output_type": "stream",
     "text": [
      "Top 1 : Chicken Bowl 726\n",
      "Top 2 : Chicken Burrito 553\n",
      "Top 3 : Chips and Guacamole 479\n",
      "Top 4 : Steak Burrito 368\n",
      "Top 5 : Canned Soft Drink 301\n",
      "Top 6 : Steak Bowl 211\n",
      "Top 7 : Chips 211\n",
      "Top 8 : Bottled Water 162\n",
      "Top 9 : Chicken Soft Tacos 115\n",
      "Top 10 : Chips and Fresh Tomato Salsa 110\n"
     ]
    }
   ],
   "source": [
    "# Top 1 ~ Top 10까지 아이템명과 주문건수를 형식에 맞춰 출력 및 확인\n",
    "for i, v in enumerate(item_count.iteritems(), 1):  \n",
    "  n, c = v\n",
    "  print(\"Top\", i, \":\", n, c)"
   ]
  },
  {
   "cell_type": "markdown",
   "id": "996a807d",
   "metadata": {},
   "source": [
    "# 아이템별 주문된 총량 확인"
   ]
  },
  {
   "cell_type": "code",
   "execution_count": 51,
   "id": "0a89daa6",
   "metadata": {},
   "outputs": [
    {
     "data": {
      "text/plain": [
       "item_name\n",
       "6 Pack Soft Drink                         55\n",
       "Barbacoa Bowl                             66\n",
       "Barbacoa Burrito                          91\n",
       "Barbacoa Crispy Tacos                     12\n",
       "Barbacoa Salad Bowl                       10\n",
       "Barbacoa Soft Tacos                       25\n",
       "Bottled Water                            211\n",
       "Bowl                                       4\n",
       "Burrito                                    6\n",
       "Canned Soda                              126\n",
       "Canned Soft Drink                        351\n",
       "Carnitas Bowl                             71\n",
       "Carnitas Burrito                          60\n",
       "Carnitas Crispy Tacos                      8\n",
       "Carnitas Salad                             1\n",
       "Carnitas Salad Bowl                        6\n",
       "Carnitas Soft Tacos                       40\n",
       "Chicken Bowl                             761\n",
       "Chicken Burrito                          591\n",
       "Chicken Crispy Tacos                      50\n",
       "Chicken Salad                              9\n",
       "Chicken Salad Bowl                       123\n",
       "Chicken Soft Tacos                       120\n",
       "Chips                                    230\n",
       "Chips and Fresh Tomato Salsa             130\n",
       "Chips and Guacamole                      506\n",
       "Chips and Mild Fresh Tomato Salsa          1\n",
       "Chips and Roasted Chili Corn Salsa        23\n",
       "Chips and Roasted Chili-Corn Salsa        18\n",
       "Chips and Tomatillo Green Chili Salsa     45\n",
       "Chips and Tomatillo Red Chili Salsa       50\n",
       "Chips and Tomatillo-Green Chili Salsa     33\n",
       "Chips and Tomatillo-Red Chili Salsa       25\n",
       "Crispy Tacos                               2\n",
       "Izze                                      20\n",
       "Nantucket Nectar                          29\n",
       "Salad                                      2\n",
       "Side of Chips                            110\n",
       "Steak Bowl                               221\n",
       "Steak Burrito                            386\n",
       "Steak Crispy Tacos                        36\n",
       "Steak Salad                                4\n",
       "Steak Salad Bowl                          31\n",
       "Steak Soft Tacos                          56\n",
       "Veggie Bowl                               87\n",
       "Veggie Burrito                            97\n",
       "Veggie Crispy Tacos                        1\n",
       "Veggie Salad                               6\n",
       "Veggie Salad Bowl                         18\n",
       "Veggie Soft Tacos                          8\n",
       "Name: quantity, dtype: int64"
      ]
     },
     "execution_count": 51,
     "metadata": {},
     "output_type": "execute_result"
    }
   ],
   "source": [
    "# \"quantity\" 기준으로 합계 확인\n",
    "item_quantity = chipo.groupby(\"item_name\")[\"quantity\"].sum()\n",
    "item_quantity"
   ]
  },
  {
   "cell_type": "code",
   "execution_count": 52,
   "id": "8754ed50",
   "metadata": {},
   "outputs": [],
   "source": [
    "# 시각화를 통한 아이템별 주문총량 분포 현황 확인\n",
    "x_pos = np.arange(len(item_quantity.keys()))  # 아이템명이 길기 때문에 x축은 숫자로 적용\n",
    "order_count = item_quantity.values.tolist()"
   ]
  },
  {
   "cell_type": "code",
   "execution_count": 53,
   "id": "cf401158",
   "metadata": {},
   "outputs": [
    {
     "data": {
      "image/png": "[encoded data removed]",
      "text/plain": [
       "<Figure size 432x288 with 1 Axes>"
      ]
     },
     "metadata": {
      "needs_background": "light"
     },
     "output_type": "display_data"
    }
   ],
   "source": [
    "plt.bar(x_pos, order_count)\n",
    "plt.ylabel(\"Ordered Item Count\")\n",
    "plt.title(\"Distribution of all ordered Item\")\n",
    "plt.show()"
   ]
  },
  {
   "cell_type": "markdown",
   "id": "9d70e8a3",
   "metadata": {},
   "source": [
    "### => 10개 이내의 아이템에 상당수의 주문량이 몰려있는 것으로 나타남"
   ]
  },
  {
   "cell_type": "markdown",
   "id": "2a48300c",
   "metadata": {},
   "source": [
    "# 가격정보 기준 분석"
   ]
  },
  {
   "cell_type": "code",
   "execution_count": 54,
   "id": "b1ae5d74",
   "metadata": {},
   "outputs": [
    {
     "data": {
      "text/plain": [
       "0        2.39\n",
       "1        3.39\n",
       "2        3.39\n",
       "3        2.39\n",
       "4       16.98\n",
       "        ...  \n",
       "4617    11.75\n",
       "4618    11.75\n",
       "4619    11.25\n",
       "4620     8.75\n",
       "4621     8.75\n",
       "Name: item_price, Length: 4622, dtype: float64"
      ]
     },
     "execution_count": 54,
     "metadata": {},
     "output_type": "execute_result"
    }
   ],
   "source": [
    "# 관련 데이터 전처리 작업 실시 : \"item_price\" 값에서 달러('$') 표시를 없애고 float로 변환시켜줌\n",
    "chipo[\"item_price\"] = chipo[\"item_price\"].apply(lambda x : float(x[1:]))\n",
    "chipo[\"item_price\"]"
   ]
  },
  {
   "cell_type": "markdown",
   "id": "b81252be",
   "metadata": {},
   "source": [
    "##### ※ apply()함수는 시리즈 단위의 연산을 처리하는 기능을 수행하며, sum()이나 mean()과 같이 연산이 정의된 함수를 파라미터로 받음"
   ]
  },
  {
   "cell_type": "code",
   "execution_count": 56,
   "id": "d1af97b6",
   "metadata": {},
   "outputs": [
    {
     "data": {
      "text/plain": [
       "18.811428571428568"
      ]
     },
     "execution_count": 56,
     "metadata": {},
     "output_type": "execute_result"
    }
   ],
   "source": [
    "# 주문당 평균 계산금액 확인작업 진행\n",
    "r = chipo.groupby(\"order_id\")[\"item_price\"].sum().mean()\n",
    "r"
   ]
  },
  {
   "cell_type": "code",
   "execution_count": 58,
   "id": "8d780acd",
   "metadata": {},
   "outputs": [
    {
     "data": {
      "text/plain": [
       "order_id\n",
       "20       36.20\n",
       "28       33.70\n",
       "40       32.75\n",
       "75       36.20\n",
       "93       38.20\n",
       "         ...  \n",
       "1768     31.75\n",
       "1772     32.25\n",
       "1786    114.30\n",
       "1825     66.50\n",
       "1827     32.95\n",
       "Name: item_price, Length: 143, dtype: float64"
      ]
     },
     "execution_count": 58,
     "metadata": {},
     "output_type": "execute_result"
    }
   ],
   "source": [
    "# 하나의 주문에 총 30달러 이상 지불한 주문번호(\"order_id\") 확인 작업 진행\n",
    "r = chipo.groupby(\"order_id\")[\"item_price\"].sum()\n",
    "result = r[r >= 30]  # 위 sum()의 결과가 30 이상인 것들만 추출\n",
    "result"
   ]
  },
  {
   "cell_type": "code",
   "execution_count": 63,
   "id": "9e46408f",
   "metadata": {},
   "outputs": [
    {
     "data": {
      "text/plain": [
       "array([  20,   28,   40,   75,   93,   96,  103,  110,  125,  148,  149,\n",
       "        178,  184,  186,  195,  205,  230,  231,  234,  235,  247,  276,\n",
       "        284,  304,  311,  326,  343,  346,  379,  384,  387,  389,  400,\n",
       "        402,  481,  488,  491,  511,  529,  534,  552,  561,  576,  577,\n",
       "        623,  628,  635,  649,  654,  688,  691,  708,  734,  737,  759,\n",
       "        787,  791,  806,  814,  816,  818,  823,  848,  879,  881,  888,\n",
       "        901,  907,  913,  916,  926,  948,  949,  953,  973,  996, 1006,\n",
       "       1010, 1013, 1016, 1026, 1035, 1051, 1052, 1057, 1070, 1071, 1082,\n",
       "       1091, 1167, 1170, 1176, 1182, 1189, 1193, 1223, 1228, 1243, 1248,\n",
       "       1271, 1323, 1341, 1356, 1360, 1367, 1398, 1402, 1426, 1431, 1443,\n",
       "       1449, 1453, 1454, 1461, 1483, 1511, 1533, 1554, 1559, 1577, 1586,\n",
       "       1592, 1598, 1601, 1615, 1648, 1655, 1660, 1679, 1699, 1703, 1718,\n",
       "       1719, 1737, 1738, 1761, 1764, 1766, 1768, 1772, 1786, 1825, 1827],\n",
       "      dtype=int64)"
      ]
     },
     "execution_count": 63,
     "metadata": {},
     "output_type": "execute_result"
    }
   ],
   "source": [
    "# 해당 주문번호 및 개수 확인 => 총 143개로 확인\n",
    "result.index.values"
   ]
  },
  {
   "cell_type": "code",
   "execution_count": 64,
   "id": "f247bab2",
   "metadata": {},
   "outputs": [
    {
     "data": {
      "text/plain": [
       "143"
      ]
     },
     "execution_count": 64,
     "metadata": {},
     "output_type": "execute_result"
    }
   ],
   "source": [
    "len(result.index.values)"
   ]
  },
  {
   "cell_type": "markdown",
   "id": "4d6525ab",
   "metadata": {},
   "source": [
    "# 아이템별 가격 정보 추출 및 시각화 작업"
   ]
  },
  {
   "cell_type": "code",
   "execution_count": 68,
   "id": "347e4d2b",
   "metadata": {},
   "outputs": [
    {
     "data": {
      "text/html": [
       "<div>\n",
       "<style scoped>\n",
       "    .dataframe tbody tr th:only-of-type {\n",
       "        vertical-align: middle;\n",
       "    }\n",
       "\n",
       "    .dataframe tbody tr th {\n",
       "        vertical-align: top;\n",
       "    }\n",
       "\n",
       "    .dataframe thead th {\n",
       "        text-align: right;\n",
       "    }\n",
       "</style>\n",
       "<table border=\"1\" class=\"dataframe\">\n",
       "  <thead>\n",
       "    <tr style=\"text-align: right;\">\n",
       "      <th></th>\n",
       "      <th>order_id</th>\n",
       "      <th>quantity</th>\n",
       "      <th>choice_description</th>\n",
       "      <th>item_price</th>\n",
       "    </tr>\n",
       "    <tr>\n",
       "      <th>item_name</th>\n",
       "      <th></th>\n",
       "      <th></th>\n",
       "      <th></th>\n",
       "      <th></th>\n",
       "    </tr>\n",
       "  </thead>\n",
       "  <tbody>\n",
       "    <tr>\n",
       "      <th>6 Pack Soft Drink</th>\n",
       "      <td>129</td>\n",
       "      <td>1</td>\n",
       "      <td>[Coke]</td>\n",
       "      <td>6.49</td>\n",
       "    </tr>\n",
       "    <tr>\n",
       "      <th>Barbacoa Bowl</th>\n",
       "      <td>19</td>\n",
       "      <td>1</td>\n",
       "      <td>[Fresh Tomato (Mild), [Lettuce, Black Beans, R...</td>\n",
       "      <td>8.69</td>\n",
       "    </tr>\n",
       "    <tr>\n",
       "      <th>Barbacoa Burrito</th>\n",
       "      <td>11</td>\n",
       "      <td>1</td>\n",
       "      <td>[Fresh Tomato (Mild), [Black Beans, Rice, Sour...</td>\n",
       "      <td>8.69</td>\n",
       "    </tr>\n",
       "    <tr>\n",
       "      <th>Barbacoa Crispy Tacos</th>\n",
       "      <td>75</td>\n",
       "      <td>1</td>\n",
       "      <td>[Fresh Tomato Salsa, Guacamole]</td>\n",
       "      <td>8.99</td>\n",
       "    </tr>\n",
       "    <tr>\n",
       "      <th>Barbacoa Salad Bowl</th>\n",
       "      <td>501</td>\n",
       "      <td>1</td>\n",
       "      <td>[Fresh Tomato Salsa, Guacamole]</td>\n",
       "      <td>9.39</td>\n",
       "    </tr>\n",
       "    <tr>\n",
       "      <th>Barbacoa Soft Tacos</th>\n",
       "      <td>26</td>\n",
       "      <td>1</td>\n",
       "      <td>[Fresh Tomato Salsa, [Black Beans, Cheese, Let...</td>\n",
       "      <td>8.99</td>\n",
       "    </tr>\n",
       "    <tr>\n",
       "      <th>Bottled Water</th>\n",
       "      <td>17</td>\n",
       "      <td>1</td>\n",
       "      <td>NaN</td>\n",
       "      <td>1.09</td>\n",
       "    </tr>\n",
       "    <tr>\n",
       "      <th>Bowl</th>\n",
       "      <td>279</td>\n",
       "      <td>1</td>\n",
       "      <td>[Adobo-Marinated and Grilled Steak, [Sour Crea...</td>\n",
       "      <td>7.40</td>\n",
       "    </tr>\n",
       "    <tr>\n",
       "      <th>Burrito</th>\n",
       "      <td>214</td>\n",
       "      <td>1</td>\n",
       "      <td>[Adobo-Marinated and Grilled Chicken, Pinto Be...</td>\n",
       "      <td>7.40</td>\n",
       "    </tr>\n",
       "    <tr>\n",
       "      <th>Canned Soda</th>\n",
       "      <td>14</td>\n",
       "      <td>1</td>\n",
       "      <td>[Coca Cola]</td>\n",
       "      <td>1.09</td>\n",
       "    </tr>\n",
       "    <tr>\n",
       "      <th>Canned Soft Drink</th>\n",
       "      <td>114</td>\n",
       "      <td>1</td>\n",
       "      <td>[Coke]</td>\n",
       "      <td>1.25</td>\n",
       "    </tr>\n",
       "    <tr>\n",
       "      <th>Carnitas Bowl</th>\n",
       "      <td>17</td>\n",
       "      <td>1</td>\n",
       "      <td>[Fresh Tomato (Mild), [Guacamole, Lettuce, Ric...</td>\n",
       "      <td>8.99</td>\n",
       "    </tr>\n",
       "    <tr>\n",
       "      <th>Carnitas Burrito</th>\n",
       "      <td>14</td>\n",
       "      <td>1</td>\n",
       "      <td>[Fresh Tomato (Mild), [Lettuce, Black Beans, G...</td>\n",
       "      <td>8.69</td>\n",
       "    </tr>\n",
       "    <tr>\n",
       "      <th>Carnitas Crispy Tacos</th>\n",
       "      <td>230</td>\n",
       "      <td>1</td>\n",
       "      <td>[Fresh Tomato Salsa, [Fajita Vegetables, Rice,...</td>\n",
       "      <td>8.99</td>\n",
       "    </tr>\n",
       "    <tr>\n",
       "      <th>Carnitas Salad</th>\n",
       "      <td>1500</td>\n",
       "      <td>1</td>\n",
       "      <td>[[Fresh Tomato Salsa (Mild), Roasted Chili Cor...</td>\n",
       "      <td>8.99</td>\n",
       "    </tr>\n",
       "    <tr>\n",
       "      <th>Carnitas Salad Bowl</th>\n",
       "      <td>468</td>\n",
       "      <td>1</td>\n",
       "      <td>[Fresh Tomato Salsa, [Rice, Black Beans, Chees...</td>\n",
       "      <td>9.39</td>\n",
       "    </tr>\n",
       "    <tr>\n",
       "      <th>Carnitas Soft Tacos</th>\n",
       "      <td>103</td>\n",
       "      <td>1</td>\n",
       "      <td>[Fresh Tomato Salsa (Mild), [Black Beans, Rice...</td>\n",
       "      <td>8.99</td>\n",
       "    </tr>\n",
       "    <tr>\n",
       "      <th>Chicken Bowl</th>\n",
       "      <td>3</td>\n",
       "      <td>1</td>\n",
       "      <td>[Fresh Tomato (Mild), [Guacamole, Rice]]</td>\n",
       "      <td>8.19</td>\n",
       "    </tr>\n",
       "    <tr>\n",
       "      <th>Chicken Burrito</th>\n",
       "      <td>8</td>\n",
       "      <td>1</td>\n",
       "      <td>[Fresh Tomato (Mild), [Black Beans, Rice, Sour...</td>\n",
       "      <td>8.19</td>\n",
       "    </tr>\n",
       "    <tr>\n",
       "      <th>Chicken Crispy Tacos</th>\n",
       "      <td>6</td>\n",
       "      <td>1</td>\n",
       "      <td>[Fresh Tomato Salsa (Mild), Fajita Veggies]</td>\n",
       "      <td>8.49</td>\n",
       "    </tr>\n",
       "    <tr>\n",
       "      <th>Chicken Salad</th>\n",
       "      <td>109</td>\n",
       "      <td>1</td>\n",
       "      <td>[Fresh Tomato Salsa (Mild), Black Beans]</td>\n",
       "      <td>8.19</td>\n",
       "    </tr>\n",
       "    <tr>\n",
       "      <th>Chicken Salad Bowl</th>\n",
       "      <td>20</td>\n",
       "      <td>1</td>\n",
       "      <td>[Fresh Tomato Salsa, Fajita Vegetables]</td>\n",
       "      <td>8.75</td>\n",
       "    </tr>\n",
       "    <tr>\n",
       "      <th>Chicken Soft Tacos</th>\n",
       "      <td>6</td>\n",
       "      <td>1</td>\n",
       "      <td>[Fresh Tomato Salsa (Mild), [Black Beans, Rice...</td>\n",
       "      <td>8.49</td>\n",
       "    </tr>\n",
       "    <tr>\n",
       "      <th>Chips</th>\n",
       "      <td>19</td>\n",
       "      <td>1</td>\n",
       "      <td>NaN</td>\n",
       "      <td>1.99</td>\n",
       "    </tr>\n",
       "    <tr>\n",
       "      <th>Chips and Fresh Tomato Salsa</th>\n",
       "      <td>1</td>\n",
       "      <td>1</td>\n",
       "      <td>NaN</td>\n",
       "      <td>2.29</td>\n",
       "    </tr>\n",
       "    <tr>\n",
       "      <th>Chips and Guacamole</th>\n",
       "      <td>5</td>\n",
       "      <td>1</td>\n",
       "      <td>NaN</td>\n",
       "      <td>3.89</td>\n",
       "    </tr>\n",
       "    <tr>\n",
       "      <th>Chips and Mild Fresh Tomato Salsa</th>\n",
       "      <td>279</td>\n",
       "      <td>1</td>\n",
       "      <td>NaN</td>\n",
       "      <td>3.00</td>\n",
       "    </tr>\n",
       "    <tr>\n",
       "      <th>Chips and Roasted Chili Corn Salsa</th>\n",
       "      <td>102</td>\n",
       "      <td>1</td>\n",
       "      <td>NaN</td>\n",
       "      <td>2.95</td>\n",
       "    </tr>\n",
       "    <tr>\n",
       "      <th>Chips and Roasted Chili-Corn Salsa</th>\n",
       "      <td>85</td>\n",
       "      <td>1</td>\n",
       "      <td>NaN</td>\n",
       "      <td>2.39</td>\n",
       "    </tr>\n",
       "    <tr>\n",
       "      <th>Chips and Tomatillo Green Chili Salsa</th>\n",
       "      <td>18</td>\n",
       "      <td>1</td>\n",
       "      <td>NaN</td>\n",
       "      <td>2.95</td>\n",
       "    </tr>\n",
       "    <tr>\n",
       "      <th>Chips and Tomatillo Red Chili Salsa</th>\n",
       "      <td>49</td>\n",
       "      <td>1</td>\n",
       "      <td>NaN</td>\n",
       "      <td>2.95</td>\n",
       "    </tr>\n",
       "    <tr>\n",
       "      <th>Chips and Tomatillo-Green Chili Salsa</th>\n",
       "      <td>1</td>\n",
       "      <td>1</td>\n",
       "      <td>NaN</td>\n",
       "      <td>2.39</td>\n",
       "    </tr>\n",
       "    <tr>\n",
       "      <th>Chips and Tomatillo-Red Chili Salsa</th>\n",
       "      <td>130</td>\n",
       "      <td>1</td>\n",
       "      <td>NaN</td>\n",
       "      <td>2.39</td>\n",
       "    </tr>\n",
       "    <tr>\n",
       "      <th>Crispy Tacos</th>\n",
       "      <td>217</td>\n",
       "      <td>1</td>\n",
       "      <td>[Adobo-Marinated and Grilled Chicken]</td>\n",
       "      <td>7.40</td>\n",
       "    </tr>\n",
       "    <tr>\n",
       "      <th>Izze</th>\n",
       "      <td>1</td>\n",
       "      <td>1</td>\n",
       "      <td>[Blackberry]</td>\n",
       "      <td>3.39</td>\n",
       "    </tr>\n",
       "    <tr>\n",
       "      <th>Nantucket Nectar</th>\n",
       "      <td>1</td>\n",
       "      <td>1</td>\n",
       "      <td>[Apple]</td>\n",
       "      <td>3.39</td>\n",
       "    </tr>\n",
       "    <tr>\n",
       "      <th>Salad</th>\n",
       "      <td>575</td>\n",
       "      <td>1</td>\n",
       "      <td>[Brown Rice, Adobo-Marinated and Grilled Chick...</td>\n",
       "      <td>7.40</td>\n",
       "    </tr>\n",
       "    <tr>\n",
       "      <th>Side of Chips</th>\n",
       "      <td>3</td>\n",
       "      <td>1</td>\n",
       "      <td>NaN</td>\n",
       "      <td>1.69</td>\n",
       "    </tr>\n",
       "    <tr>\n",
       "      <th>Steak Bowl</th>\n",
       "      <td>25</td>\n",
       "      <td>1</td>\n",
       "      <td>[Fresh Tomato (Mild), [Guacamole, Lettuce, Pin...</td>\n",
       "      <td>8.69</td>\n",
       "    </tr>\n",
       "    <tr>\n",
       "      <th>Steak Burrito</th>\n",
       "      <td>4</td>\n",
       "      <td>1</td>\n",
       "      <td>[Brown Rice]</td>\n",
       "      <td>8.69</td>\n",
       "    </tr>\n",
       "    <tr>\n",
       "      <th>Steak Crispy Tacos</th>\n",
       "      <td>40</td>\n",
       "      <td>1</td>\n",
       "      <td>[Fresh Tomato (Mild), [Lettuce, Cheese]]</td>\n",
       "      <td>8.69</td>\n",
       "    </tr>\n",
       "    <tr>\n",
       "      <th>Steak Salad</th>\n",
       "      <td>276</td>\n",
       "      <td>1</td>\n",
       "      <td>[Fresh Tomato Salsa (Mild), [Rice, Cheese, Sou...</td>\n",
       "      <td>8.69</td>\n",
       "    </tr>\n",
       "    <tr>\n",
       "      <th>Steak Salad Bowl</th>\n",
       "      <td>250</td>\n",
       "      <td>1</td>\n",
       "      <td>[Fresh Tomato Salsa, Lettuce]</td>\n",
       "      <td>9.39</td>\n",
       "    </tr>\n",
       "    <tr>\n",
       "      <th>Steak Soft Tacos</th>\n",
       "      <td>4</td>\n",
       "      <td>1</td>\n",
       "      <td>[Fresh Tomato Salsa (Mild), [Cheese, Sour Cream]]</td>\n",
       "      <td>8.99</td>\n",
       "    </tr>\n",
       "    <tr>\n",
       "      <th>Veggie Bowl</th>\n",
       "      <td>28</td>\n",
       "      <td>1</td>\n",
       "      <td>[Fresh Tomato Salsa (Mild), [Pinto Beans, Blac...</td>\n",
       "      <td>8.49</td>\n",
       "    </tr>\n",
       "    <tr>\n",
       "      <th>Veggie Burrito</th>\n",
       "      <td>26</td>\n",
       "      <td>1</td>\n",
       "      <td>[Fresh Tomato Salsa (Mild), [Black Beans, Faji...</td>\n",
       "      <td>8.49</td>\n",
       "    </tr>\n",
       "    <tr>\n",
       "      <th>Veggie Crispy Tacos</th>\n",
       "      <td>668</td>\n",
       "      <td>1</td>\n",
       "      <td>[Fresh Tomato Salsa (Mild), [Pinto Beans, Rice...</td>\n",
       "      <td>8.49</td>\n",
       "    </tr>\n",
       "    <tr>\n",
       "      <th>Veggie Salad</th>\n",
       "      <td>686</td>\n",
       "      <td>1</td>\n",
       "      <td>[Roasted Chili Corn Salsa (Medium), [Black Bea...</td>\n",
       "      <td>8.49</td>\n",
       "    </tr>\n",
       "    <tr>\n",
       "      <th>Veggie Salad Bowl</th>\n",
       "      <td>83</td>\n",
       "      <td>1</td>\n",
       "      <td>[Fresh Tomato Salsa, [Fajita Vegetables, Black...</td>\n",
       "      <td>8.75</td>\n",
       "    </tr>\n",
       "    <tr>\n",
       "      <th>Veggie Soft Tacos</th>\n",
       "      <td>304</td>\n",
       "      <td>1</td>\n",
       "      <td>[Fresh Tomato Salsa (Mild), [Pinto Beans, Rice...</td>\n",
       "      <td>8.49</td>\n",
       "    </tr>\n",
       "  </tbody>\n",
       "</table>\n",
       "</div>"
      ],
      "text/plain": [
       "                                       order_id  quantity  \\\n",
       "item_name                                                   \n",
       "6 Pack Soft Drink                           129         1   \n",
       "Barbacoa Bowl                                19         1   \n",
       "Barbacoa Burrito                             11         1   \n",
       "Barbacoa Crispy Tacos                        75         1   \n",
       "Barbacoa Salad Bowl                         501         1   \n",
       "Barbacoa Soft Tacos                          26         1   \n",
       "Bottled Water                                17         1   \n",
       "Bowl                                        279         1   \n",
       "Burrito                                     214         1   \n",
       "Canned Soda                                  14         1   \n",
       "Canned Soft Drink                           114         1   \n",
       "Carnitas Bowl                                17         1   \n",
       "Carnitas Burrito                             14         1   \n",
       "Carnitas Crispy Tacos                       230         1   \n",
       "Carnitas Salad                             1500         1   \n",
       "Carnitas Salad Bowl                         468         1   \n",
       "Carnitas Soft Tacos                         103         1   \n",
       "Chicken Bowl                                  3         1   \n",
       "Chicken Burrito                               8         1   \n",
       "Chicken Crispy Tacos                          6         1   \n",
       "Chicken Salad                               109         1   \n",
       "Chicken Salad Bowl                           20         1   \n",
       "Chicken Soft Tacos                            6         1   \n",
       "Chips                                        19         1   \n",
       "Chips and Fresh Tomato Salsa                  1         1   \n",
       "Chips and Guacamole                           5         1   \n",
       "Chips and Mild Fresh Tomato Salsa           279         1   \n",
       "Chips and Roasted Chili Corn Salsa          102         1   \n",
       "Chips and Roasted Chili-Corn Salsa           85         1   \n",
       "Chips and Tomatillo Green Chili Salsa        18         1   \n",
       "Chips and Tomatillo Red Chili Salsa          49         1   \n",
       "Chips and Tomatillo-Green Chili Salsa         1         1   \n",
       "Chips and Tomatillo-Red Chili Salsa         130         1   \n",
       "Crispy Tacos                                217         1   \n",
       "Izze                                          1         1   \n",
       "Nantucket Nectar                              1         1   \n",
       "Salad                                       575         1   \n",
       "Side of Chips                                 3         1   \n",
       "Steak Bowl                                   25         1   \n",
       "Steak Burrito                                 4         1   \n",
       "Steak Crispy Tacos                           40         1   \n",
       "Steak Salad                                 276         1   \n",
       "Steak Salad Bowl                            250         1   \n",
       "Steak Soft Tacos                              4         1   \n",
       "Veggie Bowl                                  28         1   \n",
       "Veggie Burrito                               26         1   \n",
       "Veggie Crispy Tacos                         668         1   \n",
       "Veggie Salad                                686         1   \n",
       "Veggie Salad Bowl                            83         1   \n",
       "Veggie Soft Tacos                           304         1   \n",
       "\n",
       "                                                                      choice_description  \\\n",
       "item_name                                                                                  \n",
       "6 Pack Soft Drink                                                                 [Coke]   \n",
       "Barbacoa Bowl                          [Fresh Tomato (Mild), [Lettuce, Black Beans, R...   \n",
       "Barbacoa Burrito                       [Fresh Tomato (Mild), [Black Beans, Rice, Sour...   \n",
       "Barbacoa Crispy Tacos                                    [Fresh Tomato Salsa, Guacamole]   \n",
       "Barbacoa Salad Bowl                                      [Fresh Tomato Salsa, Guacamole]   \n",
       "Barbacoa Soft Tacos                    [Fresh Tomato Salsa, [Black Beans, Cheese, Let...   \n",
       "Bottled Water                                                                        NaN   \n",
       "Bowl                                   [Adobo-Marinated and Grilled Steak, [Sour Crea...   \n",
       "Burrito                                [Adobo-Marinated and Grilled Chicken, Pinto Be...   \n",
       "Canned Soda                                                                  [Coca Cola]   \n",
       "Canned Soft Drink                                                                 [Coke]   \n",
       "Carnitas Bowl                          [Fresh Tomato (Mild), [Guacamole, Lettuce, Ric...   \n",
       "Carnitas Burrito                       [Fresh Tomato (Mild), [Lettuce, Black Beans, G...   \n",
       "Carnitas Crispy Tacos                  [Fresh Tomato Salsa, [Fajita Vegetables, Rice,...   \n",
       "Carnitas Salad                         [[Fresh Tomato Salsa (Mild), Roasted Chili Cor...   \n",
       "Carnitas Salad Bowl                    [Fresh Tomato Salsa, [Rice, Black Beans, Chees...   \n",
       "Carnitas Soft Tacos                    [Fresh Tomato Salsa (Mild), [Black Beans, Rice...   \n",
       "Chicken Bowl                                    [Fresh Tomato (Mild), [Guacamole, Rice]]   \n",
       "Chicken Burrito                        [Fresh Tomato (Mild), [Black Beans, Rice, Sour...   \n",
       "Chicken Crispy Tacos                         [Fresh Tomato Salsa (Mild), Fajita Veggies]   \n",
       "Chicken Salad                                   [Fresh Tomato Salsa (Mild), Black Beans]   \n",
       "Chicken Salad Bowl                               [Fresh Tomato Salsa, Fajita Vegetables]   \n",
       "Chicken Soft Tacos                     [Fresh Tomato Salsa (Mild), [Black Beans, Rice...   \n",
       "Chips                                                                                NaN   \n",
       "Chips and Fresh Tomato Salsa                                                         NaN   \n",
       "Chips and Guacamole                                                                  NaN   \n",
       "Chips and Mild Fresh Tomato Salsa                                                    NaN   \n",
       "Chips and Roasted Chili Corn Salsa                                                   NaN   \n",
       "Chips and Roasted Chili-Corn Salsa                                                   NaN   \n",
       "Chips and Tomatillo Green Chili Salsa                                                NaN   \n",
       "Chips and Tomatillo Red Chili Salsa                                                  NaN   \n",
       "Chips and Tomatillo-Green Chili Salsa                                                NaN   \n",
       "Chips and Tomatillo-Red Chili Salsa                                                  NaN   \n",
       "Crispy Tacos                                       [Adobo-Marinated and Grilled Chicken]   \n",
       "Izze                                                                        [Blackberry]   \n",
       "Nantucket Nectar                                                                 [Apple]   \n",
       "Salad                                  [Brown Rice, Adobo-Marinated and Grilled Chick...   \n",
       "Side of Chips                                                                        NaN   \n",
       "Steak Bowl                             [Fresh Tomato (Mild), [Guacamole, Lettuce, Pin...   \n",
       "Steak Burrito                                                               [Brown Rice]   \n",
       "Steak Crispy Tacos                              [Fresh Tomato (Mild), [Lettuce, Cheese]]   \n",
       "Steak Salad                            [Fresh Tomato Salsa (Mild), [Rice, Cheese, Sou...   \n",
       "Steak Salad Bowl                                           [Fresh Tomato Salsa, Lettuce]   \n",
       "Steak Soft Tacos                       [Fresh Tomato Salsa (Mild), [Cheese, Sour Cream]]   \n",
       "Veggie Bowl                            [Fresh Tomato Salsa (Mild), [Pinto Beans, Blac...   \n",
       "Veggie Burrito                         [Fresh Tomato Salsa (Mild), [Black Beans, Faji...   \n",
       "Veggie Crispy Tacos                    [Fresh Tomato Salsa (Mild), [Pinto Beans, Rice...   \n",
       "Veggie Salad                           [Roasted Chili Corn Salsa (Medium), [Black Bea...   \n",
       "Veggie Salad Bowl                      [Fresh Tomato Salsa, [Fajita Vegetables, Black...   \n",
       "Veggie Soft Tacos                      [Fresh Tomato Salsa (Mild), [Pinto Beans, Rice...   \n",
       "\n",
       "                                       item_price  \n",
       "item_name                                          \n",
       "6 Pack Soft Drink                            6.49  \n",
       "Barbacoa Bowl                                8.69  \n",
       "Barbacoa Burrito                             8.69  \n",
       "Barbacoa Crispy Tacos                        8.99  \n",
       "Barbacoa Salad Bowl                          9.39  \n",
       "Barbacoa Soft Tacos                          8.99  \n",
       "Bottled Water                                1.09  \n",
       "Bowl                                         7.40  \n",
       "Burrito                                      7.40  \n",
       "Canned Soda                                  1.09  \n",
       "Canned Soft Drink                            1.25  \n",
       "Carnitas Bowl                                8.99  \n",
       "Carnitas Burrito                             8.69  \n",
       "Carnitas Crispy Tacos                        8.99  \n",
       "Carnitas Salad                               8.99  \n",
       "Carnitas Salad Bowl                          9.39  \n",
       "Carnitas Soft Tacos                          8.99  \n",
       "Chicken Bowl                                 8.19  \n",
       "Chicken Burrito                              8.19  \n",
       "Chicken Crispy Tacos                         8.49  \n",
       "Chicken Salad                                8.19  \n",
       "Chicken Salad Bowl                           8.75  \n",
       "Chicken Soft Tacos                           8.49  \n",
       "Chips                                        1.99  \n",
       "Chips and Fresh Tomato Salsa                 2.29  \n",
       "Chips and Guacamole                          3.89  \n",
       "Chips and Mild Fresh Tomato Salsa            3.00  \n",
       "Chips and Roasted Chili Corn Salsa           2.95  \n",
       "Chips and Roasted Chili-Corn Salsa           2.39  \n",
       "Chips and Tomatillo Green Chili Salsa        2.95  \n",
       "Chips and Tomatillo Red Chili Salsa          2.95  \n",
       "Chips and Tomatillo-Green Chili Salsa        2.39  \n",
       "Chips and Tomatillo-Red Chili Salsa          2.39  \n",
       "Crispy Tacos                                 7.40  \n",
       "Izze                                         3.39  \n",
       "Nantucket Nectar                             3.39  \n",
       "Salad                                        7.40  \n",
       "Side of Chips                                1.69  \n",
       "Steak Bowl                                   8.69  \n",
       "Steak Burrito                                8.69  \n",
       "Steak Crispy Tacos                           8.69  \n",
       "Steak Salad                                  8.69  \n",
       "Steak Salad Bowl                             9.39  \n",
       "Steak Soft Tacos                             8.99  \n",
       "Veggie Bowl                                  8.49  \n",
       "Veggie Burrito                               8.49  \n",
       "Veggie Crispy Tacos                          8.49  \n",
       "Veggie Salad                                 8.49  \n",
       "Veggie Salad Bowl                            8.75  \n",
       "Veggie Soft Tacos                            8.49  "
      ]
     },
     "execution_count": 68,
     "metadata": {},
     "output_type": "execute_result"
    }
   ],
   "source": [
    "r = chipo[chipo.quantity == 1]  # \"quantity\"가 1인 경우만 추출\n",
    "result = r.groupby(\"item_name\").min()  # 위 결과에 대해 \"item_name\" 그룹핑 후, 최소값 기준 추출 => 아이템별 한개씩만 출력하기 위함\n",
    "result.sort_values(by=\"item_price\", ascending=False)  # \"item_price\"기준 내림차순으로 정렬\n",
    "result"
   ]
  },
  {
   "cell_type": "code",
   "execution_count": 69,
   "id": "4bbe289d",
   "metadata": {},
   "outputs": [],
   "source": [
    "# 위 결과 시각화 작업\n",
    "x_pos = np.arange(len(result.index.tolist()))  # \"item_name\" 개수만큼 숫자로 저장\n",
    "price_per_item = result.item_price.tolist()  # 가격 정보를 배열에 담기"
   ]
  },
  {
   "cell_type": "code",
   "execution_count": 73,
   "id": "cccfeb03",
   "metadata": {},
   "outputs": [
    {
     "data": {
      "image/png": "[encoded data removed]",
      "text/plain": [
       "<Figure size 432x288 with 1 Axes>"
      ]
     },
     "metadata": {
      "needs_background": "light"
     },
     "output_type": "display_data"
    }
   ],
   "source": [
    "# 바 그래프로 표현\n",
    "plt.bar(x_pos, price_per_item)\n",
    "plt.ylabel(\"Item Price($)\")\n",
    "plt.title(\"Distribution of item price\")\n",
    "plt.show()"
   ]
  },
  {
   "cell_type": "code",
   "execution_count": 74,
   "id": "4253e40b",
   "metadata": {},
   "outputs": [
    {
     "data": {
      "image/png": "[encoded data removed]",
      "text/plain": [
       "<Figure size 432x288 with 1 Axes>"
      ]
     },
     "metadata": {
      "needs_background": "light"
     },
     "output_type": "display_data"
    }
   ],
   "source": [
    "# 초록색 점 그래프로 표현\n",
    "plt.plot(x_pos, price_per_item, \"go\")\n",
    "plt.axis([-1, 50, 0, 15])\n",
    "plt.ylabel(\"Item Price($)\")\n",
    "plt.title(\"Distribution of item price\")\n",
    "plt.show()"
   ]
  },
  {
   "cell_type": "code",
   "execution_count": 75,
   "id": "09bcddb1",
   "metadata": {},
   "outputs": [
    {
     "data": {
      "image/png": "[encoded data removed]",
      "text/plain": [
       "<Figure size 432x288 with 1 Axes>"
      ]
     },
     "metadata": {
      "needs_background": "light"
     },
     "output_type": "display_data"
    }
   ],
   "source": [
    "# 히스토그램으로 표현\n",
    "plt.hist(price_per_item)\n",
    "plt.ylabel(\"Counts\")\n",
    "plt.title(\"Histogram of item price\")\n",
    "plt.show()"
   ]
  },
  {
   "cell_type": "markdown",
   "id": "bf8dec7b",
   "metadata": {},
   "source": [
    "### => 가격대는 주로 8 ~ 9달러와 2 ~ 3달러 수준으로 나누어지며, 특히 8~9달러에 집중되어 분포된 것을 확인"
   ]
  }
 ],
 "metadata": {
  "kernelspec": {
   "display_name": "Python 3 (ipykernel)",
   "language": "python",
   "name": "python3"
  },
  "language_info": {
   "codemirror_mode": {
    "name": "ipython",
    "version": 3
   },
   "file_extension": ".py",
   "mimetype": "text/x-python",
   "name": "python",
   "nbconvert_exporter": "python",
   "pygments_lexer": "ipython3",
   "version": "3.8.10"
  }
 },
 "nbformat": 4,
 "nbformat_minor": 5
}
